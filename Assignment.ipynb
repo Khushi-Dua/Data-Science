{
 "cells": [
  {
   "cell_type": "markdown",
   "id": "9ba97e81",
   "metadata": {},
   "source": [
    "# ASSIGNMENT 1\n"
   ]
  },
  {
   "cell_type": "code",
   "execution_count": 1,
   "id": "04e9eb68",
   "metadata": {},
   "outputs": [
    {
     "name": "stdout",
     "output_type": "stream",
     "text": [
      "Enter percent:90\n",
      "A\n"
     ]
    }
   ],
   "source": [
    "#SOLUTION 13\n",
    "def grade(percentage):\n",
    "    if percentage>=90 and percentage<=100:\n",
    "        Grade='A'\n",
    "    elif percentage>=80 and percentage<90:\n",
    "        Grade='B'\n",
    "    elif percentage>=70 and percentage<80:\n",
    "        Grade='C'\n",
    "    elif percentage>60 and percentage<70:\n",
    "        Grade='D'\n",
    "    else:\n",
    "        Grade='E'\n",
    "    print(Grade)\n",
    "\n",
    "    \n",
    "percent=int(input(\"Enter percent:\"))\n",
    "grade(percent)\n",
    "\n"
   ]
  },
  {
   "cell_type": "code",
   "execution_count": 2,
   "id": "87539363",
   "metadata": {},
   "outputs": [
    {
     "name": "stdout",
     "output_type": "stream",
     "text": [
      "The Prime nos. between 1 to 100 are as follows:\n",
      "2,3,5,7,11,13,17,19,23,29,31,37,41,43,47,53,59,61,67,71,73,79,83,89,97,"
     ]
    }
   ],
   "source": [
    "#SOLUTION 14\n",
    "\n",
    "print(\"The Prime nos. between 1 to 100 are as follows:\")\n",
    "for i in range(2,101):\n",
    "    for j in range(2,101):\n",
    "            if i%j == 0:\n",
    "\n",
    "                break\n",
    "    if i == j:\n",
    "        print(i,end=\",\")\n"
   ]
  },
  {
   "cell_type": "code",
   "execution_count": 3,
   "id": "429a0788",
   "metadata": {},
   "outputs": [
    {
     "name": "stdout",
     "output_type": "stream",
     "text": [
      "40\n",
      "2\n",
      "Hello!_Python_is_a_very_useful_programing_language\n"
     ]
    }
   ],
   "source": [
    "#SOLUTION 15\n",
    "str=\"Hello! Python is a very useful programing language\"\n",
    "lower=0\n",
    "upper=0\n",
    "modifiedsentence=\"\"\n",
    "for i in str:\n",
    "    if i.islower():\n",
    "        lower+=1\n",
    "        modifiedsentence+=i\n",
    "    elif i.isupper():\n",
    "        upper+=1\n",
    "        modifiedsentence+=i\n",
    "    elif i==\" \":\n",
    "       modifiedsentence +='_'\n",
    "    else:\n",
    "        modifiedsentence+=i\n",
    "print(lower)  \n",
    "print(upper)\n",
    "print(modifiedsentence)"
   ]
  },
  {
   "cell_type": "code",
   "execution_count": 4,
   "id": "56e72fa9",
   "metadata": {},
   "outputs": [
    {
     "name": "stdout",
     "output_type": "stream",
     "text": [
      "Python version: 3.11.5 | packaged by Anaconda, Inc. | (main, Sep 11 2023, 13:26:23) [MSC v.1916 64 bit (AMD64)]\n"
     ]
    }
   ],
   "source": [
    "#Solution 16\n",
    "import sys\n",
    "\n",
    "# Print the Python version using the sys.version attribute\n",
    "print(f\"Python version: {sys.version}\")"
   ]
  },
  {
   "cell_type": "code",
   "execution_count": 5,
   "id": "55053fb9",
   "metadata": {},
   "outputs": [
    {
     "ename": "TypeError",
     "evalue": "'str' object is not callable",
     "output_type": "error",
     "traceback": [
      "\u001b[1;31m---------------------------------------------------------------------------\u001b[0m",
      "\u001b[1;31mTypeError\u001b[0m                                 Traceback (most recent call last)",
      "Cell \u001b[1;32mIn[5], line 2\u001b[0m\n\u001b[0;32m      1\u001b[0m my_int \u001b[38;5;241m=\u001b[39m \u001b[38;5;241m1234\u001b[39m\n\u001b[1;32m----> 2\u001b[0m strlist\u001b[38;5;241m=\u001b[39m\u001b[38;5;28mstr\u001b[39m(my_int)\n\u001b[0;32m      3\u001b[0m intlist\u001b[38;5;241m=\u001b[39m[]\n\u001b[0;32m      4\u001b[0m \u001b[38;5;28;01mfor\u001b[39;00m i \u001b[38;5;129;01min\u001b[39;00m strlist:\n",
      "\u001b[1;31mTypeError\u001b[0m: 'str' object is not callable"
     ]
    }
   ],
   "source": [
    "my_int = 1234\n",
    "strlist=str(my_int)\n",
    "intlist=[]\n",
    "for i in strlist:\n",
    "    intlist.append(i)\n",
    "\n",
    "int(intlist[0])+int(intlist[-1])\n",
    "\n"
   ]
  },
  {
   "cell_type": "code",
   "execution_count": 7,
   "id": "973b7ac9",
   "metadata": {},
   "outputs": [
    {
     "name": "stdout",
     "output_type": "stream",
     "text": [
      "Enter no. of class scheduled:12\n",
      "Enter no. of class attended:10\n",
      "Your class attendance percentage is: 83.33333333333334\n",
      "You are allowed to give examination\n"
     ]
    }
   ],
   "source": [
    "classscheduled=int(input(\"Enter no. of class scheduled:\"))\n",
    "classattended=int(input(\"Enter no. of class attended:\"))\n",
    "percentage=(classattended/classscheduled)*100\n",
    "print(\"Your class attendance percentage is:\",percentage)\n",
    "if percentage>=75:\n",
    "    print(\"You are allowed to give examination\")\n",
    "else:\n",
    "    medicalissue=input(\"Did u had any medical issue(y/n):\")\n",
    "    if medicalissue==\"y\":\n",
    "        print(\"You are allowed to give examination\")\n",
    "    elif medicalissue==\"n\":\n",
    "        print(\"You are not allowed to give examination\")\n",
    "    else:\n",
    "        print(\"Wrong input\")"
   ]
  },
  {
   "cell_type": "markdown",
   "id": "6f4da46f",
   "metadata": {},
   "source": [
    "# ASSIGNMENT 2"
   ]
  },
  {
   "cell_type": "code",
   "execution_count": 10,
   "id": "e43be529",
   "metadata": {},
   "outputs": [
    {
     "name": "stdout",
     "output_type": "stream",
     "text": [
      "(1, 2, 3, 4, 6, 7, 8, 9, 10)\n",
      "3,6,9,12,18,21,24,27,30,"
     ]
    }
   ],
   "source": [
    "#Sol 1\n",
    "t1=(1,2,3,4)\n",
    "t2=(6,7,8,9,10)\n",
    "t3=t1+t2\n",
    "print(t3)\n",
    "\n",
    "for i in t3:\n",
    "    print(i*3,end=\",\")\n",
    "   "
   ]
  },
  {
   "cell_type": "code",
   "execution_count": 12,
   "id": "57369682",
   "metadata": {},
   "outputs": [
    {
     "data": {
      "text/plain": [
       "3"
      ]
     },
     "execution_count": 12,
     "metadata": {},
     "output_type": "execute_result"
    }
   ],
   "source": [
    "#Sol 2\n",
    "l1=[1,2,3,4,[1,2,3]]\n",
    "l1[4][-1]"
   ]
  },
  {
   "cell_type": "code",
   "execution_count": 15,
   "id": "70cb86e1",
   "metadata": {},
   "outputs": [
    {
     "name": "stdout",
     "output_type": "stream",
     "text": [
      "Enter the string:abcd efgh\n"
     ]
    },
    {
     "data": {
      "text/plain": [
       "'hgfe dcba'"
      ]
     },
     "execution_count": 15,
     "metadata": {},
     "output_type": "execute_result"
    }
   ],
   "source": [
    "#Sol 3\n",
    "str1=input(\"Enter the string:\")\n",
    "str1[::-1]"
   ]
  },
  {
   "cell_type": "code",
   "execution_count": 19,
   "id": "6163f4a8",
   "metadata": {},
   "outputs": [
    {
     "name": "stdout",
     "output_type": "stream",
     "text": [
      "(1, 2, 3, 4, 5, 6, 27, 8, 9, 10, 11, 12)\n",
      "6\n",
      "6\n",
      "12\n"
     ]
    }
   ],
   "source": [
    "#Sol 4\n",
    "t1=(1,2,3,4,5,6)\n",
    "t2=(27,8,9,10,11,12)\n",
    "t3=t1+t2\n",
    "print(t3)\n",
    "print(len(t1))\n",
    "print(len(t2))\n",
    "print(len(t3))"
   ]
  },
  {
   "cell_type": "code",
   "execution_count": 28,
   "id": "bd9d8d94",
   "metadata": {},
   "outputs": [
    {
     "name": "stdout",
     "output_type": "stream",
     "text": [
      "Union: {1, 2, 3, 4, 5, 6}\n",
      "Intersection: {2, 3}\n"
     ]
    }
   ],
   "source": [
    "#Sol 5\n",
    "    \n",
    "set1 = {1, 2, 3, 4}\n",
    "set2 = {2, 3, 5, 6}\n",
    "\n",
    "union = set1 | set2\n",
    "\n",
    " \n",
    "intersection = set1 & set2\n",
    "\n",
    "  \n",
    "print(\"Union:\", union)\n",
    "print(\"Intersection:\", intersection)"
   ]
  },
  {
   "cell_type": "code",
   "execution_count": 29,
   "id": "b673c806",
   "metadata": {},
   "outputs": [
    {
     "name": "stdout",
     "output_type": "stream",
     "text": [
      "10\n",
      "Phone number information not found\n"
     ]
    }
   ],
   "source": [
    "#Solution 10\n",
    "student_info = {\"name\": \"Alice\", \"age\": 15, \"grade\": 10}\n",
    "\n",
    "grade = student_info.get(\"grade\", \"Grade information not found\")\n",
    "print(grade) \n",
    "\n",
    "\n",
    "phone_number = student_info.get(\"phone_number\", \"Phone number information not found\")\n",
    "print(phone_number)  \n",
    "\n"
   ]
  },
  {
   "cell_type": "code",
   "execution_count": 30,
   "id": "82ef2b7e",
   "metadata": {},
   "outputs": [
    {
     "name": "stdout",
     "output_type": "stream",
     "text": [
      "[1, 2, 4, 5, 6, 9, 3, 10]\n"
     ]
    }
   ],
   "source": [
    "#Sol 11\n",
    "l1=[1,2,3,4]\n",
    "l2=[5,6,9,3,10,10]\n",
    "l3=l1+l2\n",
    "for i in l3:\n",
    "    if l3.count(i)>1:\n",
    "        l3.remove(i)\n",
    "print(l3)        "
   ]
  },
  {
   "cell_type": "code",
   "execution_count": 31,
   "id": "cf7b0364",
   "metadata": {},
   "outputs": [
    {
     "name": "stdout",
     "output_type": "stream",
     "text": [
      "Enter the string:hello world\n"
     ]
    },
    {
     "data": {
      "text/plain": [
       "'dlrow olleh'"
      ]
     },
     "execution_count": 31,
     "metadata": {},
     "output_type": "execute_result"
    }
   ],
   "source": [
    "#Sol 12\n",
    "str1=input(\"Enter the string:\")\n",
    "str1[::-1]"
   ]
  },
  {
   "cell_type": "code",
   "execution_count": 37,
   "id": "4cd89200",
   "metadata": {},
   "outputs": [
    {
     "name": "stdout",
     "output_type": "stream",
     "text": [
      "Enter elements for set 1 (separated by spaces): 1 2 3 4 5\n",
      "Enter elements for set 2 (separated by spaces): 5 4 3 2 1\n",
      "Set 1 is a subset of set 2\n"
     ]
    }
   ],
   "source": [
    "#Sol 13\n",
    "set1 = set(map(int, input(\"Enter elements for set 1 (separated by spaces): \").split()))\n",
    "set2 = set(map(int, input(\"Enter elements for set 2 (separated by spaces): \").split()))\n",
    "\n",
    "if set1.issubset(set2):\n",
    "    print(\"Set 1 is a subset of set 2\")\n",
    "else: \n",
    "        print( \"Set 1 is not a subset of set 2\")\n"
   ]
  },
  {
   "cell_type": "code",
   "execution_count": 38,
   "id": "e1b267f7",
   "metadata": {},
   "outputs": [
    {
     "name": "stdout",
     "output_type": "stream",
     "text": [
      "\n",
      "Menu:\n",
      "1. Add Student\n",
      "2. Update Grade\n",
      "3. Calculate Average Grade\n",
      "4. Exit\n",
      "Enter your choice (1-4): 1\n",
      "Enter student name: abc\n",
      "Enter student grade: 12\n",
      "Student abc added successfully!\n",
      "\n",
      "Menu:\n",
      "1. Add Student\n",
      "2. Update Grade\n",
      "3. Calculate Average Grade\n",
      "4. Exit\n",
      "Enter your choice (1-4): 2\n",
      "Enter student name to update: abc\n",
      "Enter new grade: 90\n",
      "Grade for student abc updated successfully!\n",
      "\n",
      "Menu:\n",
      "1. Add Student\n",
      "2. Update Grade\n",
      "3. Calculate Average Grade\n",
      "4. Exit\n",
      "Enter your choice (1-4): 1\n",
      "Enter student name: xyz\n",
      "Enter student grade: 87\n",
      "Student xyz added successfully!\n",
      "\n",
      "Menu:\n",
      "1. Add Student\n",
      "2. Update Grade\n",
      "3. Calculate Average Grade\n",
      "4. Exit\n",
      "Enter your choice (1-4): 3\n",
      "Average grade: 88.50\n",
      "\n",
      "Menu:\n",
      "1. Add Student\n",
      "2. Update Grade\n",
      "3. Calculate Average Grade\n",
      "4. Exit\n",
      "Enter your choice (1-4): 4\n",
      "Exiting student database.\n"
     ]
    }
   ],
   "source": [
    "#Sol 14\n",
    "student_info = {}\n",
    "\n",
    "def add_student(name, grade):\n",
    "  student_info[name] = grade\n",
    "  print(f\"Student {name} added successfully!\")\n",
    "\n",
    "def update_grade(name, new_grade):\n",
    "  if name in student_info:\n",
    "    student_info[name] = new_grade\n",
    "    print(f\"Grade for student {name} updated successfully!\")\n",
    "  else:\n",
    "    print(f\"Student {name} not found in the database.\")\n",
    "\n",
    "def calculate_average():\n",
    "  total_grades = sum(student_info.values())\n",
    "  num_students = len(student_info)\n",
    "  if num_students > 0:\n",
    "    average_grade = total_grades / num_students\n",
    "    print(f\"Average grade: {average_grade:.2f}\")\n",
    "  else:\n",
    "    print(\"There are no students in the database.\")\n",
    "\n",
    "while True:\n",
    "  print(\"\\nMenu:\")\n",
    "  print(\"1. Add Student\")\n",
    "  print(\"2. Update Grade\")\n",
    "  print(\"3. Calculate Average Grade\")\n",
    "  print(\"4. Exit\")\n",
    "\n",
    "  choice = input(\"Enter your choice (1-4): \")\n",
    "\n",
    "  if choice == '1':\n",
    "    name = input(\"Enter student name: \")\n",
    "    grade = int(input(\"Enter student grade: \"))\n",
    "    add_student(name, grade)\n",
    "\n",
    "  elif choice == '2':\n",
    "    name = input(\"Enter student name to update: \")\n",
    "    new_grade = int(input(\"Enter new grade: \"))\n",
    "    update_grade(name, new_grade)\n",
    "\n",
    "  elif choice == '3':\n",
    "    calculate_average()\n",
    "\n",
    "  elif choice == '4':\n",
    "    print(\"Exiting student database.\")\n",
    "    break\n",
    "\n",
    "  else:\n",
    "    print(\"Invalid choice. Please try again.\")\n"
   ]
  },
  {
   "cell_type": "code",
   "execution_count": 39,
   "id": "1c0ed28c",
   "metadata": {},
   "outputs": [
    {
     "name": "stdout",
     "output_type": "stream",
     "text": [
      "Sorted students by grade (descending):\n",
      "- Bob (16 years old, grade: 92)\n",
      "- Alice (15 years old, grade: 85)\n",
      "- Charlie (17 years old, grade: 78)\n"
     ]
    }
   ],
   "source": [
    "#sol 15\n",
    "students = ((\"Alice\", 15, 85), (\"Bob\", 16, 92), (\"Charlie\", 17, 78))\n",
    "\n",
    "sorted_students = sorted(students, key=lambda x: x[2], reverse=True)\n",
    "\n",
    "\n",
    "print(\"Sorted students by grade (descending):\")\n",
    "for student in sorted_students:\n",
    "  print(f\"- {student[0]} ({student[1]} years old, grade: {student[2]})\")\n",
    "\n"
   ]
  },
  {
   "cell_type": "code",
   "execution_count": 47,
   "id": "a7eb768c",
   "metadata": {},
   "outputs": [
    {
     "name": "stdout",
     "output_type": "stream",
     "text": [
      "oolleh\n",
      "sdlrow\n",
      "syadawon\n"
     ]
    }
   ],
   "source": [
    "#sol 16\n",
    "\n",
    "\n",
    "my_strings = [\"helloo\", \"worlds\", \"how\", \"are\", \"you\", \"nowadays\"]\n",
    "\n",
    "for string in my_strings :\n",
    "    if len(string) >5:\n",
    "        print(string[::-1])\n",
    "\n"
   ]
  },
  {
   "cell_type": "code",
   "execution_count": 48,
   "id": "e1daed2a",
   "metadata": {},
   "outputs": [
    {
     "name": "stdout",
     "output_type": "stream",
     "text": [
      "Students sorted by grades (descending):\n",
      "- David: 92\n",
      "- Alice: 90\n",
      "- Bob: 85\n",
      "- Charlie: 78\n"
     ]
    }
   ],
   "source": [
    "#Sol 17\n",
    "student_grades = {\"Alice\": 90, \"Bob\": 85, \"Charlie\": 78, \"David\": 92}\n",
    "\n",
    "\n",
    "sorted_grades = dict(sorted(student_grades.items(), key=lambda x: x[1], reverse=True))\n",
    "\n",
    "\n",
    "print(\"Students sorted by grades (descending):\")\n",
    "for name, grade in sorted_grades.items():\n",
    "  print(f\"- {name}: {grade}\")\n"
   ]
  },
  {
   "cell_type": "code",
   "execution_count": 53,
   "id": "50609c3e",
   "metadata": {},
   "outputs": [
    {
     "name": "stdout",
     "output_type": "stream",
     "text": [
      "[('B', 'X', 1995), ('A', 'Y', 2000), ('C', 'Z', 2010)]\n"
     ]
    }
   ],
   "source": [
    "#Sol 18\n",
    "\n",
    "books = [(\"A\", \"Y\", 2000), (\"B\", \"X\", 1995), (\"C\", \"Z\", 2010)]\n",
    "\n",
    "print(sorted(books, key=lambda book: book[2]))\n"
   ]
  },
  {
   "cell_type": "code",
   "execution_count": null,
   "id": "7520849c",
   "metadata": {},
   "outputs": [],
   "source": []
  }
 ],
 "metadata": {
  "kernelspec": {
   "display_name": "Python 3 (ipykernel)",
   "language": "python",
   "name": "python3"
  },
  "language_info": {
   "codemirror_mode": {
    "name": "ipython",
    "version": 3
   },
   "file_extension": ".py",
   "mimetype": "text/x-python",
   "name": "python",
   "nbconvert_exporter": "python",
   "pygments_lexer": "ipython3",
   "version": "3.11.5"
  }
 },
 "nbformat": 4,
 "nbformat_minor": 5
}
