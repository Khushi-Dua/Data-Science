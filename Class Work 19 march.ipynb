{
 "cells": [
  {
   "cell_type": "code",
   "execution_count": 1,
   "id": "45888152",
   "metadata": {},
   "outputs": [],
   "source": [
    "def any_info(name,system_id):\n",
    "    print(\"Name of the student\",name,\"and the system id is\",system_id)"
   ]
  },
  {
   "cell_type": "code",
   "execution_count": 2,
   "id": "8adc122c",
   "metadata": {},
   "outputs": [
    {
     "name": "stdout",
     "output_type": "stream",
     "text": [
      "Enter name:Khushi Dua\n",
      "Enter system id:2023339290\n",
      "Name of the student Khushi Dua and the system id is 2023339290\n"
     ]
    }
   ],
   "source": [
    "name=input(\"Enter name:\")\n",
    "system_id=int(input(\"Enter system id:\"))\n",
    "any_info(name,system_id)"
   ]
  },
  {
   "cell_type": "code",
   "execution_count": 3,
   "id": "55d87f42",
   "metadata": {},
   "outputs": [
    {
     "name": "stdout",
     "output_type": "stream",
     "text": [
      "Price after 5% discount: 38000.0\n",
      "Price after 10% discount: 36000.0\n",
      "Price after 15% discount: 34000.0\n",
      "Price after 20% discount: 32000.0\n"
     ]
    }
   ],
   "source": [
    "from functools import reduce\n",
    "\n",
    "# 1. Print discounted prices for different discount rates\n",
    "phone_price = 40000\n",
    "discounts = [5, 10, 15, 20]\n",
    "\n",
    "for discount in discounts:\n",
    "    discounted_price = phone_price * (1 - discount / 100)\n",
    "    print(f\"Price after {discount}% discount: {discounted_price}\")"
   ]
  },
  {
   "cell_type": "code",
   "execution_count": 4,
   "id": "f93086ac",
   "metadata": {},
   "outputs": [
    {
     "name": "stdout",
     "output_type": "stream",
     "text": [
      "36000.0\n"
     ]
    }
   ],
   "source": [
    "# 2. Function to calculate discounted price for any discount\n",
    "def get_discounted_price(price, discount):\n",
    "    return price * (1 - discount / 100)\n",
    "\n",
    "# Example usage\n",
    "print(get_discounted_price(40000, 10))  # Example: 10% discount"
   ]
  },
  {
   "cell_type": "code",
   "execution_count": 5,
   "id": "4aa336f5",
   "metadata": {},
   "outputs": [
    {
     "name": "stdout",
     "output_type": "stream",
     "text": [
      "True\n",
      "False\n"
     ]
    }
   ],
   "source": [
    "# 3. Function to check if a number is even\n",
    "def is_even(n):\n",
    "    return n % 2 == 0\n",
    "\n",
    "# Example usage\n",
    "print(is_even(4))  # True\n",
    "print(is_even(7))  # False"
   ]
  },
  {
   "cell_type": "code",
   "execution_count": 6,
   "id": "c1ced63b",
   "metadata": {},
   "outputs": [
    {
     "name": "stdout",
     "output_type": "stream",
     "text": [
      "120\n"
     ]
    }
   ],
   "source": [
    "# 4. Factorial using recursion\n",
    "def factorial(n):\n",
    "    if n == 0 or n == 1:\n",
    "        return 1\n",
    "    return n * factorial(n - 1)\n",
    "\n",
    "# Example usage\n",
    "print(factorial(5))  # 120"
   ]
  },
  {
   "cell_type": "code",
   "execution_count": 7,
   "id": "899f2156",
   "metadata": {},
   "outputs": [
    {
     "name": "stdout",
     "output_type": "stream",
     "text": [
      "[1, 4, 9, 16, 25]\n"
     ]
    }
   ],
   "source": [
    "# 5. Square of each digit using map function\n",
    "numbers = [1, 2, 3, 4, 5]\n",
    "squared_numbers = list(map(lambda x: x ** 2, numbers))\n",
    "print(squared_numbers)"
   ]
  },
  {
   "cell_type": "code",
   "execution_count": 8,
   "id": "3c39c91e",
   "metadata": {},
   "outputs": [
    {
     "name": "stdout",
     "output_type": "stream",
     "text": [
      "[2, 4, 6, 8, 10]\n"
     ]
    }
   ],
   "source": [
    "# 6. Filter even numbers using filter function\n",
    "numbers = [1, 2, 3, 4, 5, 6, 7, 8, 9, 10]\n",
    "even_numbers = list(filter(lambda x: x % 2 == 0, numbers))\n",
    "print(even_numbers)"
   ]
  },
  {
   "cell_type": "code",
   "execution_count": 9,
   "id": "6e8e71c4",
   "metadata": {},
   "outputs": [
    {
     "name": "stdout",
     "output_type": "stream",
     "text": [
      "5711.999999999999\n"
     ]
    }
   ],
   "source": [
    "# 7. Multiply all numbers using reduce function\n",
    "numbers = [1, 2.8, 3, 4, 5, 17, 2]\n",
    "product = reduce(lambda x, y: x * y, numbers)\n",
    "print(product)"
   ]
  },
  {
   "cell_type": "code",
   "execution_count": 10,
   "id": "f9a5a56f",
   "metadata": {},
   "outputs": [
    {
     "ename": "SyntaxError",
     "evalue": "invalid decimal literal (1575252478.py, line 1)",
     "output_type": "error",
     "traceback": [
      "\u001b[1;36m  Cell \u001b[1;32mIn[10], line 1\u001b[1;36m\u001b[0m\n\u001b[1;33m    1.Write a Python program to calculate the value of 'a' to the power of 'b' using recursion.\u001b[0m\n\u001b[1;37m     ^\u001b[0m\n\u001b[1;31mSyntaxError\u001b[0m\u001b[1;31m:\u001b[0m invalid decimal literal\n"
     ]
    }
   ],
   "source": [
    "1.Write a Python program to calculate the value of 'a' to the power of 'b' using recursion.\n",
    "2.Write a Python function to create and print a list where the values are the squares of numbers between 1 and 30 \n",
    "3.Write a Python program to create a dictionary from two lists without losing duplicate values.\n",
    "Sample lists: ['Class-V', 'Class-VI', 'Class-VII', 'Class-VIII'], [1, 2, 2, 3]\n",
    "Expected Output: defaultdict(<class 'set'>, {'Class-V': {1}, 'Class-VI': {2}, 'Class-VII': {2}, 'Class-VIII': {3}})"
   ]
  },
  {
   "cell_type": "code",
   "execution_count": 11,
   "id": "1fe5cd2a",
   "metadata": {},
   "outputs": [
    {
     "name": "stdout",
     "output_type": "stream",
     "text": [
      "3 to the power of 4 is 81\n"
     ]
    }
   ],
   "source": [
    "def power(a, b):\n",
    "    if b == 0:\n",
    "        return 1\n",
    "    else:\n",
    "        return a * power(a, b - 1)\n",
    "\n",
    "a = 3\n",
    "b = 4\n",
    "print(f\"{a} to the power of {b} is {power(a, b)}\")"
   ]
  },
  {
   "cell_type": "code",
   "execution_count": 12,
   "id": "94f24a95",
   "metadata": {},
   "outputs": [
    {
     "name": "stdout",
     "output_type": "stream",
     "text": [
      "[1, 4, 9, 16, 25, 36, 49, 64, 81, 100, 121, 144, 169, 196, 225, 256, 289, 324, 361, 400, 441, 484, 529, 576, 625, 676, 729, 784, 841, 900]\n"
     ]
    }
   ],
   "source": [
    "def square_numbers():\n",
    "    squares = [i**2 for i in range(1, 31)]\n",
    "    return squares\n",
    "\n",
    "squares_list = square_numbers()\n",
    "print(squares_list)"
   ]
  },
  {
   "cell_type": "code",
   "execution_count": 13,
   "id": "ec942fcb",
   "metadata": {},
   "outputs": [
    {
     "name": "stdout",
     "output_type": "stream",
     "text": [
      "defaultdict(<class 'set'>, {'Class-V': {1}, 'Class-VI': {2}, 'Class-VII': {2}, 'Class-VIII': {3}})\n"
     ]
    }
   ],
   "source": [
    "from collections import defaultdict\n",
    "\n",
    "def create_dict(keys, values):\n",
    "    result = defaultdict(set)\n",
    "    for key, value in zip(keys, values):\n",
    "        result[key].add(value)\n",
    "    return result\n",
    "\n",
    "keys = ['Class-V', 'Class-VI', 'Class-VII', 'Class-VIII']\n",
    "values = [1, 2, 2, 3]\n",
    "\n",
    "result_dict = create_dict(keys, values)\n",
    "print(result_dict)"
   ]
  },
  {
   "cell_type": "code",
   "execution_count": null,
   "id": "68345215",
   "metadata": {},
   "outputs": [],
   "source": []
  }
 ],
 "metadata": {
  "kernelspec": {
   "display_name": "Python 3 (ipykernel)",
   "language": "python",
   "name": "python3"
  },
  "language_info": {
   "codemirror_mode": {
    "name": "ipython",
    "version": 3
   },
   "file_extension": ".py",
   "mimetype": "text/x-python",
   "name": "python",
   "nbconvert_exporter": "python",
   "pygments_lexer": "ipython3",
   "version": "3.11.5"
  }
 },
 "nbformat": 4,
 "nbformat_minor": 5
}
