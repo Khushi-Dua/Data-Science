{
 "cells": [
  {
   "cell_type": "markdown",
   "id": "e4b3d049",
   "metadata": {
    "id": "e4b3d049"
   },
   "source": [
    "# Integrating SQL and Python"
   ]
  },
  {
   "cell_type": "markdown",
   "id": "e9401d28",
   "metadata": {
    "id": "e9401d28"
   },
   "source": [
    "## Step 1: Install the Required Libraries"
   ]
  },
  {
   "cell_type": "code",
   "execution_count": 1,
   "id": "4868744e",
   "metadata": {
    "colab": {
     "base_uri": "https://localhost:8080/"
    },
    "executionInfo": {
     "elapsed": 7139,
     "status": "ok",
     "timestamp": 1738124748031,
     "user": {
      "displayName": "Nitin Sharma (SU Technical Trainer)",
      "userId": "05086619045706819531"
     },
     "user_tz": -330
    },
    "id": "4868744e",
    "outputId": "355509c9-6f47-4c3b-aa31-31b0087e2fd4"
   },
   "outputs": [
    {
     "name": "stdout",
     "output_type": "stream",
     "text": [
      "Collecting pymysql\n",
      "  Obtaining dependency information for pymysql from https://files.pythonhosted.org/packages/0c/94/e4181a1f6286f545507528c78016e00065ea913276888db2262507693ce5/PyMySQL-1.1.1-py3-none-any.whl.metadata\n",
      "  Downloading PyMySQL-1.1.1-py3-none-any.whl.metadata (4.4 kB)\n",
      "Downloading PyMySQL-1.1.1-py3-none-any.whl (44 kB)\n",
      "   ---------------------------------------- 0.0/45.0 kB ? eta -:--:--\n",
      "   --------- ------------------------------ 10.2/45.0 kB ? eta -:--:--\n",
      "   --------- ------------------------------ 10.2/45.0 kB ? eta -:--:--\n",
      "   ------------------------------------ --- 41.0/45.0 kB 279.3 kB/s eta 0:00:01\n",
      "   ---------------------------------------- 45.0/45.0 kB 222.6 kB/s eta 0:00:00\n",
      "Installing collected packages: pymysql\n",
      "Successfully installed pymysql-1.1.1\n"
     ]
    }
   ],
   "source": [
    "!pip install pymysql"
   ]
  },
  {
   "cell_type": "markdown",
   "id": "cc8cdfed",
   "metadata": {
    "id": "cc8cdfed"
   },
   "source": [
    "## Step 2: Import Libraries and Connect to MySQL"
   ]
  },
  {
   "cell_type": "code",
   "execution_count": 1,
   "id": "53443068",
   "metadata": {
    "colab": {
     "base_uri": "https://localhost:8080/",
     "height": 408
    },
    "executionInfo": {
     "elapsed": 1541,
     "status": "error",
     "timestamp": 1738124771367,
     "user": {
      "displayName": "Nitin Sharma (SU Technical Trainer)",
      "userId": "05086619045706819531"
     },
     "user_tz": -330
    },
    "id": "53443068",
    "outputId": "4372f542-9795-4e94-d061-6e3e5e2a8754"
   },
   "outputs": [],
   "source": [
    "import pymysql\n",
    "import pandas as pd\n",
    "\n",
    "# Connect to MySQL database\n",
    "connection = pymysql.connect(\n",
    "    host='localhost',  # Replace with your host\n",
    "    user='root',  # Replace with your username\n",
    "    password='2005',  # Replace with your password\n",
    "    database='datascience'  # Replace with your database name\n",
    ")\n",
    "\n",
    "cursor = connection.cursor()\n"
   ]
  },
  {
   "cell_type": "markdown",
   "id": "3c1bb274",
   "metadata": {
    "id": "3c1bb274"
   },
   "source": [
    "## Step 3: Execute Queries and Fetch Data"
   ]
  },
  {
   "cell_type": "code",
   "execution_count": 2,
   "id": "570bfa14",
   "metadata": {
    "id": "570bfa14"
   },
   "outputs": [],
   "source": [
    "# Select all records from the employees table\n",
    "select_query = \"\"\"SELECT employee_id, first_name, last_name, email, department_id,salary\n",
    "FROM employees \"\"\"\n",
    "cursor.execute(select_query)\n",
    "rows = cursor.fetchall()\n",
    "\n",
    "# Convert to a DataFrame for better readability\n",
    "df = pd.DataFrame(rows, columns=['employee_id', 'first_name', 'last_name', 'email', 'department_id', 'salary'])"
   ]
  },
  {
   "cell_type": "code",
   "execution_count": 3,
   "id": "afaa2f15",
   "metadata": {
    "id": "afaa2f15",
    "outputId": "135ad0a5-dd72-48de-9d61-a506ad11d716"
   },
   "outputs": [
    {
     "data": {
      "text/html": [
       "<div>\n",
       "<style scoped>\n",
       "    .dataframe tbody tr th:only-of-type {\n",
       "        vertical-align: middle;\n",
       "    }\n",
       "\n",
       "    .dataframe tbody tr th {\n",
       "        vertical-align: top;\n",
       "    }\n",
       "\n",
       "    .dataframe thead th {\n",
       "        text-align: right;\n",
       "    }\n",
       "</style>\n",
       "<table border=\"1\" class=\"dataframe\">\n",
       "  <thead>\n",
       "    <tr style=\"text-align: right;\">\n",
       "      <th></th>\n",
       "      <th>employee_id</th>\n",
       "      <th>first_name</th>\n",
       "      <th>last_name</th>\n",
       "      <th>email</th>\n",
       "      <th>department_id</th>\n",
       "      <th>salary</th>\n",
       "    </tr>\n",
       "  </thead>\n",
       "  <tbody>\n",
       "    <tr>\n",
       "      <th>0</th>\n",
       "      <td>1</td>\n",
       "      <td>John</td>\n",
       "      <td>Doe</td>\n",
       "      <td>john.doe@example.com</td>\n",
       "      <td>10</td>\n",
       "      <td>60000.0</td>\n",
       "    </tr>\n",
       "    <tr>\n",
       "      <th>1</th>\n",
       "      <td>2</td>\n",
       "      <td>Jane</td>\n",
       "      <td>Smith</td>\n",
       "      <td>jane.smith@example.com</td>\n",
       "      <td>20</td>\n",
       "      <td>75000.0</td>\n",
       "    </tr>\n",
       "    <tr>\n",
       "      <th>2</th>\n",
       "      <td>3</td>\n",
       "      <td>David</td>\n",
       "      <td>Lee</td>\n",
       "      <td>david.lee@example.com</td>\n",
       "      <td>10</td>\n",
       "      <td>55000.0</td>\n",
       "    </tr>\n",
       "    <tr>\n",
       "      <th>3</th>\n",
       "      <td>4</td>\n",
       "      <td>Sarah</td>\n",
       "      <td>Jones</td>\n",
       "      <td>sarah.jones@example.com</td>\n",
       "      <td>30</td>\n",
       "      <td>80000.0</td>\n",
       "    </tr>\n",
       "    <tr>\n",
       "      <th>4</th>\n",
       "      <td>5</td>\n",
       "      <td>Michael</td>\n",
       "      <td>Brown</td>\n",
       "      <td>michael.brown@example.com</td>\n",
       "      <td>20</td>\n",
       "      <td>65000.0</td>\n",
       "    </tr>\n",
       "  </tbody>\n",
       "</table>\n",
       "</div>"
      ],
      "text/plain": [
       "   employee_id first_name last_name                      email  department_id  \\\n",
       "0            1       John       Doe       john.doe@example.com             10   \n",
       "1            2       Jane     Smith     jane.smith@example.com             20   \n",
       "2            3      David       Lee      david.lee@example.com             10   \n",
       "3            4      Sarah     Jones    sarah.jones@example.com             30   \n",
       "4            5    Michael     Brown  michael.brown@example.com             20   \n",
       "\n",
       "    salary  \n",
       "0  60000.0  \n",
       "1  75000.0  \n",
       "2  55000.0  \n",
       "3  80000.0  \n",
       "4  65000.0  "
      ]
     },
     "execution_count": 3,
     "metadata": {},
     "output_type": "execute_result"
    }
   ],
   "source": [
    "df.head()"
   ]
  },
  {
   "cell_type": "markdown",
   "id": "40f2ef19",
   "metadata": {
    "id": "40f2ef19"
   },
   "source": [
    "## Step 4: Automate ETL Processes\n",
    "* Here's a simple ETL (Extract, Transform, Load) example:\n",
    "\n",
    "    * Extract data from the database\n",
    "    * Transform the data (e.g., increase salaries by 10%)\n",
    "    * Load the data back into the database (update salaries)"
   ]
  },
  {
   "cell_type": "code",
   "execution_count": 4,
   "id": "412bf456",
   "metadata": {
    "id": "412bf456"
   },
   "outputs": [],
   "source": [
    "# Extract data\n",
    "extract_query = 'SELECT employee_id, salary FROM employees'\n",
    "cursor.execute(extract_query)\n",
    "employees = cursor.fetchall()\n",
    "\n",
    "# Transform data (increase salary by 10%)\n",
    "updated_salaries = [(salary * 1.10, emp_id) for emp_id, salary in employees]\n",
    "\n",
    "# Load data (update salaries in the database)\n",
    "update_query = 'UPDATE employees SET salary = %s WHERE employee_id = %s'\n",
    "cursor.executemany(update_query, updated_salaries)\n",
    "\n",
    "# Commit the changes\n",
    "#connection.commit()\n",
    "\n",
    "# Verify the update\n",
    "cursor.execute(select_query)\n",
    "rows = cursor.fetchall()\n",
    "\n",
    "# Convert to a DataFrame for better readability\n",
    "df = pd.DataFrame(rows, columns=['employee_id', 'first_name', 'last_name', 'email', 'department_id', 'salary'])"
   ]
  },
  {
   "cell_type": "code",
   "execution_count": 5,
   "id": "92f96dff",
   "metadata": {
    "id": "92f96dff",
    "outputId": "687b36fe-5fbd-4083-ed7a-b2057b7abf15"
   },
   "outputs": [
    {
     "data": {
      "text/html": [
       "<div>\n",
       "<style scoped>\n",
       "    .dataframe tbody tr th:only-of-type {\n",
       "        vertical-align: middle;\n",
       "    }\n",
       "\n",
       "    .dataframe tbody tr th {\n",
       "        vertical-align: top;\n",
       "    }\n",
       "\n",
       "    .dataframe thead th {\n",
       "        text-align: right;\n",
       "    }\n",
       "</style>\n",
       "<table border=\"1\" class=\"dataframe\">\n",
       "  <thead>\n",
       "    <tr style=\"text-align: right;\">\n",
       "      <th></th>\n",
       "      <th>employee_id</th>\n",
       "      <th>first_name</th>\n",
       "      <th>last_name</th>\n",
       "      <th>email</th>\n",
       "      <th>department_id</th>\n",
       "      <th>salary</th>\n",
       "    </tr>\n",
       "  </thead>\n",
       "  <tbody>\n",
       "    <tr>\n",
       "      <th>0</th>\n",
       "      <td>1</td>\n",
       "      <td>John</td>\n",
       "      <td>Doe</td>\n",
       "      <td>john.doe@example.com</td>\n",
       "      <td>10</td>\n",
       "      <td>66000.0</td>\n",
       "    </tr>\n",
       "    <tr>\n",
       "      <th>1</th>\n",
       "      <td>2</td>\n",
       "      <td>Jane</td>\n",
       "      <td>Smith</td>\n",
       "      <td>jane.smith@example.com</td>\n",
       "      <td>20</td>\n",
       "      <td>82500.0</td>\n",
       "    </tr>\n",
       "    <tr>\n",
       "      <th>2</th>\n",
       "      <td>3</td>\n",
       "      <td>David</td>\n",
       "      <td>Lee</td>\n",
       "      <td>david.lee@example.com</td>\n",
       "      <td>10</td>\n",
       "      <td>60500.0</td>\n",
       "    </tr>\n",
       "    <tr>\n",
       "      <th>3</th>\n",
       "      <td>4</td>\n",
       "      <td>Sarah</td>\n",
       "      <td>Jones</td>\n",
       "      <td>sarah.jones@example.com</td>\n",
       "      <td>30</td>\n",
       "      <td>88000.0</td>\n",
       "    </tr>\n",
       "    <tr>\n",
       "      <th>4</th>\n",
       "      <td>5</td>\n",
       "      <td>Michael</td>\n",
       "      <td>Brown</td>\n",
       "      <td>michael.brown@example.com</td>\n",
       "      <td>20</td>\n",
       "      <td>71500.0</td>\n",
       "    </tr>\n",
       "  </tbody>\n",
       "</table>\n",
       "</div>"
      ],
      "text/plain": [
       "   employee_id first_name last_name                      email  department_id  \\\n",
       "0            1       John       Doe       john.doe@example.com             10   \n",
       "1            2       Jane     Smith     jane.smith@example.com             20   \n",
       "2            3      David       Lee      david.lee@example.com             10   \n",
       "3            4      Sarah     Jones    sarah.jones@example.com             30   \n",
       "4            5    Michael     Brown  michael.brown@example.com             20   \n",
       "\n",
       "    salary  \n",
       "0  66000.0  \n",
       "1  82500.0  \n",
       "2  60500.0  \n",
       "3  88000.0  \n",
       "4  71500.0  "
      ]
     },
     "execution_count": 5,
     "metadata": {},
     "output_type": "execute_result"
    }
   ],
   "source": [
    "df.head()"
   ]
  },
  {
   "cell_type": "code",
   "execution_count": null,
   "id": "c0c2f7f5",
   "metadata": {},
   "outputs": [],
   "source": []
  }
 ],
 "metadata": {
  "colab": {
   "provenance": []
  },
  "kernelspec": {
   "display_name": "Python 3 (ipykernel)",
   "language": "python",
   "name": "python3"
  },
  "language_info": {
   "codemirror_mode": {
    "name": "ipython",
    "version": 3
   },
   "file_extension": ".py",
   "mimetype": "text/x-python",
   "name": "python",
   "nbconvert_exporter": "python",
   "pygments_lexer": "ipython3",
   "version": "3.11.5"
  }
 },
 "nbformat": 4,
 "nbformat_minor": 5
}
