{
 "cells": [
  {
   "cell_type": "markdown",
   "id": "121c56e6",
   "metadata": {},
   "source": [
    "# OBJECT ORIENTED PROGRAMMING"
   ]
  },
  {
   "cell_type": "markdown",
   "id": "69ff0dc7",
   "metadata": {},
   "source": [
    "every object has properties and behaviours:\n",
    "\n",
    "object->any entity that has properties and behaviours    \n",
    "    every object has a ***class***\n",
    "    \n",
    "    object=chair\n",
    "    properties->color,material\n",
    "    behaviour->\n",
    "    \n",
    "    object=person\n",
    "    properties->\n",
    "    behaviour->"
   ]
  },
  {
   "cell_type": "markdown",
   "id": "2cab0b4a",
   "metadata": {},
   "source": [
    "Why??\n",
    "- promotes reusability and "
   ]
  },
  {
   "cell_type": "markdown",
   "id": "9ac9ec2a",
   "metadata": {},
   "source": [
    "### Creating a class\n",
    "class < name of class >:\n",
    "    \n",
    "    statement"
   ]
  },
  {
   "cell_type": "markdown",
   "id": "f6b99e22",
   "metadata": {},
   "source": [
    "### Creating an object\n",
    "object1=< name of class> ()\n",
    "\n",
    "object2=< name of class > ()"
   ]
  },
  {
   "cell_type": "code",
   "execution_count": 2,
   "id": "cac01196",
   "metadata": {},
   "outputs": [],
   "source": [
    "class student:\n",
    "    pass\n"
   ]
  },
  {
   "cell_type": "code",
   "execution_count": 3,
   "id": "ae0e95c9",
   "metadata": {},
   "outputs": [],
   "source": [
    "#creating an object\n",
    "ob1=student()\n",
    "ob2=student()"
   ]
  },
  {
   "cell_type": "code",
   "execution_count": 4,
   "id": "8898a312",
   "metadata": {},
   "outputs": [
    {
     "name": "stdout",
     "output_type": "stream",
     "text": [
      "Khushi 90\n",
      "Khushi 90\n"
     ]
    }
   ],
   "source": [
    "class Student:\n",
    "    name=\"Khushi\"\n",
    "    marks=90\n",
    "    pass\n",
    "obj1=Student()\n",
    "obj2=Student()\n",
    "\n",
    "print(obj1.name ,obj1.marks)\n",
    "print(obj2.name ,obj2.marks)"
   ]
  },
  {
   "cell_type": "code",
   "execution_count": 7,
   "id": "76661553",
   "metadata": {},
   "outputs": [
    {
     "name": "stdout",
     "output_type": "stream",
     "text": [
      "\n",
      " name:\t Khushi \n",
      " marks:\t 20 \n",
      " age:\t 18\n",
      "============================================================\n",
      "\n",
      " name:\t hello \n",
      " marks:\t 10 \n",
      " age:\t 100\n"
     ]
    }
   ],
   "source": [
    "class Student:\n",
    "    #__init__: initializer\n",
    "    def __init__(self , name,marks,age):\n",
    "        self.name= name\n",
    "        self.marks=marks\n",
    "        self.age=age\n",
    "obj1=Student(\"Khushi\",20,18)\n",
    "obj2=Student(\"hello\",10,100)\n",
    "print(\"\\n name:\\t\",obj1.name,\"\\n marks:\\t\",obj1.marks,\"\\n age:\\t\",obj1.age)\n",
    "print(\"============================================================\")\n",
    "print(\"name:\\t\",obj2.name,\"\\n marks:\\t\",obj2.marks,\"\\n age:\\t\",obj2.age)"
   ]
  },
  {
   "cell_type": "code",
   "execution_count": 12,
   "id": "b3a9c548",
   "metadata": {},
   "outputs": [
    {
     "name": "stdout",
     "output_type": "stream",
     "text": [
      "\n",
      " name:\t Khushi \n",
      " age:\t 20 \n",
      " branch: abc\n",
      "============================================================\n",
      "\n",
      " name:\t hello \n",
      " age:\t 10 \n",
      " branch: xyz\n",
      "hi,my name is Khushi i am 20 years old and work at abc\n",
      "hi,my name is hello i am 10 years old and work at xyz\n"
     ]
    }
   ],
   "source": [
    "class Person:\n",
    "    #__init__: initializer\n",
    "    def __init__(self , name,age,branch):\n",
    "        self.name= name\n",
    "        self.age=age\n",
    "        self.branch=branch\n",
    "    def edu_info(self):\n",
    "        print(f\"hi,my name is {self.name} i am {self.age} years old and work at {self.branch}\")\n",
    "obj1=Person(\"Khushi\",20,\"abc\")\n",
    "obj2=Person(\"hello\",10,\"xyz\")\n",
    "print(\"\\n name:\\t\",obj1.name,\"\\n age:\\t\",obj1.age,\"\\n branch:\",obj1.branch)\n",
    "print(\"============================================================\")\n",
    "print(\"\\n name:\\t\",obj2.name,\"\\n age:\\t\",obj2.age,\"\\n branch:\",obj2.branch)\n",
    "\n",
    "Person.edu_info(obj1)\n",
    "Person.edu_info(obj2)"
   ]
  },
  {
   "cell_type": "markdown",
   "id": "f61af840",
   "metadata": {},
   "source": [
    "#wap create a class named car which will hve 3 properties name,gear type \n",
    " \n",
    "#create 2 objects and print the values of 2 objects"
   ]
  },
  {
   "cell_type": "markdown",
   "id": "295c2fa5",
   "metadata": {},
   "source": [
    "pillars of\n",
    "\n",
    "    1.incapsulation\n",
    "    2. extraction\n",
    "    3. polymorphism"
   ]
  },
  {
   "cell_type": "code",
   "execution_count": 1,
   "id": "b9628e65",
   "metadata": {},
   "outputs": [
    {
     "ename": "SyntaxError",
     "evalue": "incomplete input (224325118.py, line 1)",
     "output_type": "error",
     "traceback": [
      "\u001b[1;36m  Cell \u001b[1;32mIn[1], line 1\u001b[1;36m\u001b[0m\n\u001b[1;33m    class Person:\u001b[0m\n\u001b[1;37m                 ^\u001b[0m\n\u001b[1;31mSyntaxError\u001b[0m\u001b[1;31m:\u001b[0m incomplete input\n"
     ]
    }
   ],
   "source": [
    "class Person:\n"
   ]
  },
  {
   "cell_type": "markdown",
   "id": "36aff10e",
   "metadata": {},
   "source": [
    "# Encapsulation"
   ]
  },
  {
   "cell_type": "markdown",
   "id": "24cb1c20",
   "metadata": {},
   "source": [
    "Meaning: to enclose in"
   ]
  },
  {
   "cell_type": "markdown",
   "id": "ce57b483",
   "metadata": {},
   "source": [
    "Wrapping up of data\n",
    "\n",
    "     class\n",
    "    -Prop(Attributes or variables)\n",
    "    -Behaviour(Methods)"
   ]
  },
  {
   "cell_type": "code",
   "execution_count": 5,
   "id": "4d7e8af1",
   "metadata": {},
   "outputs": [
    {
     "name": "stdout",
     "output_type": "stream",
     "text": [
      "14\n",
      "8\n"
     ]
    }
   ],
   "source": [
    "class Example:\n",
    "    def __init__(self,a,b):\n",
    "        self.a=a\n",
    "        self.b=b\n",
    "    def add(self):\n",
    "        return self.a + self.b\n",
    "#create an instance of the class\n",
    "e1=Example(8,6)\n",
    "#Call methods on object\n",
    "print(e.add())\n",
    "#Accessing an attribute\n",
    "print(e.a)"
   ]
  },
  {
   "cell_type": "code",
   "execution_count": 10,
   "id": "3991e797",
   "metadata": {},
   "outputs": [
    {
     "name": "stdout",
     "output_type": "stream",
     "text": [
      "36\n"
     ]
    }
   ],
   "source": [
    "class Rectangle:\n",
    "    def __init__(self,l,b):\n",
    "        self.l=l\n",
    "        self.b=b\n",
    "        \n",
    "    def area(self):\n",
    "        return (self.l*self.b)\n",
    "r1=Rectangle(6,6)\n",
    "print(r1.area())\n"
   ]
  },
  {
   "cell_type": "markdown",
   "id": "60735172",
   "metadata": {},
   "source": [
    "    Access modifiers\n",
    "    -no understore : public(accessable anywhere) EG: print(r1.area())\n",
    "    -double understore : private(inside same class accessibility) EG: print(r1._area())\n",
    "    -single understore : Protected EG:print(r1.__area())"
   ]
  },
  {
   "cell_type": "markdown",
   "id": "4fbc1486",
   "metadata": {},
   "source": [
    "POLYMORPHISM\n",
    "- Existence in more than one form\n",
    "- print(4+5)add    polymorphism in case of operator\n",
    "- print('4'+'5')concate\n",
    "- This is called polymorphism in operators , where same operator gives diff cases."
   ]
  },
  {
   "cell_type": "code",
   "execution_count": 15,
   "id": "87aba509",
   "metadata": {},
   "outputs": [
    {
     "name": "stdout",
     "output_type": "stream",
     "text": [
      "5\n"
     ]
    },
    {
     "data": {
      "text/plain": [
       "4"
      ]
     },
     "execution_count": 15,
     "metadata": {},
     "output_type": "execute_result"
    }
   ],
   "source": [
    "print(len(\"Hello\"))   #Polymorphism in case of function(inbuilt)\n",
    "len([\"1\",\"2\",3,4])"
   ]
  },
  {
   "cell_type": "code",
   "execution_count": 21,
   "id": "3624d1ef",
   "metadata": {},
   "outputs": [
    {
     "name": "stdout",
     "output_type": "stream",
     "text": [
      "Sound of Animal1\n",
      "Sound of Animal2\n"
     ]
    }
   ],
   "source": [
    "class Animal:\n",
    "    def speak():\n",
    "        pass\n",
    "class Animal1:\n",
    "    def speak():\n",
    "        print(\"Sound of Animal1\")\n",
    "class Animal2:\n",
    "    def speak():\n",
    "        print(\"Sound of Animal2\")        \n",
    "Animal.speak()\n",
    "Animal1.speak() \n",
    "Animal2.speak()\n"
   ]
  },
  {
   "cell_type": "markdown",
   "id": "5402c442",
   "metadata": {},
   "source": [
    "#INHERITANCE\n",
    "        \n",
    "When we do have parent nd child class child class will inherit all properties of its parent class"
   ]
  },
  {
   "cell_type": "markdown",
   "id": "cfa79ca4",
   "metadata": {},
   "source": [
    "In inheritance there is parent child relationship between two or more classes\n",
    "\n",
    "child class will inherit all the properties and behaviour of parent class"
   ]
  },
  {
   "cell_type": "markdown",
   "id": "740782b9",
   "metadata": {},
   "source": [
    "    5 types of inheritance\n",
    "    \n",
    " - Single\n",
    " - Multiple\n",
    " - Hybrid\n",
    "  - Hierachical\n",
    "  - Multilevel"
   ]
  },
  {
   "cell_type": "code",
   "execution_count": 3,
   "id": "6e7794d6",
   "metadata": {},
   "outputs": [
    {
     "ename": "AttributeError",
     "evalue": "'Parent' object has no attribute 'm2'",
     "output_type": "error",
     "traceback": [
      "\u001b[1;31m---------------------------------------------------------------------------\u001b[0m",
      "\u001b[1;31mAttributeError\u001b[0m                            Traceback (most recent call last)",
      "Cell \u001b[1;32mIn[3], line 9\u001b[0m\n\u001b[0;32m      6\u001b[0m         \u001b[38;5;28mprint\u001b[39m(\u001b[38;5;124m\"\u001b[39m\u001b[38;5;124mChild class m2 method\u001b[39m\u001b[38;5;124m\"\u001b[39m)\n\u001b[0;32m      8\u001b[0m ob1\u001b[38;5;241m=\u001b[39mParent()\n\u001b[1;32m----> 9\u001b[0m ob1\u001b[38;5;241m.\u001b[39mm2()\n",
      "\u001b[1;31mAttributeError\u001b[0m: 'Parent' object has no attribute 'm2'"
     ]
    }
   ],
   "source": [
    "class Parent:\n",
    "    def m1(self):\n",
    "        print(\"Parent class m1 method\")\n",
    "class child:\n",
    "    def m2(self):\n",
    "        print(\"Child class m2 method\")\n",
    "\n",
    "ob1=Parent()\n",
    "ob1.m2()"
   ]
  },
  {
   "cell_type": "code",
   "execution_count": 7,
   "id": "8766d196",
   "metadata": {},
   "outputs": [
    {
     "ename": "AttributeError",
     "evalue": "'Parent1' object has no attribute 'm3'",
     "output_type": "error",
     "traceback": [
      "\u001b[1;31m---------------------------------------------------------------------------\u001b[0m",
      "\u001b[1;31mAttributeError\u001b[0m                            Traceback (most recent call last)",
      "Cell \u001b[1;32mIn[7], line 12\u001b[0m\n\u001b[0;32m     10\u001b[0m         \u001b[38;5;28mprint\u001b[39m(\u001b[38;5;124m\"\u001b[39m\u001b[38;5;124mChild method\u001b[39m\u001b[38;5;124m\"\u001b[39m)\n\u001b[0;32m     11\u001b[0m ob1\u001b[38;5;241m=\u001b[39mParent1()\n\u001b[1;32m---> 12\u001b[0m ob1\u001b[38;5;241m.\u001b[39mm3()\n",
      "\u001b[1;31mAttributeError\u001b[0m: 'Parent1' object has no attribute 'm3'"
     ]
    }
   ],
   "source": [
    "class Parent1:\n",
    "    def m1(self):\n",
    "        print(\"Parent class m1 method\")\n",
    "class Parent2:\n",
    "    def m2(self):\n",
    "        print(\"Child class m2 method\")\n",
    "\n",
    "class Child(Parent1,Parent2):\n",
    "    def m3(self):\n",
    "        print(\"Child method\")\n",
    "ob1=Parent1()\n",
    "ob1.m3()"
   ]
  },
  {
   "cell_type": "code",
   "execution_count": null,
   "id": "09f7fea6",
   "metadata": {},
   "outputs": [],
   "source": []
  }
 ],
 "metadata": {
  "kernelspec": {
   "display_name": "Python 3 (ipykernel)",
   "language": "python",
   "name": "python3"
  },
  "language_info": {
   "codemirror_mode": {
    "name": "ipython",
    "version": 3
   },
   "file_extension": ".py",
   "mimetype": "text/x-python",
   "name": "python",
   "nbconvert_exporter": "python",
   "pygments_lexer": "ipython3",
   "version": "3.11.5"
  }
 },
 "nbformat": 4,
 "nbformat_minor": 5
}
