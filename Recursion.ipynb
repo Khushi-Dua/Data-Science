{
 "cells": [
  {
   "cell_type": "markdown",
   "id": "1ed9fb1f",
   "metadata": {},
   "source": [
    "# RECURSION"
   ]
  },
  {
   "cell_type": "markdown",
   "id": "acc6d616",
   "metadata": {},
   "source": [
    "### Higher Order Functions\n",
    "\n",
    "- Functions that take other functions as arguments or return functions as results.\n",
    "\n",
    "-- Examples of Higher order functions\n",
    "- map() \n",
    "- filter()\n",
    "- reduce()"
   ]
  },
  {
   "cell_type": "code",
   "execution_count": 3,
   "id": "5337f723",
   "metadata": {},
   "outputs": [
    {
     "name": "stdout",
     "output_type": "stream",
     "text": [
      "[False, True, False, True, False, True, False, True, False, True]\n"
     ]
    }
   ],
   "source": [
    "#Using map\n",
    "numbers=[1,2,3,4,5,6,7,8,9,10]\n",
    "evens=map(lambda x:x %2==0,numbers)\n",
    "print(list(evens))"
   ]
  },
  {
   "cell_type": "code",
   "execution_count": 4,
   "id": "0f1494b2",
   "metadata": {},
   "outputs": [
    {
     "name": "stdout",
     "output_type": "stream",
     "text": [
      "[1, 4, 9, 16, 25, 36, 49, 64, 81, 100]\n"
     ]
    }
   ],
   "source": [
    "#Using map\n",
    "numbers=[1,2,3,4,5,6,7,8,9,10]\n",
    "sq=map(lambda x:x**2,numbers)\n",
    "print(list(sq))"
   ]
  },
  {
   "cell_type": "code",
   "execution_count": 2,
   "id": "f5a92cda",
   "metadata": {},
   "outputs": [
    {
     "name": "stdout",
     "output_type": "stream",
     "text": [
      "[2, 4, 6, 8, 10]\n"
     ]
    }
   ],
   "source": [
    "#Using filter\n",
    "numbers=[1,2,3,4,5,6,7,8,9,10]\n",
    "evens=filter(lambda x:x %2==0,numbers)\n",
    "print(list(evens))"
   ]
  },
  {
   "cell_type": "code",
   "execution_count": 5,
   "id": "3cc5a063",
   "metadata": {},
   "outputs": [],
   "source": [
    "#lambda arguments:expression"
   ]
  },
  {
   "cell_type": "code",
   "execution_count": 6,
   "id": "8167f536",
   "metadata": {},
   "outputs": [
    {
     "data": {
      "text/plain": [
       "[2, 4, 6, 8, 10]"
      ]
     },
     "execution_count": 6,
     "metadata": {},
     "output_type": "execute_result"
    }
   ],
   "source": [
    "#Without Using Filter\n",
    "numbers=[1,2,3,4,5,6,7,8,9,10]\n",
    "result=[]\n",
    "for i in numbers:\n",
    "    if i%2==0:\n",
    "        result.append(i)\n",
    "result"
   ]
  },
  {
   "cell_type": "code",
   "execution_count": 7,
   "id": "c914340a",
   "metadata": {},
   "outputs": [
    {
     "data": {
      "text/plain": [
       "120"
      ]
     },
     "execution_count": 7,
     "metadata": {},
     "output_type": "execute_result"
    }
   ],
   "source": [
    "numbers=[1,2,3,4,5]\n",
    "result=1\n",
    "for num in numbers:\n",
    "    result*=num\n",
    "result    "
   ]
  },
  {
   "cell_type": "code",
   "execution_count": 8,
   "id": "7533058a",
   "metadata": {},
   "outputs": [
    {
     "name": "stdout",
     "output_type": "stream",
     "text": [
      "120\n"
     ]
    }
   ],
   "source": [
    "#using reduce\n",
    "from functools import reduce\n",
    "numbers=[1,2,3,4,5]\n",
    "products=reduce(lambda x,y:x*y,numbers)\n",
    "print(products)"
   ]
  },
  {
   "cell_type": "markdown",
   "id": "1c680738",
   "metadata": {},
   "source": [
    "REDUCE() function: The reduce() function from the functtools module successively applies a binary function to the items \n",
    "    of an iterable,reducing them to a single accumulated result.]\n",
    "\n",
    "MAP() function: It applies a given function to all the terms in an input list or iterable."
   ]
  },
  {
   "cell_type": "markdown",
   "id": "e0126530",
   "metadata": {},
   "source": [
    "Global and local variable"
   ]
  },
  {
   "cell_type": "code",
   "execution_count": 10,
   "id": "483191e8",
   "metadata": {},
   "outputs": [
    {
     "name": "stdout",
     "output_type": "stream",
     "text": [
      "34\n"
     ]
    },
    {
     "ename": "NameError",
     "evalue": "name 'a1' is not defined",
     "output_type": "error",
     "traceback": [
      "\u001b[1;31m---------------------------------------------------------------------------\u001b[0m",
      "\u001b[1;31mNameError\u001b[0m                                 Traceback (most recent call last)",
      "Cell \u001b[1;32mIn[10], line 5\u001b[0m\n\u001b[0;32m      3\u001b[0m     \u001b[38;5;28mprint\u001b[39m(a1)\n\u001b[0;32m      4\u001b[0m myfunc()\n\u001b[1;32m----> 5\u001b[0m \u001b[38;5;28mprint\u001b[39m(a1)\n",
      "\u001b[1;31mNameError\u001b[0m: name 'a1' is not defined"
     ]
    }
   ],
   "source": [
    "\n",
    "def myfunc():\n",
    "    a1=34\n",
    "    print(a1)\n",
    "myfunc()\n",
    "print(a1)"
   ]
  },
  {
   "cell_type": "code",
   "execution_count": 11,
   "id": "a35cdeaf",
   "metadata": {},
   "outputs": [
    {
     "name": "stdout",
     "output_type": "stream",
     "text": [
      "20\n",
      "50\n"
     ]
    }
   ],
   "source": [
    "y1=50\n",
    "def myfunc():\n",
    "    y1=20\n",
    "    print(y1)\n",
    "myfunc()\n",
    "print(y1)"
   ]
  },
  {
   "cell_type": "code",
   "execution_count": 12,
   "id": "0aab052e",
   "metadata": {},
   "outputs": [
    {
     "name": "stdout",
     "output_type": "stream",
     "text": [
      "50\n",
      "50\n"
     ]
    }
   ],
   "source": [
    "y1=50\n",
    "def myfunc():\n",
    "    print(y1)\n",
    "myfunc()\n",
    "print(y1)"
   ]
  },
  {
   "cell_type": "code",
   "execution_count": 14,
   "id": "eec93169",
   "metadata": {},
   "outputs": [
    {
     "name": "stdout",
     "output_type": "stream",
     "text": [
      "20\n",
      "20\n"
     ]
    }
   ],
   "source": [
    "b=300\n",
    "def myfunc():\n",
    "    global b\n",
    "    b=20\n",
    "    print(b)\n",
    "myfunc() \n",
    "print(b)"
   ]
  },
  {
   "cell_type": "code",
   "execution_count": 15,
   "id": "7b2d3ab9",
   "metadata": {},
   "outputs": [
    {
     "name": "stdout",
     "output_type": "stream",
     "text": [
      "Inside func(): 10\n"
     ]
    },
    {
     "ename": "NameError",
     "evalue": "name 'local_var' is not defined",
     "output_type": "error",
     "traceback": [
      "\u001b[1;31m---------------------------------------------------------------------------\u001b[0m",
      "\u001b[1;31mNameError\u001b[0m                                 Traceback (most recent call last)",
      "Cell \u001b[1;32mIn[15], line 6\u001b[0m\n\u001b[0;32m      4\u001b[0m     \u001b[38;5;28mprint\u001b[39m(\u001b[38;5;124m\"\u001b[39m\u001b[38;5;124mInside func():\u001b[39m\u001b[38;5;124m\"\u001b[39m,global_var)\n\u001b[0;32m      5\u001b[0m func()\n\u001b[1;32m----> 6\u001b[0m \u001b[38;5;28mprint\u001b[39m(\u001b[38;5;124m\"\u001b[39m\u001b[38;5;124mOutside func():\u001b[39m\u001b[38;5;124m\"\u001b[39m,local_var)\n",
      "\u001b[1;31mNameError\u001b[0m: name 'local_var' is not defined"
     ]
    }
   ],
   "source": [
    "slobal_var=10\n",
    "def func():\n",
    "    local_var=50\n",
    "    #Attempting to access a variable defined outside the function\n",
    "    print(\"Inside func():\",global_var)\n",
    "func()\n",
    "#Attempting to access  a variable defined inside the function from outside the function\n",
    "print(\"Outside func():\",local_var)"
   ]
  },
  {
   "cell_type": "code",
   "execution_count": null,
   "id": "f3c50cc4",
   "metadata": {},
   "outputs": [],
   "source": []
  }
 ],
 "metadata": {
  "kernelspec": {
   "display_name": "Python 3 (ipykernel)",
   "language": "python",
   "name": "python3"
  },
  "language_info": {
   "codemirror_mode": {
    "name": "ipython",
    "version": 3
   },
   "file_extension": ".py",
   "mimetype": "text/x-python",
   "name": "python",
   "nbconvert_exporter": "python",
   "pygments_lexer": "ipython3",
   "version": "3.11.5"
  }
 },
 "nbformat": 4,
 "nbformat_minor": 5
}
