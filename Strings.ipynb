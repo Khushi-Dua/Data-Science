{
 "cells": [
  {
   "cell_type": "code",
   "execution_count": 4,
   "id": "88a0d6b3",
   "metadata": {},
   "outputs": [
    {
     "name": "stdout",
     "output_type": "stream",
     "text": [
      "<class 'int'>\n",
      "<class 'str'>\n"
     ]
    }
   ],
   "source": [
    "x=4\n",
    "print(type(x))\n",
    "y=str(x)\n",
    "print(type(y))"
   ]
  },
  {
   "cell_type": "code",
   "execution_count": 8,
   "id": "28054db0",
   "metadata": {},
   "outputs": [
    {
     "name": "stdout",
     "output_type": "stream",
     "text": [
      "This is perfect\n",
      "This is perfect\n",
      "He said \"This is perfect\"\n"
     ]
    }
   ],
   "source": [
    "#making of strings\n",
    "print(\"This is perfect\")\n",
    "print('This is perfect')\n",
    "print('''He said \"This is perfect\"''')"
   ]
  },
  {
   "cell_type": "code",
   "execution_count": 9,
   "id": "c0d1fc92",
   "metadata": {},
   "outputs": [
    {
     "name": "stdout",
     "output_type": "stream",
     "text": [
      "e\n"
     ]
    }
   ],
   "source": [
    "x=\"hello\"\n",
    "print(x[1])"
   ]
  },
  {
   "cell_type": "code",
   "execution_count": 16,
   "id": "bb32704f",
   "metadata": {},
   "outputs": [
    {
     "name": "stdout",
     "output_type": "stream",
     "text": [
      "hi\n",
      "g\n",
      "gnirts si siht\n",
      "hs\n"
     ]
    }
   ],
   "source": [
    "x=\"this is string\"\n",
    "print(x[1:3])\n",
    "print(x[-1])\n",
    "print(x[::-1])\n",
    "print(x[1:5:2])"
   ]
  },
  {
   "cell_type": "code",
   "execution_count": 19,
   "id": "3ca208d3",
   "metadata": {},
   "outputs": [
    {
     "data": {
      "text/plain": [
       "'Hello World'"
      ]
     },
     "execution_count": 19,
     "metadata": {},
     "output_type": "execute_result"
    }
   ],
   "source": [
    "str1='Hello'\n",
    "str2='World'\n",
    "str1+\" \"+str2"
   ]
  },
  {
   "cell_type": "markdown",
   "id": "399c8ee9",
   "metadata": {},
   "source": [
    "Formatting Strings"
   ]
  },
  {
   "cell_type": "code",
   "execution_count": 22,
   "id": "54303780",
   "metadata": {},
   "outputs": [
    {
     "name": "stdout",
     "output_type": "stream",
     "text": [
      "Enter a no:-4\n",
      "-4 is neg\n"
     ]
    }
   ],
   "source": [
    "#WAAP a no as input from user and print number is pos\n",
    "num=int(input(\"Enter a no:\"))\n",
    "if num>0:\n",
    "    print(num,\"is pos\")\n",
    "else:\n",
    "    print(num,\"is neg\")"
   ]
  },
  {
   "cell_type": "code",
   "execution_count": 26,
   "id": "4b957321",
   "metadata": {},
   "outputs": [
    {
     "name": "stdout",
     "output_type": "stream",
     "text": [
      "My name is Bob and I am 25 years old.\n"
     ]
    }
   ],
   "source": [
    "name='Bob'\n",
    "age=25\n",
    "formattedstr=\"My name is {} and I am {} years old.\".format(name,age)\n",
    "print(formattedstr)"
   ]
  },
  {
   "cell_type": "code",
   "execution_count": 27,
   "id": "f5eaf2cc",
   "metadata": {},
   "outputs": [
    {
     "name": "stdout",
     "output_type": "stream",
     "text": [
      "My name is Bob and I am 25 years old.\n"
     ]
    }
   ],
   "source": [
    "name='Bob'\n",
    "age=25\n",
    "formattedstr=\"My name is {0} and I am {1} years old.\".format(name,age)\n",
    "print(formattedstr)"
   ]
  },
  {
   "cell_type": "code",
   "execution_count": 28,
   "id": "745e92de",
   "metadata": {},
   "outputs": [
    {
     "name": "stdout",
     "output_type": "stream",
     "text": [
      "My name is Bob and I am 25 years old.\n"
     ]
    }
   ],
   "source": [
    "name='Bob'\n",
    "age=25\n",
    "formattedstr=\"My name is {name} and I am {age} years old.\".format(name=name,age=age)\n",
    "print(formattedstr)"
   ]
  },
  {
   "cell_type": "code",
   "execution_count": 37,
   "id": "6cd771d6",
   "metadata": {},
   "outputs": [
    {
     "name": "stdout",
     "output_type": "stream",
     "text": [
      "5\n",
      "o\n",
      "e\n"
     ]
    }
   ],
   "source": [
    "t=\"hello\"\n",
    "print(len(t))\n",
    "print(max(t))\n",
    "#based on ASCII character values\n",
    "print(min(t))"
   ]
  },
  {
   "cell_type": "code",
   "execution_count": 39,
   "id": "09582a9d",
   "metadata": {},
   "outputs": [
    {
     "name": "stdout",
     "output_type": "stream",
     "text": [
      "o\n",
      "H\n",
      "HELLO\n",
      "hello\n",
      "['H', 'e', 'l', 'l', 'o']\n"
     ]
    }
   ],
   "source": [
    "t=\"Hello\"\n",
    "print(max(t))\n",
    "print(min(t))\n",
    "print(t.upper())\n",
    "print(t.lower())\n",
    "print(sorted(t))"
   ]
  },
  {
   "cell_type": "code",
   "execution_count": 40,
   "id": "527986d9",
   "metadata": {},
   "outputs": [
    {
     "data": {
      "text/plain": [
       "['Hello', 'how', 'are', 'you']"
      ]
     },
     "execution_count": 40,
     "metadata": {},
     "output_type": "execute_result"
    }
   ],
   "source": [
    "t1=\"Hello how are you\"\n",
    "t1.split()"
   ]
  },
  {
   "cell_type": "code",
   "execution_count": 42,
   "id": "4a54adf2",
   "metadata": {},
   "outputs": [
    {
     "data": {
      "text/plain": [
       "'Apple,Grape,Mango'"
      ]
     },
     "execution_count": 42,
     "metadata": {},
     "output_type": "execute_result"
    }
   ],
   "source": [
    "mystr=' ,Apple,Grape,Mango, '\n",
    "stripped_string1=mystr.strip()\n",
    "stripped_string1"
   ]
  },
  {
   "cell_type": "code",
   "execution_count": 50,
   "id": "a7f07ea4",
   "metadata": {},
   "outputs": [
    {
     "name": "stdout",
     "output_type": "stream",
     "text": [
      "Enter user email:ghj@hjk\n"
     ]
    }
   ],
   "source": [
    "#WAP to take user email as input from user and print string before @\n",
    "mystr=input(\"Enter user email:\")\n",
    "f\n",
    "for i in mystr.split():\n",
    "    if i=='@':\n",
    "        print(mystr[i::])"
   ]
  },
  {
   "cell_type": "code",
   "execution_count": 51,
   "id": "80213410",
   "metadata": {},
   "outputs": [],
   "source": [
    "#WAP to create a list to contain some elements as set.Perform the following operations on this list\n",
    "#1. No. of sets in list\n",
    "#2.Do union of all the sets in list\n",
    "#3. Do intersection of all the sets in list\n"
   ]
  },
  {
   "cell_type": "code",
   "execution_count": 52,
   "id": "c53f5960",
   "metadata": {},
   "outputs": [],
   "source": [
    "#WAP a program to create a dic odd which contains odd nos. in the given range.The dictionary\n",
    "#key values pairs defines such as key \n",
    "#value pair defines such key is 1. corresponding value is \"One \". Perform the following operations:\n",
    "#1. Print all key in dictionary\n",
    "#2. Print all values in dictionary\n",
    "#3. Find length of the dictionary.\n",
    "#4. Check the given key is present in the dictionary .\n",
    "#5. Print all the values of given key from dictionary.\n",
    "#6. Sort the dictionary\n",
    "#Note: No Library function to be used."
   ]
  },
  {
   "cell_type": "code",
   "execution_count": 53,
   "id": "c61487c0",
   "metadata": {},
   "outputs": [],
   "source": [
    "# WAP to create a dictionary called \"Calender\" in which elements are formed such as \n",
    "#Keys are name of month and values corresponding days. Now u perform the slicing on the dictionary on the \n",
    "#dictionary to print Month June to September."
   ]
  },
  {
   "cell_type": "code",
   "execution_count": null,
   "id": "c7e99827",
   "metadata": {},
   "outputs": [],
   "source": []
  }
 ],
 "metadata": {
  "kernelspec": {
   "display_name": "Python 3 (ipykernel)",
   "language": "python",
   "name": "python3"
  },
  "language_info": {
   "codemirror_mode": {
    "name": "ipython",
    "version": 3
   },
   "file_extension": ".py",
   "mimetype": "text/x-python",
   "name": "python",
   "nbconvert_exporter": "python",
   "pygments_lexer": "ipython3",
   "version": "3.11.5"
  }
 },
 "nbformat": 4,
 "nbformat_minor": 5
}
