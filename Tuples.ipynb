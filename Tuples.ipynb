{
 "cells": [
  {
   "cell_type": "code",
   "execution_count": 1,
   "id": "cc0d5bd8",
   "metadata": {},
   "outputs": [
    {
     "data": {
      "text/plain": [
       "5.0"
      ]
     },
     "execution_count": 1,
     "metadata": {},
     "output_type": "execute_result"
    }
   ],
   "source": [
    "mytuple=(31,2,3,'four',5.0,'*',19)\n",
    "mytuple[4]"
   ]
  },
  {
   "cell_type": "code",
   "execution_count": 2,
   "id": "6806d345",
   "metadata": {},
   "outputs": [
    {
     "name": "stdout",
     "output_type": "stream",
     "text": [
      "<class 'list'>\n"
     ]
    }
   ],
   "source": [
    "var=[\"hello\",]\n",
    "print(type(var))"
   ]
  },
  {
   "cell_type": "code",
   "execution_count": 3,
   "id": "0f91d8ee",
   "metadata": {},
   "outputs": [
    {
     "ename": "IndexError",
     "evalue": "tuple index out of range",
     "output_type": "error",
     "traceback": [
      "\u001b[1;31m---------------------------------------------------------------------------\u001b[0m",
      "\u001b[1;31mIndexError\u001b[0m                                Traceback (most recent call last)",
      "Cell \u001b[1;32mIn[3], line 2\u001b[0m\n\u001b[0;32m      1\u001b[0m mytuple\u001b[38;5;241m=\u001b[39m(\u001b[38;5;241m31\u001b[39m,\u001b[38;5;241m2\u001b[39m,\u001b[38;5;241m3\u001b[39m,\u001b[38;5;124m'\u001b[39m\u001b[38;5;124mfour\u001b[39m\u001b[38;5;124m'\u001b[39m,\u001b[38;5;241m5.0\u001b[39m,\u001b[38;5;124m'\u001b[39m\u001b[38;5;124m*\u001b[39m\u001b[38;5;124m'\u001b[39m,\u001b[38;5;241m19\u001b[39m)\n\u001b[1;32m----> 2\u001b[0m mytuple[\u001b[38;5;241m7\u001b[39m]\n",
      "\u001b[1;31mIndexError\u001b[0m: tuple index out of range"
     ]
    }
   ],
   "source": [
    "mytuple=(31,2,3,'four',5.0,'*',19)\n",
    "mytuple[7]"
   ]
  },
  {
   "cell_type": "code",
   "execution_count": 7,
   "id": "580b54d3",
   "metadata": {},
   "outputs": [
    {
     "data": {
      "text/plain": [
       "(5.0, '*')"
      ]
     },
     "execution_count": 7,
     "metadata": {},
     "output_type": "execute_result"
    }
   ],
   "source": [
    "mytuple=(31,2,3,'four',5.0,'*',19)\n",
    "mytuple[4:6]"
   ]
  },
  {
   "cell_type": "code",
   "execution_count": 8,
   "id": "de5c1fdf",
   "metadata": {},
   "outputs": [
    {
     "data": {
      "text/plain": [
       "(2, 'four', '*')"
      ]
     },
     "execution_count": 8,
     "metadata": {},
     "output_type": "execute_result"
    }
   ],
   "source": [
    "mytuple=(31,2,3,'four',5.0,'*',19)\n",
    "mytuple[1:6:2]"
   ]
  },
  {
   "cell_type": "code",
   "execution_count": 9,
   "id": "24b4d16f",
   "metadata": {},
   "outputs": [
    {
     "data": {
      "text/plain": [
       "(19, '*', 5.0, 'four', 3, 2, 31)"
      ]
     },
     "execution_count": 9,
     "metadata": {},
     "output_type": "execute_result"
    }
   ],
   "source": [
    "mytuple=(31,2,3,'four',5.0,'*',19)\n",
    "mytuple[::-1]"
   ]
  },
  {
   "cell_type": "code",
   "execution_count": 10,
   "id": "64b2b910",
   "metadata": {},
   "outputs": [
    {
     "data": {
      "text/plain": [
       "(1, 2, 3, 'a', 'b', 'c')"
      ]
     },
     "execution_count": 10,
     "metadata": {},
     "output_type": "execute_result"
    }
   ],
   "source": [
    "tuple1=(1,2,3)\n",
    "tuple2=('a','b','c')\n",
    "tuple1+tuple2"
   ]
  },
  {
   "cell_type": "code",
   "execution_count": 11,
   "id": "ba93c01d",
   "metadata": {},
   "outputs": [
    {
     "data": {
      "text/plain": [
       "(1, 2, 3, 1, 2, 3, 1, 2, 3)"
      ]
     },
     "execution_count": 11,
     "metadata": {},
     "output_type": "execute_result"
    }
   ],
   "source": [
    "tuple1=(1,2,3)\n",
    "tuple1*3"
   ]
  },
  {
   "cell_type": "code",
   "execution_count": 12,
   "id": "72958b3c",
   "metadata": {},
   "outputs": [
    {
     "ename": "TypeError",
     "evalue": "'tuple' object does not support item assignment",
     "output_type": "error",
     "traceback": [
      "\u001b[1;31m---------------------------------------------------------------------------\u001b[0m",
      "\u001b[1;31mTypeError\u001b[0m                                 Traceback (most recent call last)",
      "Cell \u001b[1;32mIn[12], line 2\u001b[0m\n\u001b[0;32m      1\u001b[0m tuple1\u001b[38;5;241m=\u001b[39m(\u001b[38;5;241m1\u001b[39m,\u001b[38;5;241m2\u001b[39m,\u001b[38;5;241m3\u001b[39m)\n\u001b[1;32m----> 2\u001b[0m tuple1[\u001b[38;5;241m0\u001b[39m]\u001b[38;5;241m=\u001b[39m\u001b[38;5;124m\"\u001b[39m\u001b[38;5;124mzero\u001b[39m\u001b[38;5;124m\"\u001b[39m\n",
      "\u001b[1;31mTypeError\u001b[0m: 'tuple' object does not support item assignment"
     ]
    }
   ],
   "source": [
    "tuple1=(1,2,3)\n",
    "tuple1[0]=\"zero\""
   ]
  },
  {
   "cell_type": "code",
   "execution_count": 13,
   "id": "b731ccd7",
   "metadata": {},
   "outputs": [
    {
     "data": {
      "text/plain": [
       "3"
      ]
     },
     "execution_count": 13,
     "metadata": {},
     "output_type": "execute_result"
    }
   ],
   "source": [
    "len(tuple1)"
   ]
  },
  {
   "cell_type": "code",
   "execution_count": 15,
   "id": "e7071702",
   "metadata": {},
   "outputs": [
    {
     "ename": "TypeError",
     "evalue": "'<' not supported between instances of 'str' and 'int'",
     "output_type": "error",
     "traceback": [
      "\u001b[1;31m---------------------------------------------------------------------------\u001b[0m",
      "\u001b[1;31mTypeError\u001b[0m                                 Traceback (most recent call last)",
      "Cell \u001b[1;32mIn[15], line 2\u001b[0m\n\u001b[0;32m      1\u001b[0m mytuple\u001b[38;5;241m=\u001b[39m(\u001b[38;5;241m31\u001b[39m,\u001b[38;5;241m2\u001b[39m,\u001b[38;5;241m3\u001b[39m,\u001b[38;5;124m'\u001b[39m\u001b[38;5;124mfour\u001b[39m\u001b[38;5;124m'\u001b[39m,\u001b[38;5;241m5.0\u001b[39m,\u001b[38;5;124m'\u001b[39m\u001b[38;5;124m*\u001b[39m\u001b[38;5;124m'\u001b[39m,\u001b[38;5;241m19\u001b[39m)\n\u001b[1;32m----> 2\u001b[0m \u001b[38;5;28msorted\u001b[39m(mytuple)\n",
      "\u001b[1;31mTypeError\u001b[0m: '<' not supported between instances of 'str' and 'int'"
     ]
    }
   ],
   "source": [
    "mytuple=(31,2,3,'four',5.0,'*',19)\n",
    "sorted(mytuple)"
   ]
  },
  {
   "cell_type": "code",
   "execution_count": 17,
   "id": "da2a47e1",
   "metadata": {},
   "outputs": [
    {
     "data": {
      "text/plain": [
       "[2, 3, 5.0, 19, 31]"
      ]
     },
     "execution_count": 17,
     "metadata": {},
     "output_type": "execute_result"
    }
   ],
   "source": [
    "mytuple=(31,2,3,5.0,19)\n",
    "sorted(mytuple)"
   ]
  },
  {
   "cell_type": "code",
   "execution_count": 18,
   "id": "14fa3e93",
   "metadata": {},
   "outputs": [
    {
     "data": {
      "text/plain": [
       "['abc', 'acha', 'and', 'haa', 'hmm', 'naa', 'okay', 'yeah']"
      ]
     },
     "execution_count": 18,
     "metadata": {},
     "output_type": "execute_result"
    }
   ],
   "source": [
    "mytuple=(\"abc\",\"and\",'hmm','yeah','okay','acha','haa','naa')\n",
    "sorted(mytuple)"
   ]
  },
  {
   "cell_type": "code",
   "execution_count": 25,
   "id": "51e7b6a5",
   "metadata": {},
   "outputs": [
    {
     "name": "stdout",
     "output_type": "stream",
     "text": [
      "4\n",
      "1\n",
      "11\n",
      "2\n"
     ]
    }
   ],
   "source": [
    "mytuple=(1,2,3,4,1)\n",
    "print(max(mytuple))\n",
    "print(min(mytuple))\n",
    "print(sum(mytuple))\n",
    "print(mytuple.count(1))"
   ]
  },
  {
   "cell_type": "code",
   "execution_count": 26,
   "id": "9913e2f1",
   "metadata": {},
   "outputs": [
    {
     "data": {
      "text/plain": [
       "2"
      ]
     },
     "execution_count": 26,
     "metadata": {},
     "output_type": "execute_result"
    }
   ],
   "source": [
    "mytuple=(1,2,3,4,1)\n",
    "mytuple.index(3)"
   ]
  },
  {
   "cell_type": "code",
   "execution_count": 34,
   "id": "d4fa669a",
   "metadata": {},
   "outputs": [
    {
     "name": "stdout",
     "output_type": "stream",
     "text": [
      "nana nahii\n"
     ]
    }
   ],
   "source": [
    "mytuple=(\"abc\",\"and\",'hmm','yeah','okay','acha','haa',('naa','naaa naaa','nana nahii'))\n",
    "print(mytuple[7][2])"
   ]
  },
  {
   "cell_type": "markdown",
   "id": "30188a67",
   "metadata": {},
   "source": [
    "    list-> []\n",
    "    tuple-> ()\n",
    "    set-> {}"
   ]
  },
  {
   "cell_type": "code",
   "execution_count": 37,
   "id": "0040e1a3",
   "metadata": {},
   "outputs": [
    {
     "data": {
      "text/plain": [
       "{'*', 1, 2, 3, 4, 5, 6, 7, 'four'}"
      ]
     },
     "execution_count": 37,
     "metadata": {},
     "output_type": "execute_result"
    }
   ],
   "source": [
    "set={1,2,3,'four',6,5,4,7,'*',6}\n",
    "set"
   ]
  },
  {
   "cell_type": "code",
   "execution_count": 42,
   "id": "e3f9c648",
   "metadata": {},
   "outputs": [
    {
     "name": "stdout",
     "output_type": "stream",
     "text": [
      "[1, 2, 3, (4, 5, 6)] <class 'list'>\n",
      "(1, 2, 3, [4, 5, 6]) <class 'tuple'>\n"
     ]
    }
   ],
   "source": [
    "l1=[1,2,3,(4,5,6)]\n",
    "t1=(1,2,3,[4,5,6])\n",
    "print(l1,type(l1))\n",
    "print(t1,type(t1))\n",
    "\n"
   ]
  },
  {
   "cell_type": "code",
   "execution_count": 47,
   "id": "51b43c8b",
   "metadata": {},
   "outputs": [
    {
     "data": {
      "text/plain": [
       "{1, 11, 111, 1111}"
      ]
     },
     "execution_count": 47,
     "metadata": {},
     "output_type": "execute_result"
    }
   ],
   "source": [
    "set1={1111,1111,1111,111,111,11,1,1}\n",
    "set1\n"
   ]
  },
  {
   "cell_type": "code",
   "execution_count": 46,
   "id": "d1ac9260",
   "metadata": {},
   "outputs": [
    {
     "name": "stdout",
     "output_type": "stream",
     "text": [
      "25\n"
     ]
    }
   ],
   "source": [
    "#WAPT print sum of all odd no.s in tuple\n",
    "tuple1=(1,2,3,4,5,6,7,8,9,10)\n",
    "sumt=0\n",
    "for i in tuple1:\n",
    "    if (i%2!=0):\n",
    "        sumt+=i\n",
    "print(sumt)"
   ]
  },
  {
   "cell_type": "code",
   "execution_count": 51,
   "id": "c97fc0ec",
   "metadata": {},
   "outputs": [
    {
     "ename": "TypeError",
     "evalue": "unsupported operand type(s) for +: 'set' and 'set'",
     "output_type": "error",
     "traceback": [
      "\u001b[1;31m---------------------------------------------------------------------------\u001b[0m",
      "\u001b[1;31mTypeError\u001b[0m                                 Traceback (most recent call last)",
      "Cell \u001b[1;32mIn[51], line 3\u001b[0m\n\u001b[0;32m      1\u001b[0m s1\u001b[38;5;241m=\u001b[39m{\u001b[38;5;241m1\u001b[39m,\u001b[38;5;241m2\u001b[39m,\u001b[38;5;241m3\u001b[39m}\n\u001b[0;32m      2\u001b[0m s2\u001b[38;5;241m=\u001b[39m{\u001b[38;5;241m2\u001b[39m,\u001b[38;5;241m4\u001b[39m,\u001b[38;5;241m5\u001b[39m}\n\u001b[1;32m----> 3\u001b[0m s1\u001b[38;5;241m+\u001b[39ms2\n",
      "\u001b[1;31mTypeError\u001b[0m: unsupported operand type(s) for +: 'set' and 'set'"
     ]
    }
   ],
   "source": [
    "s1={1,2,3}\n",
    "s2={2,4,5}\n",
    "s1+s2"
   ]
  },
  {
   "cell_type": "code",
   "execution_count": null,
   "id": "e0390095",
   "metadata": {},
   "outputs": [],
   "source": [
    "#WAP ask the user for an integer input and create a list that consists the factors of that integer"
   ]
  },
  {
   "cell_type": "code",
   "execution_count": 70,
   "id": "2d06dc6c",
   "metadata": {},
   "outputs": [
    {
     "name": "stdout",
     "output_type": "stream",
     "text": [
      "Enter the number to find factors of:360\n",
      "\n",
      "=================list of factors of  360 =================\n",
      "[1, 2, 3, 4, 5, 6, 8, 9, 10, 12, 15, 18, 20, 24, 30, 36, 40, 45, 60, 72, 90, 120, 180, 360]\n"
     ]
    }
   ],
   "source": [
    "num=int(input(\"Enter the number to find factors of:\"))\n",
    "list1=[]\n",
    "for i in range (1,num+1):\n",
    "    if num%i==0:\n",
    "        list1.append(i)\n",
    "print(\"\\n=================list of factors of \",num,\"=================\")\n",
    "print(list1 )       "
   ]
  },
  {
   "cell_type": "code",
   "execution_count": null,
   "id": "98dadd47",
   "metadata": {},
   "outputs": [],
   "source": []
  }
 ],
 "metadata": {
  "kernelspec": {
   "display_name": "Python 3 (ipykernel)",
   "language": "python",
   "name": "python3"
  },
  "language_info": {
   "codemirror_mode": {
    "name": "ipython",
    "version": 3
   },
   "file_extension": ".py",
   "mimetype": "text/x-python",
   "name": "python",
   "nbconvert_exporter": "python",
   "pygments_lexer": "ipython3",
   "version": "3.11.5"
  }
 },
 "nbformat": 4,
 "nbformat_minor": 5
}
