{
 "cells": [
  {
   "cell_type": "code",
   "execution_count": 1,
   "id": "9161a3ce",
   "metadata": {},
   "outputs": [
    {
     "name": "stdout",
     "output_type": "stream",
     "text": [
      "(9, 18, 2.0)\n",
      "<class 'tuple'>\n",
      "Sum= 9\n"
     ]
    },
    {
     "ename": "NameError",
     "evalue": "name 'products' is not defined",
     "output_type": "error",
     "traceback": [
      "\u001b[1;31m---------------------------------------------------------------------------\u001b[0m",
      "\u001b[1;31mNameError\u001b[0m                                 Traceback (most recent call last)",
      "Cell \u001b[1;32mIn[1], line 14\u001b[0m\n\u001b[0;32m     12\u001b[0m add,product,division\u001b[38;5;241m=\u001b[39mresult\n\u001b[0;32m     13\u001b[0m \u001b[38;5;28mprint\u001b[39m(\u001b[38;5;124m\"\u001b[39m\u001b[38;5;124mSum=\u001b[39m\u001b[38;5;124m\"\u001b[39m,add)\n\u001b[1;32m---> 14\u001b[0m \u001b[38;5;28mprint\u001b[39m(\u001b[38;5;124m\"\u001b[39m\u001b[38;5;124mProduct=\u001b[39m\u001b[38;5;132;01m{}\u001b[39;00m\u001b[38;5;124m\"\u001b[39m\u001b[38;5;241m.\u001b[39mformat(products))\n",
      "\u001b[1;31mNameError\u001b[0m: name 'products' is not defined"
     ]
    }
   ],
   "source": [
    "def sum_sub(a,b):\n",
    "    add=a+b\n",
    "    product=a*b\n",
    "    division=a/b\n",
    "    return add,product,division\n",
    "\n",
    "num1=6\n",
    "num2=3\n",
    "result=sum_sub(num1,num2)\n",
    "print(result)\n",
    "print(type(result))\n",
    "add,product,division=result\n",
    "print(\"Sum=\",add)\n",
    "print(\"Product={}\".format(products))"
   ]
  },
  {
   "cell_type": "code",
   "execution_count": null,
   "id": "02364989",
   "metadata": {},
   "outputs": [],
   "source": [
    "y1=50\n",
    "def myfunc():\n",
    "    y1=20\n",
    "    print(y1)\n",
    "myfunc()\n",
    "print(y1)"
   ]
  },
  {
   "cell_type": "code",
   "execution_count": null,
   "id": "34a686e8",
   "metadata": {},
   "outputs": [],
   "source": [
    "global_var=10\n",
    "def func():\n",
    "    local_var=50\n",
    "    print(\"Inside func():\",global_var)\n",
    "func()\n",
    "print(\"Outside func():\",local_var)"
   ]
  },
  {
   "cell_type": "code",
   "execution_count": null,
   "id": "bf8a3dd2",
   "metadata": {},
   "outputs": [],
   "source": [
    "z=300\n",
    "def myfunc():\n",
    "    z=34\n",
    "    print(z)\n",
    "myfunc()\n",
    "print(z)"
   ]
  },
  {
   "cell_type": "code",
   "execution_count": null,
   "id": "08fc9ee4",
   "metadata": {},
   "outputs": [],
   "source": [
    "b=300\n",
    "def myfunc():\n",
    "    global b\n",
    "    b=20\n",
    "    print(b)\n",
    "myfunc()\n",
    "print(b)"
   ]
  },
  {
   "cell_type": "code",
   "execution_count": null,
   "id": "e9193de7",
   "metadata": {},
   "outputs": [],
   "source": [
    "try:\n",
    "    k=5/0\n",
    "    print(k)\n",
    "except: \n",
    "    print(\"This is always executed\")\n",
    "finally:\n",
    "    print(\"always executed\")"
   ]
  },
  {
   "cell_type": "code",
   "execution_count": null,
   "id": "7e0a9604",
   "metadata": {},
   "outputs": [],
   "source": [
    "class Example:\n",
    "    def __init__(self,a,b):\n",
    "        self.a=a\n",
    "        self.b=b\n",
    "    def add(self):\n",
    "        return self.a+self.b\n",
    "e=Example(6,8)\n",
    "print(e.add())\n",
    "print(e.a)"
   ]
  },
  {
   "cell_type": "code",
   "execution_count": null,
   "id": "2345f393",
   "metadata": {},
   "outputs": [],
   "source": [
    "class Analyzer:\n",
    "    def __init__(self,s):\n",
    "        s=s.lower()\n",
    "        self.words=s.split()\n",
    "    def number_of_words(self):\n",
    "        return len(self.words)\n",
    "s=\"This is a test of how our class Analyzer will work.let's see\"    \n",
    "analyzer=Analyzer(s)  \n",
    "analyzer.words"
   ]
  },
  {
   "cell_type": "code",
   "execution_count": null,
   "id": "2fab7039",
   "metadata": {},
   "outputs": [],
   "source": [
    "analyzer.number_of_words()"
   ]
  },
  {
   "cell_type": "code",
   "execution_count": null,
   "id": "7da4d780",
   "metadata": {},
   "outputs": [],
   "source": [
    "class Person:\n",
    "    def __init__(self,name,age,branch):\n",
    "        self.name=name\n",
    "        self.age=age\n",
    "        self.branch=branch\n",
    "    def greet(self):\n",
    "        print(\"Hello,my name is {} and I am {} years old.\".format(self.name,self.age))\n",
    "    def edu_info(self):\n",
    "        print(\"i have completed my bTech in {}\".format(self.branch))"
   ]
  },
  {
   "cell_type": "code",
   "execution_count": null,
   "id": "9f54176e",
   "metadata": {},
   "outputs": [],
   "source": [
    "person1=Person(\"Alice\",30,'CSE')"
   ]
  },
  {
   "cell_type": "code",
   "execution_count": null,
   "id": "ddeeffa6",
   "metadata": {},
   "outputs": [],
   "source": [
    "person1.greet()"
   ]
  },
  {
   "cell_type": "code",
   "execution_count": null,
   "id": "a31f7b68",
   "metadata": {},
   "outputs": [],
   "source": [
    "person1.edu_info()"
   ]
  },
  {
   "cell_type": "code",
   "execution_count": null,
   "id": "a7c53bbe",
   "metadata": {},
   "outputs": [],
   "source": [
    "class Car:\n",
    "    pass"
   ]
  },
  {
   "cell_type": "code",
   "execution_count": null,
   "id": "d7a31c1e",
   "metadata": {},
   "outputs": [],
   "source": [
    "obj=Car()"
   ]
  },
  {
   "cell_type": "code",
   "execution_count": null,
   "id": "2f2459ee",
   "metadata": {},
   "outputs": [],
   "source": [
    "class Counter:\n",
    "    def set_count(self,count):\n",
    "        self.count=count\n",
    "counter_without_init=Counter()\n",
    "counter_without_init.set_count(10)\n",
    "print(\"Counter without init method:\",counter_without_init.count)"
   ]
  },
  {
   "cell_type": "code",
   "execution_count": null,
   "id": "a6a9d157",
   "metadata": {},
   "outputs": [],
   "source": [
    "class Counter:\n",
    "    def __init__(self,count):\n",
    "        self.count=count\n",
    "counter_with_init=Counter(5)\n",
    "print(\"Counter with init method:\",counter_with_init.count)"
   ]
  },
  {
   "cell_type": "code",
   "execution_count": null,
   "id": "59a0f187",
   "metadata": {},
   "outputs": [],
   "source": [
    "class MyClass:\n",
    "    def __init__(self,name):\n",
    "        self.name=name\n",
    "        print(f\"{self.name}created\")\n",
    "    def __del__(self):\n",
    "         print(f\"{self.name}destroyed\")\n",
    "obj1=MyClass(\"Object 1 \")\n",
    "obj2=MyClass(\"Object 2 \")\n",
    "del obj1\n",
    "del obj2\n"
   ]
  },
  {
   "cell_type": "markdown",
   "id": "952c1196",
   "metadata": {},
   "source": [
    "  - No Underscore:       Not protected\n",
    "  - Single Underscore:   Protected   \n",
    "  - Double Underscore:   Private    "
   ]
  },
  {
   "cell_type": "code",
   "execution_count": null,
   "id": "caa2c06e",
   "metadata": {},
   "outputs": [],
   "source": [
    "class BankAccount: \n",
    "    def __init__ (self, account_number, balance=0): \n",
    "        self.account_number = account_number # Encapsulated attribute \n",
    "        self.balance = balance # Encapsulated attribute \n",
    "    def deposit(self, amount): \n",
    "        if amount > 0: \n",
    "            self.balance += amount \n",
    "    def withdraw(self, amount): \n",
    "        if 0 < amount <= self.balance: \n",
    "            self.balance -= amount \n",
    "    def get_balance(self): \n",
    "        return self.balance \n",
    "    def get_account_number(self): \n",
    "        return self.account_number"
   ]
  },
  {
   "cell_type": "code",
   "execution_count": null,
   "id": "6bfbf126",
   "metadata": {},
   "outputs": [],
   "source": [
    "# Create an instance of BankAccount \n",
    "account = BankAccount(\"123456\", 1000) \n",
    "\n",
    "# Deposit and withdraw money \n",
    "account.deposit(500) \n",
    "account.withdraw(200) \n",
    "\n",
    "# Get account balance and number \n",
    "print(\"Account balance:\", account.get_balance()) \n",
    "print(\"Account number:\", account.get_account_number())"
   ]
  },
  {
   "cell_type": "code",
   "execution_count": null,
   "id": "83278320",
   "metadata": {},
   "outputs": [],
   "source": [
    "class Dog: \n",
    "    def speak(self): \n",
    "        return \"Woof!\" \n",
    "class Cat: \n",
    "    def speak(self): \n",
    "        return \"Meow!\" \n",
    "# Creating instances of animals \n",
    "dog = Dog() \n",
    "cat = Cat() \n",
    "# Using abstraction to make animals speak \n",
    "print(\"Dog says:\", dog.speak()) # Output: Dog says: Woof! \n",
    "print(\"Cat says:\", cat.speak()) # Output: Cat says: Meow!"
   ]
  },
  {
   "cell_type": "code",
   "execution_count": null,
   "id": "f68f2700",
   "metadata": {},
   "outputs": [],
   "source": [
    "# Example 1 \n",
    "class Animal: \n",
    "    def speak(self): \n",
    "        pass \n",
    "class Dog(Animal): \n",
    "    def speak(self): \n",
    "        return \"Woof!\" \n",
    "class Cat(Animal): \n",
    "    def speak(self): \n",
    "        return \"Meow!\" \n",
    "# Creating instances of animals \n",
    "dog = Dog() \n",
    "cat = Cat() \n",
    "# Using abstraction to make animals speak \n",
    "print(\"Dog says:\", dog.speak()) # Output: Dog says: Woof! \n",
    "print(\"Cat says:\", cat.speak()) # Output: Cat says: Meow! "
   ]
  },
  {
   "cell_type": "code",
   "execution_count": null,
   "id": "0060dd40",
   "metadata": {},
   "outputs": [],
   "source": [
    "class Shape: \n",
    "    def area(self): \n",
    "        pass \n",
    "    def perimeter(self):\n",
    "        pass\n",
    "    # Example 2 \n",
    "class Rectangle(Shape): \n",
    "    def __init__ (self, width, height): \n",
    "        self.width = width \n",
    "        self.height = height \n",
    "    def area(self): \n",
    "        return self.width * self.height \n",
    "    def perimeter(self): \n",
    "        return 2 * (self.width + self.height)"
   ]
  },
  {
   "cell_type": "code",
   "execution_count": null,
   "id": "fa465d53",
   "metadata": {},
   "outputs": [],
   "source": [
    "a=Rectangle(4,5)\n",
    "a.area()\n",
    "a.perimeter()"
   ]
  },
  {
   "cell_type": "code",
   "execution_count": null,
   "id": "65e25f42",
   "metadata": {},
   "outputs": [],
   "source": [
    "class Circle(Shape): \n",
    "    def __init__(self, radius): \n",
    "        self.radius = radius \n",
    "    def area(self): \n",
    "        return 3.14 * self.radius * self.radius \n",
    "    def perimeter(self): \n",
    "        return 2 * 3.14 * self.radius "
   ]
  },
  {
   "cell_type": "code",
   "execution_count": null,
   "id": "f6473b93",
   "metadata": {},
   "outputs": [],
   "source": [
    "ob=Circle(2)\n",
    "ob.area()"
   ]
  },
  {
   "cell_type": "code",
   "execution_count": null,
   "id": "6b86d395",
   "metadata": {},
   "outputs": [],
   "source": [
    "ob.perimeter()"
   ]
  },
  {
   "cell_type": "code",
   "execution_count": null,
   "id": "a8b6ac7b",
   "metadata": {},
   "outputs": [],
   "source": [
    "class Triangle(Shape): \n",
    "    def __init__(self, base, height): \n",
    "        self.base = base \n",
    "        self.height = height \n",
    "    def area(self): \n",
    "        return 0.5 * self.base * self.height \n",
    "    def perimeter(self): \n",
    "    # Assuming it's an equilateral triangle \n",
    "        return 3 * self.base"
   ]
  },
  {
   "cell_type": "code",
   "execution_count": null,
   "id": "2765d9e4",
   "metadata": {},
   "outputs": [],
   "source": [
    "# Creating instances of different shapes \n",
    "rectangle = Rectangle(4, 5) \n",
    "circle = Circle(3) \n",
    "triangle = Triangle(4, 5) \n",
    "# Using abstraction to calculate areas and perimeters \n",
    "print(\"Rectangle Area:\", rectangle.area()) \n",
    "print(\"Rectangle Perimeter:\", rectangle.perimeter()) \n",
    "print(\"Circle Area:\", circle.area()) \n",
    "print(\"Circle Perimeter:\", circle.perimeter()) \n",
    "print(\"Triangle Area:\", triangle.area()) \n",
    "print(\"Triangle Perimeter:\", triangle.perimeter())"
   ]
  },
  {
   "cell_type": "code",
   "execution_count": null,
   "id": "6962cb34",
   "metadata": {},
   "outputs": [],
   "source": [
    "class Parent: \n",
    "    def m1(self): \n",
    "        print(\"Parent class m1 method\") \n",
    "class Child(Parent): \n",
    "     def m2(self): \n",
    "        print(\"Child class m2 method\") \n",
    "c = Child() \n",
    "c.m1() \n",
    "c.m2()"
   ]
  },
  {
   "cell_type": "code",
   "execution_count": null,
   "id": "fd6f5c27",
   "metadata": {},
   "outputs": [],
   "source": [
    "class Parentl: \n",
    "    def m1(self): \n",
    "        print(\"Parentl Method\") \n",
    "class Parent2: \n",
    "    def m2(self): \n",
    "        print(\"Parent2 Method\") \n",
    "class Child(Parentl, Parent2): \n",
    "    def m3(self): \n",
    "        print(\"Child Method\") \n",
    "c=Child() \n",
    "c.m1() \n",
    "c.m2() \n",
    "c.m3()"
   ]
  },
  {
   "cell_type": "code",
   "execution_count": null,
   "id": "d99486d9",
   "metadata": {},
   "outputs": [],
   "source": [
    "class A: \n",
    "    def m1(self): \n",
    "        print(\"Parent class A: ml Method\") \n",
    "class B(A): \n",
    "    def m2(self): \n",
    "        print(\"Child class B derived from A: m2 Method\") \n",
    "class C(B): \n",
    "    def m3(self): \n",
    "        print(\"Child class C derived from B: m3 Method\") \n",
    "obj=C() \n",
    "obj.m1() \n",
    "obj.m2() \n",
    "obj.m3()"
   ]
  },
  {
   "cell_type": "code",
   "execution_count": null,
   "id": "59c38ec2",
   "metadata": {},
   "outputs": [],
   "source": [
    "# The base class \n",
    "class Parent: \n",
    "    def funA(self): \n",
    "        print(\"This function is in the parent class.\") \n",
    "# Derived class one \n",
    "class Child_one(Parent): \n",
    "    def funB(self): \n",
    "        print(\"This function is in class child_one.\") \n",
    "# Derived class two \n",
    "class Child_two(Parent): \n",
    "    def funC(self): \n",
    "        print(\"This function is in class child_two.\")"
   ]
  },
  {
   "cell_type": "code",
   "execution_count": null,
   "id": "68fe80c8",
   "metadata": {},
   "outputs": [],
   "source": [
    "obj=Child_two()\n",
    "obj.funC()"
   ]
  },
  {
   "cell_type": "code",
   "execution_count": null,
   "id": "9c392fc9",
   "metadata": {},
   "outputs": [],
   "source": [
    "class A: \n",
    "    def funcA(self): \n",
    "        print(\"Hello, you are now in class A\") \n",
    "class B(A): \n",
    "    def funcB(self): \n",
    "        print(\"Hello, you are now in class B\") \n",
    "class C(A): \n",
    "    def funcC(self): \n",
    "        print(\"Hello, you are now in class C\") \n",
    "class D(C,A): \n",
    "    def funcD(self): \n",
    "        print(\"Hello, you are now in class D\") \n",
    "obj = D() \n",
    "obj.funcD() \n",
    "obj.funcC() \n",
    "obj.funcA() \n"
   ]
  },
  {
   "cell_type": "code",
   "execution_count": null,
   "id": "9ff62691",
   "metadata": {},
   "outputs": [],
   "source": [
    "# Example \n",
    "a =10 \n",
    "b =20 \n",
    "print('Addition of 2 numbers:', a + b) \n",
    "strl = 'Hello ' \n",
    "str2 = 'Python' \n",
    "print('Concatenation of 2 strings:', strl + str2) \n",
    "listl = [1, 2, 3] \n",
    "list2 = ['A', 'B'] \n",
    "print('Concatenation of 2 lists:', listl + list2)"
   ]
  },
  {
   "cell_type": "code",
   "execution_count": null,
   "id": "31d29c7e",
   "metadata": {},
   "outputs": [],
   "source": [
    "# Example \n",
    "a =10 \n",
    "b =5 \n",
    "print('Multiplication of 2 numbers:', a * b) \n",
    "num = 3 \n",
    "mystr = 'Python'\n",
    "print('Multiplication of string:', num * mystr)"
   ]
  },
  {
   "cell_type": "code",
   "execution_count": null,
   "id": "fbafffaa",
   "metadata": {},
   "outputs": [],
   "source": [
    "# Example \n",
    "mystr = 'Programming' \n",
    "print('Length of string:', len(mystr)) \n",
    "mylist = [1, 2, 3, 4, 5] \n",
    "print('Length of list:', len(mylist)) \n",
    "mydict = {1: 'One', 2: 'Two'} \n",
    "print('Length of dict:', len(mydict))"
   ]
  },
  {
   "cell_type": "code",
   "execution_count": null,
   "id": "c9b4d587",
   "metadata": {},
   "outputs": [],
   "source": [
    "class Animal: \n",
    "    def speak(self): \n",
    "        pass \n",
    "class Dog(Animal): \n",
    "    def speak(self): \n",
    "        return \"Woof!\" \n",
    "class Cat(Animal): \n",
    "    def speak(self): \n",
    "        return \"Meow!\" \n",
    "class Duck(Animal): \n",
    "    def speak(self): \n",
    "        return \"Quack!\" \n",
    "# Function to make any animal speak \n",
    "def make_speak(animal): \n",
    "    print(animal.speak()) \n",
    "# Creating instances of different animals \n",
    "dog = Dog() \n",
    "cat = Cat() \n",
    "duck = Duck() \n",
    "# Using polymorphism to make animals speak \n",
    "make_speak (dog) \n",
    "make_speak(cat) \n",
    "make_speak (duck) "
   ]
  },
  {
   "cell_type": "code",
   "execution_count": null,
   "id": "c35c0312",
   "metadata": {},
   "outputs": [],
   "source": [
    "class Vehicle: \n",
    "    def __init__(self, brand, model, price): \n",
    "        self.brand = brand \n",
    "        self.model = model \n",
    "        self.price = price \n",
    "    def show(self): \n",
    "        print('Details:', self.brand, self.model, 'Price:', self.price) \n",
    "    def max_speed(self): \n",
    "        print('Vehicle max speed is 160') \n",
    "    def gear_system(self): \n",
    "        print('Vehicle has 6 shifter gearbox') \n",
    "    # 1inherit from vehicle class \n",
    "class Car(Vehicle): \n",
    "    def max_speed(self): \n",
    "        print('Car max speed is 260') \n",
    "    def gear_system(self): \n",
    "        print('Car has Automatic Transmission') \n",
    "# Car Object \n",
    "car = Car('Audi’', 'R8', 9000000) \n",
    "car.show() \n",
    "# call methods from Car class \n",
    "car.max_speed() \n",
    "car.gear_system() \n",
    "# Vehicle Object \n",
    "vehicle = Vehicle('Nissan', 'Magnite’', 550000) \n",
    "vehicle.show() \n",
    "# call method from a Vehicle class \n",
    "vehicle.max_speed() \n",
    "vehicle.gear_system() "
   ]
  },
  {
   "cell_type": "code",
   "execution_count": null,
   "id": "98b1638b",
   "metadata": {},
   "outputs": [],
   "source": [
    "#Example 1 \n",
    "class Example: \n",
    "    @staticmethod \n",
    "    def static_method(): \n",
    "        print(\"This is a static method\") \n",
    "# Call the static method directly using the class name \n",
    "Example.static_method()"
   ]
  },
  {
   "cell_type": "code",
   "execution_count": null,
   "id": "2ca8e837",
   "metadata": {},
   "outputs": [],
   "source": [
    "# Example 2 \n",
    "class MathOperations: \n",
    "    @staticmethod \n",
    "    def add(x, y): \n",
    "        return x + y \n",
    "    @staticmethod \n",
    "    def multiply(x, y): \n",
    "        return x * y \n",
    "# Calling static methods directly using the class name \n",
    "print(MathOperations.add(5, 3)) # Output: 8 \n",
    "print(MathOperations.multiply(5, 3)) # Output: 15 "
   ]
  },
  {
   "cell_type": "code",
   "execution_count": null,
   "id": "975f7014",
   "metadata": {},
   "outputs": [],
   "source": [
    "MAX_VALUE = 100 # Constant variable"
   ]
  },
  {
   "cell_type": "code",
   "execution_count": null,
   "id": "9041404e",
   "metadata": {},
   "outputs": [],
   "source": [
    "class Example: \n",
    "    def _final_method(self): \n",
    "        print(\"This is a final method\")\n",
    "e=Example()        \n",
    "e._final_method()"
   ]
  },
  {
   "cell_type": "code",
   "execution_count": null,
   "id": "d491f4ef",
   "metadata": {},
   "outputs": [],
   "source": [
    "class Car: \n",
    "    def __init_ (self, make, model, year): \n",
    "        self.make = make # Encapsulation using a leading underscore (Pub \n",
    "        self._model = model # Encapsulation using a leading underscore (Pr \n",
    "        self.__year = year # Encapsulation using two Leading underscores \n",
    "    def display_info(self): \n",
    "        print(f\"Car: {self.make} {self._model}\") \n",
    "# Creating an instance of the Car class \n",
    "car1 = Car(\"Toyota\", \"Camry\", 2020) \n",
    "# Using encapsulation to access attributes indirectly \n",
    "car1.display_info() \n",
    "# Accessing various attributes directrly \n",
    "print(car1.make) \n",
    "print(car1._model) \n",
    "print(car1.__year) "
   ]
  },
  {
   "cell_type": "code",
   "execution_count": null,
   "id": "821f1375",
   "metadata": {},
   "outputs": [],
   "source": [
    "# o get the location of your current working directory \n",
    "import os \n",
    "os.getcwd()"
   ]
  },
  {
   "cell_type": "code",
   "execution_count": null,
   "id": "3396eb26",
   "metadata": {},
   "outputs": [],
   "source": [
    "f = open(\"myfile.txt\", \"x\") "
   ]
  },
  {
   "cell_type": "code",
   "execution_count": null,
   "id": "350e6133",
   "metadata": {},
   "outputs": [],
   "source": [
    "f.close() "
   ]
  },
  {
   "cell_type": "code",
   "execution_count": null,
   "id": "35183c74",
   "metadata": {},
   "outputs": [],
   "source": [
    "f = open(\"myfile.txt\", \"a\") \n",
    "f.write(\"Now the file has some content!\") \n",
    "f.close()"
   ]
  },
  {
   "cell_type": "code",
   "execution_count": null,
   "id": "739ed236",
   "metadata": {},
   "outputs": [],
   "source": [
    "f = open(\"myfile.txt\", \"r\")\n",
    "print(f.read())"
   ]
  },
  {
   "cell_type": "code",
   "execution_count": null,
   "id": "07501541",
   "metadata": {},
   "outputs": [],
   "source": [
    "f = open(\"myfile.txt\", \"w\") \n",
    "f.write(\"Oops! I deleted the content\") \n",
    "f.close()"
   ]
  },
  {
   "cell_type": "code",
   "execution_count": null,
   "id": "093ce343",
   "metadata": {},
   "outputs": [],
   "source": [
    "f = open(\"myfile.txt\", \"r\")\n",
    "print(f.read())"
   ]
  },
  {
   "cell_type": "code",
   "execution_count": null,
   "id": "be81a0ed",
   "metadata": {},
   "outputs": [],
   "source": [
    "import os \n",
    "os.getcwd()"
   ]
  },
  {
   "cell_type": "code",
   "execution_count": null,
   "id": "67ff2ff4",
   "metadata": {},
   "outputs": [],
   "source": [
    "f = open(\"myfile.txt\") \n",
    "f.read() \n",
    "# OR f = o"
   ]
  },
  {
   "cell_type": "code",
   "execution_count": null,
   "id": "81c1aacb",
   "metadata": {},
   "outputs": [],
   "source": [
    "f=open(\"myfile.txt\", \"r\") \n",
    "for x in f: \n",
    "   print(x) "
   ]
  },
  {
   "cell_type": "code",
   "execution_count": null,
   "id": "c3a2686b",
   "metadata": {},
   "outputs": [],
   "source": [
    "f.close()"
   ]
  },
  {
   "cell_type": "code",
   "execution_count": null,
   "id": "5b81e063",
   "metadata": {},
   "outputs": [],
   "source": [
    "import os \n",
    "os.remove(\"myfile.txt\")"
   ]
  },
  {
   "cell_type": "code",
   "execution_count": null,
   "id": "ee5943c3",
   "metadata": {},
   "outputs": [],
   "source": [
    "#Check if file exists, then delete it: \n",
    "import os \n",
    "if os.path.exists(\"myfile.txt\"): \n",
    "    os.remove(\"myfile.txt\") \n",
    "else: \n",
    "    print(\"The file does not exist\")"
   ]
  },
  {
   "cell_type": "code",
   "execution_count": null,
   "id": "5b73dd90",
   "metadata": {},
   "outputs": [],
   "source": [
    "import os \n",
    "os.rmdir(\"myfolder\") "
   ]
  },
  {
   "cell_type": "code",
   "execution_count": null,
   "id": "c90b85d6",
   "metadata": {},
   "outputs": [],
   "source": [
    "def LinearSearch(array, n, k):\n",
    "    for j in range(0, n):\n",
    "        if (array[j] == k):\n",
    "            return j\n",
    "    return -1\n",
    "array = [1, 3, 5, 7, 9]\n",
    "k = 7\n",
    "n = len(array)\n",
    "result = LinearSearch(array, n, k)\n",
    "if(result == -1):\n",
    "    print(\"Element not found\")\n",
    "else:\n",
    "    print(\"Element found at index: \", result)\n"
   ]
  },
  {
   "cell_type": "code",
   "execution_count": 2,
   "id": "aaa5981d",
   "metadata": {},
   "outputs": [
    {
     "name": "stdout",
     "output_type": "stream",
     "text": [
      "81 occurs in position 5\n",
      " Does not appear in the list\n"
     ]
    }
   ],
   "source": [
    "def binary_search(list_num , to_search):\n",
    "    first_index = 0\n",
    "    size = len(list_num)\n",
    "    last_index = size - 1\n",
    "    mid_index = (first_index + last_index) // 2\n",
    "    # print(mid_index)\n",
    "    mid_element = list_num[mid_index]\n",
    "    # print(mid_element)\n",
    "    is_found = True\n",
    "    while is_found:\n",
    "        if first_index == last_index:\n",
    "            if mid_element != to_search:\n",
    "                is_found = False\n",
    "                return \" Does not appear in the list\"\n",
    "        elif mid_element == to_search:\n",
    "            return f\"{mid_element} occurs in position {mid_index}\"\n",
    "        elif mid_element > to_search:\n",
    "            new_position = mid_index - 1\n",
    "            last_index = new_position\n",
    "            mid_index = (first_index + last_index) // 2\n",
    "            mid_element = list_num[mid_index]\n",
    "            if mid_element == to_search:\n",
    "                return f\"{mid_element} occurs in position {mid_index}\"\n",
    "        elif mid_element < to_search:\n",
    "            new_position = mid_index + 1\n",
    "            first_index = new_position\n",
    "            last_index = size - 1\n",
    "            mid_index = (first_index + last_index) // 2\n",
    "            mid_element = list_num[mid_index]\n",
    "            if mid_element == to_search:\n",
    "                return f\"{mid_element} occurs in position {mid_index}\"\n",
    "list_container = [16 , 18 , 20 , 50 , 60 , 81 , 84 , 89]\n",
    "print(binary_search(list_container , 81))\n",
    "print(binary_search(list_container , 10))"
   ]
  },
  {
   "cell_type": "code",
   "execution_count": 3,
   "id": "375a3b6d",
   "metadata": {},
   "outputs": [
    {
     "name": "stdout",
     "output_type": "stream",
     "text": [
      "The unsorted list is:  [5, 3, 8, 6, 7, 2]\n",
      "The sorted list is:  [2, 3, 5, 6, 7, 8]\n"
     ]
    }
   ],
   "source": [
    "# Creating a bubble sort function\n",
    "def bubble_sort(list1):\n",
    "    # Outer loop for traverse the entire list\n",
    "    for i in range(0,len(list1)-1):\n",
    "        for j in range(len(list1)-1):\n",
    "            if(list1[j]>list1[j+1]):\n",
    "                temp = list1[j]\n",
    "                list1[j] = list1[j+1]\n",
    "                list1[j+1] = temp\n",
    "    return list1\n",
    "list1 = [5, 3, 8, 6, 7, 2]\n",
    "print(\"The unsorted list is: \", list1)\n",
    "# Calling the bubble sort function\n",
    "print(\"The sorted list is: \", bubble_sort(list1))"
   ]
  },
  {
   "cell_type": "code",
   "execution_count": 12,
   "id": "83b57db8",
   "metadata": {},
   "outputs": [],
   "source": [
    "import numpy as np \n",
    "from numpy import array"
   ]
  },
  {
   "cell_type": "code",
   "execution_count": 15,
   "id": "5f0fdd81",
   "metadata": {},
   "outputs": [
    {
     "data": {
      "text/plain": [
       "array([[1, 2, 3],\n",
       "       [4, 5, 6],\n",
       "       [7, 8, 9]])"
      ]
     },
     "execution_count": 15,
     "metadata": {},
     "output_type": "execute_result"
    }
   ],
   "source": [
    "\n",
    "my_list = [1,2,3] \n",
    "\n",
    "np.array(my_list) \n",
    "\n",
    "my_matrix = [[1,2,3],[4,5,6],[7,8,9]] \n",
    "\n",
    "np.array(my_matrix)"
   ]
  },
  {
   "cell_type": "code",
   "execution_count": 16,
   "id": "292bf1bd",
   "metadata": {},
   "outputs": [
    {
     "data": {
      "text/plain": [
       "array([0, 1, 2, 3, 4, 5, 6, 7, 8, 9])"
      ]
     },
     "execution_count": 16,
     "metadata": {},
     "output_type": "execute_result"
    }
   ],
   "source": [
    "np.arange(0,10) \n"
   ]
  },
  {
   "cell_type": "code",
   "execution_count": 18,
   "id": "675ceefb",
   "metadata": {},
   "outputs": [
    {
     "data": {
      "text/plain": [
       "array([ 0,  2,  4,  6,  8, 10])"
      ]
     },
     "execution_count": 18,
     "metadata": {},
     "output_type": "execute_result"
    }
   ],
   "source": [
    "np.arange(0,11,2)"
   ]
  },
  {
   "cell_type": "code",
   "execution_count": 19,
   "id": "5cdd2194",
   "metadata": {},
   "outputs": [
    {
     "data": {
      "text/plain": [
       "array([0., 0., 0.])"
      ]
     },
     "execution_count": 19,
     "metadata": {},
     "output_type": "execute_result"
    }
   ],
   "source": [
    "np.zeros(3)"
   ]
  },
  {
   "cell_type": "code",
   "execution_count": 20,
   "id": "2b3b8025",
   "metadata": {},
   "outputs": [
    {
     "data": {
      "text/plain": [
       "array([[0., 0., 0., 0., 0.],\n",
       "       [0., 0., 0., 0., 0.],\n",
       "       [0., 0., 0., 0., 0.],\n",
       "       [0., 0., 0., 0., 0.],\n",
       "       [0., 0., 0., 0., 0.]])"
      ]
     },
     "execution_count": 20,
     "metadata": {},
     "output_type": "execute_result"
    }
   ],
   "source": [
    "np.zeros((5,5)) "
   ]
  },
  {
   "cell_type": "code",
   "execution_count": 21,
   "id": "17613c91",
   "metadata": {},
   "outputs": [
    {
     "data": {
      "text/plain": [
       "array([1., 1., 1.])"
      ]
     },
     "execution_count": 21,
     "metadata": {},
     "output_type": "execute_result"
    }
   ],
   "source": [
    "np.ones(3)"
   ]
  },
  {
   "cell_type": "code",
   "execution_count": 22,
   "id": "c422f65b",
   "metadata": {},
   "outputs": [
    {
     "data": {
      "text/plain": [
       "array([[1., 1., 1.],\n",
       "       [1., 1., 1.],\n",
       "       [1., 1., 1.]])"
      ]
     },
     "execution_count": 22,
     "metadata": {},
     "output_type": "execute_result"
    }
   ],
   "source": [
    "np.ones((3,3)) "
   ]
  },
  {
   "cell_type": "code",
   "execution_count": 23,
   "id": "a0c22603",
   "metadata": {},
   "outputs": [
    {
     "data": {
      "text/plain": [
       "array([ 0.,  5., 10.])"
      ]
     },
     "execution_count": 23,
     "metadata": {},
     "output_type": "execute_result"
    }
   ],
   "source": [
    "np.linspace(0,10,3)"
   ]
  },
  {
   "cell_type": "code",
   "execution_count": 24,
   "id": "2a6a3092",
   "metadata": {},
   "outputs": [
    {
     "data": {
      "text/plain": [
       "array([ 0.        ,  0.20408163,  0.40816327,  0.6122449 ,  0.81632653,\n",
       "        1.02040816,  1.2244898 ,  1.42857143,  1.63265306,  1.83673469,\n",
       "        2.04081633,  2.24489796,  2.44897959,  2.65306122,  2.85714286,\n",
       "        3.06122449,  3.26530612,  3.46938776,  3.67346939,  3.87755102,\n",
       "        4.08163265,  4.28571429,  4.48979592,  4.69387755,  4.89795918,\n",
       "        5.10204082,  5.30612245,  5.51020408,  5.71428571,  5.91836735,\n",
       "        6.12244898,  6.32653061,  6.53061224,  6.73469388,  6.93877551,\n",
       "        7.14285714,  7.34693878,  7.55102041,  7.75510204,  7.95918367,\n",
       "        8.16326531,  8.36734694,  8.57142857,  8.7755102 ,  8.97959184,\n",
       "        9.18367347,  9.3877551 ,  9.59183673,  9.79591837, 10.        ])"
      ]
     },
     "execution_count": 24,
     "metadata": {},
     "output_type": "execute_result"
    }
   ],
   "source": [
    "np.linspace(0,10,50) "
   ]
  },
  {
   "cell_type": "code",
   "execution_count": 25,
   "id": "88624b64",
   "metadata": {},
   "outputs": [
    {
     "data": {
      "text/plain": [
       "array([[1., 0., 0., 0.],\n",
       "       [0., 1., 0., 0.],\n",
       "       [0., 0., 1., 0.],\n",
       "       [0., 0., 0., 1.]])"
      ]
     },
     "execution_count": 25,
     "metadata": {},
     "output_type": "execute_result"
    }
   ],
   "source": [
    "np.eye(4) "
   ]
  },
  {
   "cell_type": "code",
   "execution_count": 26,
   "id": "1e59ee75",
   "metadata": {},
   "outputs": [
    {
     "data": {
      "text/plain": [
       "array([0.48523078, 0.6451579 ])"
      ]
     },
     "execution_count": 26,
     "metadata": {},
     "output_type": "execute_result"
    }
   ],
   "source": [
    "np.random. rand(2)"
   ]
  },
  {
   "cell_type": "code",
   "execution_count": 27,
   "id": "cc3572a9",
   "metadata": {},
   "outputs": [
    {
     "data": {
      "text/plain": [
       "array([0.13533205, 0.05540398, 0.57356302, 0.00221801, 0.20513943])"
      ]
     },
     "execution_count": 27,
     "metadata": {},
     "output_type": "execute_result"
    }
   ],
   "source": [
    "np.random. rand(5)"
   ]
  },
  {
   "cell_type": "code",
   "execution_count": 30,
   "id": "129a4f7a",
   "metadata": {},
   "outputs": [
    {
     "data": {
      "text/plain": [
       "array([[0.18783461, 0.36392331, 0.86066846, 0.22283729, 0.84438579],\n",
       "       [0.03135638, 0.13206944, 0.70788596, 0.10049664, 0.74741796],\n",
       "       [0.90834426, 0.44126999, 0.289937  , 0.53253121, 0.96558965],\n",
       "       [0.50139564, 0.98372073, 0.2293884 , 0.19097786, 0.18133781],\n",
       "       [0.13475665, 0.06105839, 0.36941459, 0.82749393, 0.14221568]])"
      ]
     },
     "execution_count": 30,
     "metadata": {},
     "output_type": "execute_result"
    }
   ],
   "source": [
    "np.random. rand(5,5)"
   ]
  },
  {
   "cell_type": "code",
   "execution_count": 31,
   "id": "3746765a",
   "metadata": {},
   "outputs": [
    {
     "data": {
      "text/plain": [
       "array([-2.13133147, -1.35397298])"
      ]
     },
     "execution_count": 31,
     "metadata": {},
     "output_type": "execute_result"
    }
   ],
   "source": [
    "np.random. randn(2)"
   ]
  },
  {
   "cell_type": "code",
   "execution_count": 32,
   "id": "346518f1",
   "metadata": {},
   "outputs": [
    {
     "data": {
      "text/plain": [
       "array([[ 0.96468082,  0.16287543,  0.46688937, -0.18191622,  0.25817265],\n",
       "       [ 0.70680335,  0.12905974, -0.38956811, -2.53392446, -0.16331489],\n",
       "       [-0.74317643,  0.5249466 ,  0.96146394, -0.2815281 , -1.016326  ],\n",
       "       [ 1.24734626,  0.47452451, -0.07913503, -1.41981746, -1.55158895],\n",
       "       [ 0.17998205,  2.26029322,  1.04357069, -1.85845213,  0.71044914]])"
      ]
     },
     "execution_count": 32,
     "metadata": {},
     "output_type": "execute_result"
    }
   ],
   "source": [
    "np.random.randn(5,5) "
   ]
  },
  {
   "cell_type": "code",
   "execution_count": 33,
   "id": "73ecf2e3",
   "metadata": {},
   "outputs": [
    {
     "data": {
      "text/plain": [
       "8"
      ]
     },
     "execution_count": 33,
     "metadata": {},
     "output_type": "execute_result"
    }
   ],
   "source": [
    "np.random.randint(1,100) "
   ]
  },
  {
   "cell_type": "code",
   "execution_count": 34,
   "id": "c70198a7",
   "metadata": {},
   "outputs": [
    {
     "data": {
      "text/plain": [
       "array([93, 44, 76, 79, 72, 79, 56, 87, 11, 62])"
      ]
     },
     "execution_count": 34,
     "metadata": {},
     "output_type": "execute_result"
    }
   ],
   "source": [
    "np.random.randint(1,100,10) "
   ]
  },
  {
   "cell_type": "code",
   "execution_count": 35,
   "id": "8be46a7e",
   "metadata": {},
   "outputs": [],
   "source": [
    "arr = np.arange(25) \n",
    "ranarr = np.random.randint(0,50,10)"
   ]
  },
  {
   "cell_type": "code",
   "execution_count": 36,
   "id": "a22089fc",
   "metadata": {},
   "outputs": [
    {
     "data": {
      "text/plain": [
       "array([ 0,  1,  2,  3,  4,  5,  6,  7,  8,  9, 10, 11, 12, 13, 14, 15, 16,\n",
       "       17, 18, 19, 20, 21, 22, 23, 24])"
      ]
     },
     "execution_count": 36,
     "metadata": {},
     "output_type": "execute_result"
    }
   ],
   "source": [
    "arr\n"
   ]
  },
  {
   "cell_type": "code",
   "execution_count": 37,
   "id": "f6e68ca5",
   "metadata": {},
   "outputs": [
    {
     "data": {
      "text/plain": [
       "array([ 6, 24, 25, 19, 41, 44, 39, 24, 45, 41])"
      ]
     },
     "execution_count": 37,
     "metadata": {},
     "output_type": "execute_result"
    }
   ],
   "source": [
    "ranarr"
   ]
  },
  {
   "cell_type": "code",
   "execution_count": 38,
   "id": "d1c74e31",
   "metadata": {},
   "outputs": [
    {
     "data": {
      "text/plain": [
       "array([[ 0,  1,  2,  3,  4],\n",
       "       [ 5,  6,  7,  8,  9],\n",
       "       [10, 11, 12, 13, 14],\n",
       "       [15, 16, 17, 18, 19],\n",
       "       [20, 21, 22, 23, 24]])"
      ]
     },
     "execution_count": 38,
     "metadata": {},
     "output_type": "execute_result"
    }
   ],
   "source": [
    "arr.reshape(5,5) \n"
   ]
  },
  {
   "cell_type": "code",
   "execution_count": 39,
   "id": "a7c46483",
   "metadata": {},
   "outputs": [
    {
     "data": {
      "text/plain": [
       "array([ 6, 24, 25, 19, 41, 44, 39, 24, 45, 41])"
      ]
     },
     "execution_count": 39,
     "metadata": {},
     "output_type": "execute_result"
    }
   ],
   "source": [
    "ranarr"
   ]
  },
  {
   "cell_type": "code",
   "execution_count": 40,
   "id": "a3cb35f2",
   "metadata": {},
   "outputs": [
    {
     "data": {
      "text/plain": [
       "45"
      ]
     },
     "execution_count": 40,
     "metadata": {},
     "output_type": "execute_result"
    }
   ],
   "source": [
    "ranarr.max()"
   ]
  },
  {
   "cell_type": "code",
   "execution_count": 41,
   "id": "49b26300",
   "metadata": {},
   "outputs": [
    {
     "data": {
      "text/plain": [
       "8"
      ]
     },
     "execution_count": 41,
     "metadata": {},
     "output_type": "execute_result"
    }
   ],
   "source": [
    "ranarr.argmax()"
   ]
  },
  {
   "cell_type": "code",
   "execution_count": 42,
   "id": "23458f67",
   "metadata": {},
   "outputs": [
    {
     "data": {
      "text/plain": [
       "6"
      ]
     },
     "execution_count": 42,
     "metadata": {},
     "output_type": "execute_result"
    }
   ],
   "source": [
    "ranarr.min()"
   ]
  },
  {
   "cell_type": "code",
   "execution_count": 43,
   "id": "6558bb04",
   "metadata": {},
   "outputs": [
    {
     "data": {
      "text/plain": [
       "0"
      ]
     },
     "execution_count": 43,
     "metadata": {},
     "output_type": "execute_result"
    }
   ],
   "source": [
    "ranarr.argmin()"
   ]
  },
  {
   "cell_type": "code",
   "execution_count": 45,
   "id": "e716139f",
   "metadata": {},
   "outputs": [
    {
     "data": {
      "text/plain": [
       "(25,)"
      ]
     },
     "execution_count": 45,
     "metadata": {},
     "output_type": "execute_result"
    }
   ],
   "source": [
    "arr.shape\n"
   ]
  },
  {
   "cell_type": "code",
   "execution_count": 46,
   "id": "7d3419cc",
   "metadata": {},
   "outputs": [
    {
     "data": {
      "text/plain": [
       "array([[ 0,  1,  2,  3,  4,  5,  6,  7,  8,  9, 10, 11, 12, 13, 14, 15,\n",
       "        16, 17, 18, 19, 20, 21, 22, 23, 24]])"
      ]
     },
     "execution_count": 46,
     "metadata": {},
     "output_type": "execute_result"
    }
   ],
   "source": [
    "arr.reshape(1,25) "
   ]
  },
  {
   "cell_type": "code",
   "execution_count": 47,
   "id": "1d4dee96",
   "metadata": {},
   "outputs": [
    {
     "data": {
      "text/plain": [
       "(1, 25)"
      ]
     },
     "execution_count": 47,
     "metadata": {},
     "output_type": "execute_result"
    }
   ],
   "source": [
    "arr.reshape(1,25).shape "
   ]
  },
  {
   "cell_type": "code",
   "execution_count": 48,
   "id": "0ea1bb62",
   "metadata": {},
   "outputs": [
    {
     "data": {
      "text/plain": [
       "array([[ 0],\n",
       "       [ 1],\n",
       "       [ 2],\n",
       "       [ 3],\n",
       "       [ 4],\n",
       "       [ 5],\n",
       "       [ 6],\n",
       "       [ 7],\n",
       "       [ 8],\n",
       "       [ 9],\n",
       "       [10],\n",
       "       [11],\n",
       "       [12],\n",
       "       [13],\n",
       "       [14],\n",
       "       [15],\n",
       "       [16],\n",
       "       [17],\n",
       "       [18],\n",
       "       [19],\n",
       "       [20],\n",
       "       [21],\n",
       "       [22],\n",
       "       [23],\n",
       "       [24]])"
      ]
     },
     "execution_count": 48,
     "metadata": {},
     "output_type": "execute_result"
    }
   ],
   "source": [
    "arr.reshape(25,1) "
   ]
  },
  {
   "cell_type": "code",
   "execution_count": 49,
   "id": "83d1d26b",
   "metadata": {},
   "outputs": [
    {
     "data": {
      "text/plain": [
       "(25, 1)"
      ]
     },
     "execution_count": 49,
     "metadata": {},
     "output_type": "execute_result"
    }
   ],
   "source": [
    "arr.reshape(25,1).shape "
   ]
  },
  {
   "cell_type": "code",
   "execution_count": 50,
   "id": "23294455",
   "metadata": {},
   "outputs": [
    {
     "data": {
      "text/plain": [
       "dtype('int32')"
      ]
     },
     "execution_count": 50,
     "metadata": {},
     "output_type": "execute_result"
    }
   ],
   "source": [
    "arr.dtype "
   ]
  },
  {
   "cell_type": "code",
   "execution_count": 58,
   "id": "833119d9",
   "metadata": {},
   "outputs": [
    {
     "data": {
      "text/plain": [
       "array([ 0,  1,  2,  3,  4,  5,  6,  7,  8,  9, 10])"
      ]
     },
     "execution_count": 58,
     "metadata": {},
     "output_type": "execute_result"
    }
   ],
   "source": [
    "import numpy as np \n",
    "#Creating sample array \n",
    "arr = np.arange(0,11 )\n",
    "#Show \n",
    "arr "
   ]
  },
  {
   "cell_type": "code",
   "execution_count": 59,
   "id": "37046e58",
   "metadata": {},
   "outputs": [
    {
     "data": {
      "text/plain": [
       "8"
      ]
     },
     "execution_count": 59,
     "metadata": {},
     "output_type": "execute_result"
    }
   ],
   "source": [
    "arr[8]"
   ]
  },
  {
   "cell_type": "code",
   "execution_count": 60,
   "id": "72e4117d",
   "metadata": {},
   "outputs": [
    {
     "data": {
      "text/plain": [
       "array([1, 2, 3, 4])"
      ]
     },
     "execution_count": 60,
     "metadata": {},
     "output_type": "execute_result"
    }
   ],
   "source": [
    "arr[1:5] "
   ]
  },
  {
   "cell_type": "code",
   "execution_count": 61,
   "id": "bb5953a0",
   "metadata": {},
   "outputs": [
    {
     "data": {
      "text/plain": [
       "array([0, 1, 2, 3, 4])"
      ]
     },
     "execution_count": 61,
     "metadata": {},
     "output_type": "execute_result"
    }
   ],
   "source": [
    "arr[0:5]"
   ]
  },
  {
   "cell_type": "code",
   "execution_count": 62,
   "id": "676c5105",
   "metadata": {},
   "outputs": [
    {
     "data": {
      "text/plain": [
       "array([100, 100, 100, 100, 100,   5,   6,   7,   8,   9,  10])"
      ]
     },
     "execution_count": 62,
     "metadata": {},
     "output_type": "execute_result"
    }
   ],
   "source": [
    "arr[0:5]=100\n",
    "arr"
   ]
  },
  {
   "cell_type": "code",
   "execution_count": 63,
   "id": "e4530f54",
   "metadata": {},
   "outputs": [],
   "source": [
    "arr = np.arange(0,11)"
   ]
  },
  {
   "cell_type": "code",
   "execution_count": 64,
   "id": "8ed9a242",
   "metadata": {},
   "outputs": [
    {
     "data": {
      "text/plain": [
       "array([ 0,  1,  2,  3,  4,  5,  6,  7,  8,  9, 10])"
      ]
     },
     "execution_count": 64,
     "metadata": {},
     "output_type": "execute_result"
    }
   ],
   "source": [
    "arr\n"
   ]
  },
  {
   "cell_type": "code",
   "execution_count": 65,
   "id": "45f29034",
   "metadata": {},
   "outputs": [],
   "source": [
    "slice_of_arr = arr[0:6]"
   ]
  },
  {
   "cell_type": "code",
   "execution_count": 66,
   "id": "c90032aa",
   "metadata": {},
   "outputs": [
    {
     "data": {
      "text/plain": [
       "array([0, 1, 2, 3, 4, 5])"
      ]
     },
     "execution_count": 66,
     "metadata": {},
     "output_type": "execute_result"
    }
   ],
   "source": [
    "slice_of_arr"
   ]
  },
  {
   "cell_type": "code",
   "execution_count": 67,
   "id": "773893f5",
   "metadata": {},
   "outputs": [
    {
     "data": {
      "text/plain": [
       "array([99, 99, 99, 99, 99, 99])"
      ]
     },
     "execution_count": 67,
     "metadata": {},
     "output_type": "execute_result"
    }
   ],
   "source": [
    "slice_of_arr[:]=99 \n",
    "slice_of_arr"
   ]
  },
  {
   "cell_type": "code",
   "execution_count": 68,
   "id": "17cfb3f3",
   "metadata": {},
   "outputs": [
    {
     "data": {
      "text/plain": [
       "array([99, 99, 99, 99, 99, 99,  6,  7,  8,  9, 10])"
      ]
     },
     "execution_count": 68,
     "metadata": {},
     "output_type": "execute_result"
    }
   ],
   "source": [
    "arr"
   ]
  },
  {
   "cell_type": "code",
   "execution_count": 69,
   "id": "3e81e641",
   "metadata": {},
   "outputs": [
    {
     "data": {
      "text/plain": [
       "array([99, 99, 99, 99, 99, 99,  6,  7,  8,  9, 10])"
      ]
     },
     "execution_count": 69,
     "metadata": {},
     "output_type": "execute_result"
    }
   ],
   "source": [
    "arr_copy = arr.copy() \n",
    "arr_copy"
   ]
  },
  {
   "cell_type": "code",
   "execution_count": 71,
   "id": "e9c2ef43",
   "metadata": {},
   "outputs": [],
   "source": [
    "arr_2d = np.array(([5,10,15],[20,25,30],[35,40,45])) "
   ]
  },
  {
   "cell_type": "code",
   "execution_count": 72,
   "id": "a3cb0b2d",
   "metadata": {},
   "outputs": [
    {
     "data": {
      "text/plain": [
       "array([[ 5, 10, 15],\n",
       "       [20, 25, 30],\n",
       "       [35, 40, 45]])"
      ]
     },
     "execution_count": 72,
     "metadata": {},
     "output_type": "execute_result"
    }
   ],
   "source": [
    "arr_2d"
   ]
  },
  {
   "cell_type": "code",
   "execution_count": 73,
   "id": "19e95c4e",
   "metadata": {},
   "outputs": [
    {
     "data": {
      "text/plain": [
       "array([20, 25, 30])"
      ]
     },
     "execution_count": 73,
     "metadata": {},
     "output_type": "execute_result"
    }
   ],
   "source": [
    "arr_2d[1]"
   ]
  },
  {
   "cell_type": "code",
   "execution_count": 74,
   "id": "8b221b18",
   "metadata": {},
   "outputs": [
    {
     "data": {
      "text/plain": [
       "20"
      ]
     },
     "execution_count": 74,
     "metadata": {},
     "output_type": "execute_result"
    }
   ],
   "source": [
    "arr_2d[1][0]"
   ]
  },
  {
   "cell_type": "code",
   "execution_count": 75,
   "id": "5be0a7e7",
   "metadata": {},
   "outputs": [
    {
     "data": {
      "text/plain": [
       "array([[10, 15],\n",
       "       [25, 30]])"
      ]
     },
     "execution_count": 75,
     "metadata": {},
     "output_type": "execute_result"
    }
   ],
   "source": [
    "arr_2d[:2,1:] "
   ]
  },
  {
   "cell_type": "code",
   "execution_count": 76,
   "id": "415300cc",
   "metadata": {},
   "outputs": [
    {
     "data": {
      "text/plain": [
       "array([35, 40, 45])"
      ]
     },
     "execution_count": 76,
     "metadata": {},
     "output_type": "execute_result"
    }
   ],
   "source": [
    "arr_2d[2]"
   ]
  },
  {
   "cell_type": "code",
   "execution_count": 77,
   "id": "bb96aff7",
   "metadata": {},
   "outputs": [
    {
     "data": {
      "text/plain": [
       "array([35, 40, 45])"
      ]
     },
     "execution_count": 77,
     "metadata": {},
     "output_type": "execute_result"
    }
   ],
   "source": [
    "arr_2d[2,:]"
   ]
  },
  {
   "cell_type": "code",
   "execution_count": 89,
   "id": "2a2ce979",
   "metadata": {},
   "outputs": [],
   "source": [
    "arr2d = np.zeros((10,10))"
   ]
  },
  {
   "cell_type": "code",
   "execution_count": 93,
   "id": "fde693ec",
   "metadata": {},
   "outputs": [],
   "source": [
    "arr_length = arr2d.shape[1]"
   ]
  },
  {
   "cell_type": "code",
   "execution_count": 96,
   "id": "9b4c88bc",
   "metadata": {},
   "outputs": [
    {
     "data": {
      "text/plain": [
       "10"
      ]
     },
     "execution_count": 96,
     "metadata": {},
     "output_type": "execute_result"
    }
   ],
   "source": [
    "arr_length"
   ]
  },
  {
   "cell_type": "code",
   "execution_count": 99,
   "id": "008faf42",
   "metadata": {},
   "outputs": [],
   "source": [
    "for i in range(arr_length):\n",
    " arr2d[i] = i"
   ]
  },
  {
   "cell_type": "code",
   "execution_count": 100,
   "id": "8d2da014",
   "metadata": {},
   "outputs": [
    {
     "data": {
      "text/plain": [
       "array([[0., 0., 0., 0., 0., 0., 0., 0., 0., 0.],\n",
       "       [1., 1., 1., 1., 1., 1., 1., 1., 1., 1.],\n",
       "       [2., 2., 2., 2., 2., 2., 2., 2., 2., 2.],\n",
       "       [3., 3., 3., 3., 3., 3., 3., 3., 3., 3.],\n",
       "       [4., 4., 4., 4., 4., 4., 4., 4., 4., 4.],\n",
       "       [5., 5., 5., 5., 5., 5., 5., 5., 5., 5.],\n",
       "       [6., 6., 6., 6., 6., 6., 6., 6., 6., 6.],\n",
       "       [7., 7., 7., 7., 7., 7., 7., 7., 7., 7.],\n",
       "       [8., 8., 8., 8., 8., 8., 8., 8., 8., 8.],\n",
       "       [9., 9., 9., 9., 9., 9., 9., 9., 9., 9.]])"
      ]
     },
     "execution_count": 100,
     "metadata": {},
     "output_type": "execute_result"
    }
   ],
   "source": [
    "arr2d"
   ]
  },
  {
   "cell_type": "code",
   "execution_count": 101,
   "id": "1c13db07",
   "metadata": {},
   "outputs": [
    {
     "data": {
      "text/plain": [
       "array([[2., 2., 2., 2., 2., 2., 2., 2., 2., 2.],\n",
       "       [4., 4., 4., 4., 4., 4., 4., 4., 4., 4.],\n",
       "       [6., 6., 6., 6., 6., 6., 6., 6., 6., 6.],\n",
       "       [8., 8., 8., 8., 8., 8., 8., 8., 8., 8.]])"
      ]
     },
     "execution_count": 101,
     "metadata": {},
     "output_type": "execute_result"
    }
   ],
   "source": [
    "arr2d[[2,4,6,8]]\n"
   ]
  },
  {
   "cell_type": "code",
   "execution_count": 102,
   "id": "90226f44",
   "metadata": {},
   "outputs": [
    {
     "data": {
      "text/plain": [
       "array([[6., 6., 6., 6., 6., 6., 6., 6., 6., 6.],\n",
       "       [4., 4., 4., 4., 4., 4., 4., 4., 4., 4.],\n",
       "       [2., 2., 2., 2., 2., 2., 2., 2., 2., 2.],\n",
       "       [7., 7., 7., 7., 7., 7., 7., 7., 7., 7.]])"
      ]
     },
     "execution_count": 102,
     "metadata": {},
     "output_type": "execute_result"
    }
   ],
   "source": [
    "arr2d[[6,4,2,7]]"
   ]
  },
  {
   "cell_type": "code",
   "execution_count": 103,
   "id": "425d3851",
   "metadata": {},
   "outputs": [
    {
     "data": {
      "text/plain": [
       "array([ 1,  2,  3,  4,  5,  6,  7,  8,  9, 10])"
      ]
     },
     "execution_count": 103,
     "metadata": {},
     "output_type": "execute_result"
    }
   ],
   "source": [
    "arr = np.arange(1,11)\n",
    "arr"
   ]
  },
  {
   "cell_type": "code",
   "execution_count": 104,
   "id": "4be1117f",
   "metadata": {},
   "outputs": [
    {
     "data": {
      "text/plain": [
       "array([False, False, False, False,  True,  True,  True,  True,  True,\n",
       "        True])"
      ]
     },
     "execution_count": 104,
     "metadata": {},
     "output_type": "execute_result"
    }
   ],
   "source": [
    "arr > 4"
   ]
  },
  {
   "cell_type": "code",
   "execution_count": 106,
   "id": "c6dd3be9",
   "metadata": {},
   "outputs": [
    {
     "data": {
      "text/plain": [
       "array([False, False, False, False,  True,  True,  True,  True,  True,\n",
       "        True])"
      ]
     },
     "execution_count": 106,
     "metadata": {},
     "output_type": "execute_result"
    }
   ],
   "source": [
    "bool_arr = arr>4\n",
    "bool_arr"
   ]
  },
  {
   "cell_type": "code",
   "execution_count": 107,
   "id": "09aee275",
   "metadata": {},
   "outputs": [
    {
     "data": {
      "text/plain": [
       "array([ 5,  6,  7,  8,  9, 10])"
      ]
     },
     "execution_count": 107,
     "metadata": {},
     "output_type": "execute_result"
    }
   ],
   "source": [
    "arr[bool_arr]\n"
   ]
  },
  {
   "cell_type": "code",
   "execution_count": 108,
   "id": "edcc3855",
   "metadata": {},
   "outputs": [
    {
     "data": {
      "text/plain": [
       "array([ 3,  4,  5,  6,  7,  8,  9, 10])"
      ]
     },
     "execution_count": 108,
     "metadata": {},
     "output_type": "execute_result"
    }
   ],
   "source": [
    "arr[arr>2]"
   ]
  },
  {
   "cell_type": "code",
   "execution_count": 109,
   "id": "59133893",
   "metadata": {},
   "outputs": [
    {
     "data": {
      "text/plain": [
       "array([ 3,  4,  5,  6,  7,  8,  9, 10])"
      ]
     },
     "execution_count": 109,
     "metadata": {},
     "output_type": "execute_result"
    }
   ],
   "source": [
    "x = 2\n",
    "arr[arr>x]"
   ]
  },
  {
   "cell_type": "code",
   "execution_count": 110,
   "id": "f2522889",
   "metadata": {},
   "outputs": [
    {
     "data": {
      "text/plain": [
       "array([ 0,  2,  4,  6,  8, 10, 12, 14, 16, 18])"
      ]
     },
     "execution_count": 110,
     "metadata": {},
     "output_type": "execute_result"
    }
   ],
   "source": [
    "import numpy as np\n",
    "arr = np.arange(0,10)\n",
    "arr + arr"
   ]
  },
  {
   "cell_type": "code",
   "execution_count": 111,
   "id": "4d626394",
   "metadata": {},
   "outputs": [
    {
     "data": {
      "text/plain": [
       "array([ 0,  1,  4,  9, 16, 25, 36, 49, 64, 81])"
      ]
     },
     "execution_count": 111,
     "metadata": {},
     "output_type": "execute_result"
    }
   ],
   "source": [
    "arr * arr"
   ]
  },
  {
   "cell_type": "code",
   "execution_count": 112,
   "id": "cd218a8b",
   "metadata": {},
   "outputs": [
    {
     "data": {
      "text/plain": [
       "array([0, 0, 0, 0, 0, 0, 0, 0, 0, 0])"
      ]
     },
     "execution_count": 112,
     "metadata": {},
     "output_type": "execute_result"
    }
   ],
   "source": [
    "arr - arr"
   ]
  },
  {
   "cell_type": "code",
   "execution_count": 113,
   "id": "220eccd5",
   "metadata": {},
   "outputs": [
    {
     "name": "stderr",
     "output_type": "stream",
     "text": [
      "C:\\Users\\Admin\\AppData\\Local\\Temp\\ipykernel_10472\\1862401812.py:1: RuntimeWarning: invalid value encountered in divide\n",
      "  arr/arr\n"
     ]
    },
    {
     "data": {
      "text/plain": [
       "array([nan,  1.,  1.,  1.,  1.,  1.,  1.,  1.,  1.,  1.])"
      ]
     },
     "execution_count": 113,
     "metadata": {},
     "output_type": "execute_result"
    }
   ],
   "source": [
    "arr/arr"
   ]
  },
  {
   "cell_type": "code",
   "execution_count": 114,
   "id": "604620dd",
   "metadata": {},
   "outputs": [
    {
     "data": {
      "text/plain": [
       "array([0, 1, 2, 3, 4, 5, 6, 7, 8, 9])"
      ]
     },
     "execution_count": 114,
     "metadata": {},
     "output_type": "execute_result"
    }
   ],
   "source": [
    "arr\n"
   ]
  },
  {
   "cell_type": "code",
   "execution_count": 115,
   "id": "7181854c",
   "metadata": {},
   "outputs": [
    {
     "name": "stderr",
     "output_type": "stream",
     "text": [
      "C:\\Users\\Admin\\AppData\\Local\\Temp\\ipykernel_10472\\255282349.py:1: RuntimeWarning: divide by zero encountered in divide\n",
      "  1/arr\n"
     ]
    },
    {
     "data": {
      "text/plain": [
       "array([       inf, 1.        , 0.5       , 0.33333333, 0.25      ,\n",
       "       0.2       , 0.16666667, 0.14285714, 0.125     , 0.11111111])"
      ]
     },
     "execution_count": 115,
     "metadata": {},
     "output_type": "execute_result"
    }
   ],
   "source": [
    "1/arr"
   ]
  },
  {
   "cell_type": "code",
   "execution_count": 116,
   "id": "2db58d6b",
   "metadata": {},
   "outputs": [
    {
     "data": {
      "text/plain": [
       "array([  0,   1,   8,  27,  64, 125, 216, 343, 512, 729], dtype=int32)"
      ]
     },
     "execution_count": 116,
     "metadata": {},
     "output_type": "execute_result"
    }
   ],
   "source": [
    "arr**3\n"
   ]
  },
  {
   "cell_type": "code",
   "execution_count": 117,
   "id": "2017ed30",
   "metadata": {},
   "outputs": [
    {
     "data": {
      "text/plain": [
       "array([0.        , 1.        , 1.41421356, 1.73205081, 2.        ,\n",
       "       2.23606798, 2.44948974, 2.64575131, 2.82842712, 3.        ])"
      ]
     },
     "execution_count": 117,
     "metadata": {},
     "output_type": "execute_result"
    }
   ],
   "source": [
    "np.sqrt(arr)\n"
   ]
  },
  {
   "cell_type": "code",
   "execution_count": 118,
   "id": "9ef1cada",
   "metadata": {},
   "outputs": [
    {
     "data": {
      "text/plain": [
       "array([1.00000000e+00, 2.71828183e+00, 7.38905610e+00, 2.00855369e+01,\n",
       "       5.45981500e+01, 1.48413159e+02, 4.03428793e+02, 1.09663316e+03,\n",
       "       2.98095799e+03, 8.10308393e+03])"
      ]
     },
     "execution_count": 118,
     "metadata": {},
     "output_type": "execute_result"
    }
   ],
   "source": [
    "np.exp(arr)\n"
   ]
  },
  {
   "cell_type": "code",
   "execution_count": 119,
   "id": "08e9be07",
   "metadata": {},
   "outputs": [
    {
     "data": {
      "text/plain": [
       "9"
      ]
     },
     "execution_count": 119,
     "metadata": {},
     "output_type": "execute_result"
    }
   ],
   "source": [
    "np.max(arr) "
   ]
  },
  {
   "cell_type": "code",
   "execution_count": 120,
   "id": "2f7c62d0",
   "metadata": {},
   "outputs": [
    {
     "data": {
      "text/plain": [
       "array([ 0.        ,  0.84147098,  0.90929743,  0.14112001, -0.7568025 ,\n",
       "       -0.95892427, -0.2794155 ,  0.6569866 ,  0.98935825,  0.41211849])"
      ]
     },
     "execution_count": 120,
     "metadata": {},
     "output_type": "execute_result"
    }
   ],
   "source": [
    "np.sin(arr)"
   ]
  },
  {
   "cell_type": "code",
   "execution_count": 121,
   "id": "6a173e9e",
   "metadata": {},
   "outputs": [
    {
     "name": "stderr",
     "output_type": "stream",
     "text": [
      "C:\\Users\\Admin\\AppData\\Local\\Temp\\ipykernel_10472\\3120950136.py:1: RuntimeWarning: divide by zero encountered in log\n",
      "  np.log(arr)\n"
     ]
    },
    {
     "data": {
      "text/plain": [
       "array([      -inf, 0.        , 0.69314718, 1.09861229, 1.38629436,\n",
       "       1.60943791, 1.79175947, 1.94591015, 2.07944154, 2.19722458])"
      ]
     },
     "execution_count": 121,
     "metadata": {},
     "output_type": "execute_result"
    }
   ],
   "source": [
    "np.log(arr)"
   ]
  },
  {
   "cell_type": "code",
   "execution_count": 122,
   "id": "1b1d5ca7",
   "metadata": {},
   "outputs": [],
   "source": [
    "import pandas as pd\n",
    "import numpy as np"
   ]
  },
  {
   "cell_type": "code",
   "execution_count": 123,
   "id": "dc3d5998",
   "metadata": {},
   "outputs": [],
   "source": [
    "from numpy.random import randn\n",
    "np.random.seed(101)\n"
   ]
  },
  {
   "cell_type": "code",
   "execution_count": 125,
   "id": "6e336c18",
   "metadata": {},
   "outputs": [],
   "source": [
    "df = pd.DataFrame(randn(5,4),index='A B C D E'.split(),columns='W X Y Z'.split())"
   ]
  },
  {
   "cell_type": "code",
   "execution_count": 126,
   "id": "c0fab0e1",
   "metadata": {},
   "outputs": [
    {
     "data": {
      "text/html": [
       "<div>\n",
       "<style scoped>\n",
       "    .dataframe tbody tr th:only-of-type {\n",
       "        vertical-align: middle;\n",
       "    }\n",
       "\n",
       "    .dataframe tbody tr th {\n",
       "        vertical-align: top;\n",
       "    }\n",
       "\n",
       "    .dataframe thead th {\n",
       "        text-align: right;\n",
       "    }\n",
       "</style>\n",
       "<table border=\"1\" class=\"dataframe\">\n",
       "  <thead>\n",
       "    <tr style=\"text-align: right;\">\n",
       "      <th></th>\n",
       "      <th>W</th>\n",
       "      <th>X</th>\n",
       "      <th>Y</th>\n",
       "      <th>Z</th>\n",
       "    </tr>\n",
       "  </thead>\n",
       "  <tbody>\n",
       "    <tr>\n",
       "      <th>A</th>\n",
       "      <td>2.706850</td>\n",
       "      <td>0.628133</td>\n",
       "      <td>0.907969</td>\n",
       "      <td>0.503826</td>\n",
       "    </tr>\n",
       "    <tr>\n",
       "      <th>B</th>\n",
       "      <td>0.651118</td>\n",
       "      <td>-0.319318</td>\n",
       "      <td>-0.848077</td>\n",
       "      <td>0.605965</td>\n",
       "    </tr>\n",
       "    <tr>\n",
       "      <th>C</th>\n",
       "      <td>-2.018168</td>\n",
       "      <td>0.740122</td>\n",
       "      <td>0.528813</td>\n",
       "      <td>-0.589001</td>\n",
       "    </tr>\n",
       "    <tr>\n",
       "      <th>D</th>\n",
       "      <td>0.188695</td>\n",
       "      <td>-0.758872</td>\n",
       "      <td>-0.933237</td>\n",
       "      <td>0.955057</td>\n",
       "    </tr>\n",
       "    <tr>\n",
       "      <th>E</th>\n",
       "      <td>0.190794</td>\n",
       "      <td>1.978757</td>\n",
       "      <td>2.605967</td>\n",
       "      <td>0.683509</td>\n",
       "    </tr>\n",
       "  </tbody>\n",
       "</table>\n",
       "</div>"
      ],
      "text/plain": [
       "          W         X         Y         Z\n",
       "A  2.706850  0.628133  0.907969  0.503826\n",
       "B  0.651118 -0.319318 -0.848077  0.605965\n",
       "C -2.018168  0.740122  0.528813 -0.589001\n",
       "D  0.188695 -0.758872 -0.933237  0.955057\n",
       "E  0.190794  1.978757  2.605967  0.683509"
      ]
     },
     "execution_count": 126,
     "metadata": {},
     "output_type": "execute_result"
    }
   ],
   "source": [
    "df"
   ]
  },
  {
   "cell_type": "code",
   "execution_count": 127,
   "id": "cc498a79",
   "metadata": {},
   "outputs": [
    {
     "data": {
      "text/plain": [
       "A    2.706850\n",
       "B    0.651118\n",
       "C   -2.018168\n",
       "D    0.188695\n",
       "E    0.190794\n",
       "Name: W, dtype: float64"
      ]
     },
     "execution_count": 127,
     "metadata": {},
     "output_type": "execute_result"
    }
   ],
   "source": [
    "df['W']"
   ]
  },
  {
   "cell_type": "code",
   "execution_count": 128,
   "id": "915e038c",
   "metadata": {},
   "outputs": [
    {
     "data": {
      "text/html": [
       "<div>\n",
       "<style scoped>\n",
       "    .dataframe tbody tr th:only-of-type {\n",
       "        vertical-align: middle;\n",
       "    }\n",
       "\n",
       "    .dataframe tbody tr th {\n",
       "        vertical-align: top;\n",
       "    }\n",
       "\n",
       "    .dataframe thead th {\n",
       "        text-align: right;\n",
       "    }\n",
       "</style>\n",
       "<table border=\"1\" class=\"dataframe\">\n",
       "  <thead>\n",
       "    <tr style=\"text-align: right;\">\n",
       "      <th></th>\n",
       "      <th>W</th>\n",
       "      <th>Z</th>\n",
       "    </tr>\n",
       "  </thead>\n",
       "  <tbody>\n",
       "    <tr>\n",
       "      <th>A</th>\n",
       "      <td>2.706850</td>\n",
       "      <td>0.503826</td>\n",
       "    </tr>\n",
       "    <tr>\n",
       "      <th>B</th>\n",
       "      <td>0.651118</td>\n",
       "      <td>0.605965</td>\n",
       "    </tr>\n",
       "    <tr>\n",
       "      <th>C</th>\n",
       "      <td>-2.018168</td>\n",
       "      <td>-0.589001</td>\n",
       "    </tr>\n",
       "    <tr>\n",
       "      <th>D</th>\n",
       "      <td>0.188695</td>\n",
       "      <td>0.955057</td>\n",
       "    </tr>\n",
       "    <tr>\n",
       "      <th>E</th>\n",
       "      <td>0.190794</td>\n",
       "      <td>0.683509</td>\n",
       "    </tr>\n",
       "  </tbody>\n",
       "</table>\n",
       "</div>"
      ],
      "text/plain": [
       "          W         Z\n",
       "A  2.706850  0.503826\n",
       "B  0.651118  0.605965\n",
       "C -2.018168 -0.589001\n",
       "D  0.188695  0.955057\n",
       "E  0.190794  0.683509"
      ]
     },
     "execution_count": 128,
     "metadata": {},
     "output_type": "execute_result"
    }
   ],
   "source": [
    "df[['W','Z']]"
   ]
  },
  {
   "cell_type": "code",
   "execution_count": 129,
   "id": "9806d302",
   "metadata": {},
   "outputs": [
    {
     "data": {
      "text/plain": [
       "A    2.706850\n",
       "B    0.651118\n",
       "C   -2.018168\n",
       "D    0.188695\n",
       "E    0.190794\n",
       "Name: W, dtype: float64"
      ]
     },
     "execution_count": 129,
     "metadata": {},
     "output_type": "execute_result"
    }
   ],
   "source": [
    "df.W"
   ]
  },
  {
   "cell_type": "code",
   "execution_count": 130,
   "id": "82b3fe7e",
   "metadata": {},
   "outputs": [
    {
     "data": {
      "text/plain": [
       "pandas.core.series.Series"
      ]
     },
     "execution_count": 130,
     "metadata": {},
     "output_type": "execute_result"
    }
   ],
   "source": [
    "type(df['W'])"
   ]
  },
  {
   "cell_type": "code",
   "execution_count": 134,
   "id": "b2dc9454",
   "metadata": {},
   "outputs": [],
   "source": [
    "df['new'] = df['W'] + df['Y']"
   ]
  },
  {
   "cell_type": "code",
   "execution_count": 135,
   "id": "cc4ee293",
   "metadata": {},
   "outputs": [
    {
     "data": {
      "text/html": [
       "<div>\n",
       "<style scoped>\n",
       "    .dataframe tbody tr th:only-of-type {\n",
       "        vertical-align: middle;\n",
       "    }\n",
       "\n",
       "    .dataframe tbody tr th {\n",
       "        vertical-align: top;\n",
       "    }\n",
       "\n",
       "    .dataframe thead th {\n",
       "        text-align: right;\n",
       "    }\n",
       "</style>\n",
       "<table border=\"1\" class=\"dataframe\">\n",
       "  <thead>\n",
       "    <tr style=\"text-align: right;\">\n",
       "      <th></th>\n",
       "      <th>W</th>\n",
       "      <th>X</th>\n",
       "      <th>Y</th>\n",
       "      <th>Z</th>\n",
       "      <th>new</th>\n",
       "    </tr>\n",
       "  </thead>\n",
       "  <tbody>\n",
       "    <tr>\n",
       "      <th>A</th>\n",
       "      <td>2.706850</td>\n",
       "      <td>0.628133</td>\n",
       "      <td>0.907969</td>\n",
       "      <td>0.503826</td>\n",
       "      <td>3.614819</td>\n",
       "    </tr>\n",
       "    <tr>\n",
       "      <th>B</th>\n",
       "      <td>0.651118</td>\n",
       "      <td>-0.319318</td>\n",
       "      <td>-0.848077</td>\n",
       "      <td>0.605965</td>\n",
       "      <td>-0.196959</td>\n",
       "    </tr>\n",
       "    <tr>\n",
       "      <th>C</th>\n",
       "      <td>-2.018168</td>\n",
       "      <td>0.740122</td>\n",
       "      <td>0.528813</td>\n",
       "      <td>-0.589001</td>\n",
       "      <td>-1.489355</td>\n",
       "    </tr>\n",
       "    <tr>\n",
       "      <th>D</th>\n",
       "      <td>0.188695</td>\n",
       "      <td>-0.758872</td>\n",
       "      <td>-0.933237</td>\n",
       "      <td>0.955057</td>\n",
       "      <td>-0.744542</td>\n",
       "    </tr>\n",
       "    <tr>\n",
       "      <th>E</th>\n",
       "      <td>0.190794</td>\n",
       "      <td>1.978757</td>\n",
       "      <td>2.605967</td>\n",
       "      <td>0.683509</td>\n",
       "      <td>2.796762</td>\n",
       "    </tr>\n",
       "  </tbody>\n",
       "</table>\n",
       "</div>"
      ],
      "text/plain": [
       "          W         X         Y         Z       new\n",
       "A  2.706850  0.628133  0.907969  0.503826  3.614819\n",
       "B  0.651118 -0.319318 -0.848077  0.605965 -0.196959\n",
       "C -2.018168  0.740122  0.528813 -0.589001 -1.489355\n",
       "D  0.188695 -0.758872 -0.933237  0.955057 -0.744542\n",
       "E  0.190794  1.978757  2.605967  0.683509  2.796762"
      ]
     },
     "execution_count": 135,
     "metadata": {},
     "output_type": "execute_result"
    }
   ],
   "source": [
    "df"
   ]
  },
  {
   "cell_type": "code",
   "execution_count": 140,
   "id": "1ae06e40",
   "metadata": {},
   "outputs": [
    {
     "data": {
      "text/html": [
       "<div>\n",
       "<style scoped>\n",
       "    .dataframe tbody tr th:only-of-type {\n",
       "        vertical-align: middle;\n",
       "    }\n",
       "\n",
       "    .dataframe tbody tr th {\n",
       "        vertical-align: top;\n",
       "    }\n",
       "\n",
       "    .dataframe thead th {\n",
       "        text-align: right;\n",
       "    }\n",
       "</style>\n",
       "<table border=\"1\" class=\"dataframe\">\n",
       "  <thead>\n",
       "    <tr style=\"text-align: right;\">\n",
       "      <th></th>\n",
       "      <th>W</th>\n",
       "      <th>X</th>\n",
       "      <th>Y</th>\n",
       "      <th>Z</th>\n",
       "    </tr>\n",
       "  </thead>\n",
       "  <tbody>\n",
       "    <tr>\n",
       "      <th>A</th>\n",
       "      <td>2.706850</td>\n",
       "      <td>0.628133</td>\n",
       "      <td>0.907969</td>\n",
       "      <td>0.503826</td>\n",
       "    </tr>\n",
       "    <tr>\n",
       "      <th>B</th>\n",
       "      <td>0.651118</td>\n",
       "      <td>-0.319318</td>\n",
       "      <td>-0.848077</td>\n",
       "      <td>0.605965</td>\n",
       "    </tr>\n",
       "    <tr>\n",
       "      <th>C</th>\n",
       "      <td>-2.018168</td>\n",
       "      <td>0.740122</td>\n",
       "      <td>0.528813</td>\n",
       "      <td>-0.589001</td>\n",
       "    </tr>\n",
       "    <tr>\n",
       "      <th>D</th>\n",
       "      <td>0.188695</td>\n",
       "      <td>-0.758872</td>\n",
       "      <td>-0.933237</td>\n",
       "      <td>0.955057</td>\n",
       "    </tr>\n",
       "    <tr>\n",
       "      <th>E</th>\n",
       "      <td>0.190794</td>\n",
       "      <td>1.978757</td>\n",
       "      <td>2.605967</td>\n",
       "      <td>0.683509</td>\n",
       "    </tr>\n",
       "  </tbody>\n",
       "</table>\n",
       "</div>"
      ],
      "text/plain": [
       "          W         X         Y         Z\n",
       "A  2.706850  0.628133  0.907969  0.503826\n",
       "B  0.651118 -0.319318 -0.848077  0.605965\n",
       "C -2.018168  0.740122  0.528813 -0.589001\n",
       "D  0.188695 -0.758872 -0.933237  0.955057\n",
       "E  0.190794  1.978757  2.605967  0.683509"
      ]
     },
     "execution_count": 140,
     "metadata": {},
     "output_type": "execute_result"
    }
   ],
   "source": [
    "df.drop('new',axis=1)"
   ]
  },
  {
   "cell_type": "code",
   "execution_count": 141,
   "id": "e8af0c4d",
   "metadata": {},
   "outputs": [
    {
     "data": {
      "text/html": [
       "<div>\n",
       "<style scoped>\n",
       "    .dataframe tbody tr th:only-of-type {\n",
       "        vertical-align: middle;\n",
       "    }\n",
       "\n",
       "    .dataframe tbody tr th {\n",
       "        vertical-align: top;\n",
       "    }\n",
       "\n",
       "    .dataframe thead th {\n",
       "        text-align: right;\n",
       "    }\n",
       "</style>\n",
       "<table border=\"1\" class=\"dataframe\">\n",
       "  <thead>\n",
       "    <tr style=\"text-align: right;\">\n",
       "      <th></th>\n",
       "      <th>W</th>\n",
       "      <th>X</th>\n",
       "      <th>Y</th>\n",
       "      <th>Z</th>\n",
       "      <th>new</th>\n",
       "    </tr>\n",
       "  </thead>\n",
       "  <tbody>\n",
       "    <tr>\n",
       "      <th>A</th>\n",
       "      <td>2.706850</td>\n",
       "      <td>0.628133</td>\n",
       "      <td>0.907969</td>\n",
       "      <td>0.503826</td>\n",
       "      <td>3.614819</td>\n",
       "    </tr>\n",
       "    <tr>\n",
       "      <th>B</th>\n",
       "      <td>0.651118</td>\n",
       "      <td>-0.319318</td>\n",
       "      <td>-0.848077</td>\n",
       "      <td>0.605965</td>\n",
       "      <td>-0.196959</td>\n",
       "    </tr>\n",
       "    <tr>\n",
       "      <th>C</th>\n",
       "      <td>-2.018168</td>\n",
       "      <td>0.740122</td>\n",
       "      <td>0.528813</td>\n",
       "      <td>-0.589001</td>\n",
       "      <td>-1.489355</td>\n",
       "    </tr>\n",
       "    <tr>\n",
       "      <th>D</th>\n",
       "      <td>0.188695</td>\n",
       "      <td>-0.758872</td>\n",
       "      <td>-0.933237</td>\n",
       "      <td>0.955057</td>\n",
       "      <td>-0.744542</td>\n",
       "    </tr>\n",
       "    <tr>\n",
       "      <th>E</th>\n",
       "      <td>0.190794</td>\n",
       "      <td>1.978757</td>\n",
       "      <td>2.605967</td>\n",
       "      <td>0.683509</td>\n",
       "      <td>2.796762</td>\n",
       "    </tr>\n",
       "  </tbody>\n",
       "</table>\n",
       "</div>"
      ],
      "text/plain": [
       "          W         X         Y         Z       new\n",
       "A  2.706850  0.628133  0.907969  0.503826  3.614819\n",
       "B  0.651118 -0.319318 -0.848077  0.605965 -0.196959\n",
       "C -2.018168  0.740122  0.528813 -0.589001 -1.489355\n",
       "D  0.188695 -0.758872 -0.933237  0.955057 -0.744542\n",
       "E  0.190794  1.978757  2.605967  0.683509  2.796762"
      ]
     },
     "execution_count": 141,
     "metadata": {},
     "output_type": "execute_result"
    }
   ],
   "source": [
    "df\n"
   ]
  },
  {
   "cell_type": "code",
   "execution_count": 142,
   "id": "dc6afd9a",
   "metadata": {},
   "outputs": [],
   "source": [
    "df.drop('new',axis=1,inplace=True)"
   ]
  },
  {
   "cell_type": "code",
   "execution_count": 143,
   "id": "83bd457e",
   "metadata": {},
   "outputs": [
    {
     "data": {
      "text/html": [
       "<div>\n",
       "<style scoped>\n",
       "    .dataframe tbody tr th:only-of-type {\n",
       "        vertical-align: middle;\n",
       "    }\n",
       "\n",
       "    .dataframe tbody tr th {\n",
       "        vertical-align: top;\n",
       "    }\n",
       "\n",
       "    .dataframe thead th {\n",
       "        text-align: right;\n",
       "    }\n",
       "</style>\n",
       "<table border=\"1\" class=\"dataframe\">\n",
       "  <thead>\n",
       "    <tr style=\"text-align: right;\">\n",
       "      <th></th>\n",
       "      <th>W</th>\n",
       "      <th>X</th>\n",
       "      <th>Y</th>\n",
       "      <th>Z</th>\n",
       "    </tr>\n",
       "  </thead>\n",
       "  <tbody>\n",
       "    <tr>\n",
       "      <th>A</th>\n",
       "      <td>2.706850</td>\n",
       "      <td>0.628133</td>\n",
       "      <td>0.907969</td>\n",
       "      <td>0.503826</td>\n",
       "    </tr>\n",
       "    <tr>\n",
       "      <th>B</th>\n",
       "      <td>0.651118</td>\n",
       "      <td>-0.319318</td>\n",
       "      <td>-0.848077</td>\n",
       "      <td>0.605965</td>\n",
       "    </tr>\n",
       "    <tr>\n",
       "      <th>C</th>\n",
       "      <td>-2.018168</td>\n",
       "      <td>0.740122</td>\n",
       "      <td>0.528813</td>\n",
       "      <td>-0.589001</td>\n",
       "    </tr>\n",
       "    <tr>\n",
       "      <th>D</th>\n",
       "      <td>0.188695</td>\n",
       "      <td>-0.758872</td>\n",
       "      <td>-0.933237</td>\n",
       "      <td>0.955057</td>\n",
       "    </tr>\n",
       "    <tr>\n",
       "      <th>E</th>\n",
       "      <td>0.190794</td>\n",
       "      <td>1.978757</td>\n",
       "      <td>2.605967</td>\n",
       "      <td>0.683509</td>\n",
       "    </tr>\n",
       "  </tbody>\n",
       "</table>\n",
       "</div>"
      ],
      "text/plain": [
       "          W         X         Y         Z\n",
       "A  2.706850  0.628133  0.907969  0.503826\n",
       "B  0.651118 -0.319318 -0.848077  0.605965\n",
       "C -2.018168  0.740122  0.528813 -0.589001\n",
       "D  0.188695 -0.758872 -0.933237  0.955057\n",
       "E  0.190794  1.978757  2.605967  0.683509"
      ]
     },
     "execution_count": 143,
     "metadata": {},
     "output_type": "execute_result"
    }
   ],
   "source": [
    "df"
   ]
  },
  {
   "cell_type": "code",
   "execution_count": 144,
   "id": "eb82baf3",
   "metadata": {},
   "outputs": [
    {
     "data": {
      "text/html": [
       "<div>\n",
       "<style scoped>\n",
       "    .dataframe tbody tr th:only-of-type {\n",
       "        vertical-align: middle;\n",
       "    }\n",
       "\n",
       "    .dataframe tbody tr th {\n",
       "        vertical-align: top;\n",
       "    }\n",
       "\n",
       "    .dataframe thead th {\n",
       "        text-align: right;\n",
       "    }\n",
       "</style>\n",
       "<table border=\"1\" class=\"dataframe\">\n",
       "  <thead>\n",
       "    <tr style=\"text-align: right;\">\n",
       "      <th></th>\n",
       "      <th>W</th>\n",
       "      <th>X</th>\n",
       "      <th>Y</th>\n",
       "      <th>Z</th>\n",
       "    </tr>\n",
       "  </thead>\n",
       "  <tbody>\n",
       "    <tr>\n",
       "      <th>A</th>\n",
       "      <td>2.706850</td>\n",
       "      <td>0.628133</td>\n",
       "      <td>0.907969</td>\n",
       "      <td>0.503826</td>\n",
       "    </tr>\n",
       "    <tr>\n",
       "      <th>B</th>\n",
       "      <td>0.651118</td>\n",
       "      <td>-0.319318</td>\n",
       "      <td>-0.848077</td>\n",
       "      <td>0.605965</td>\n",
       "    </tr>\n",
       "    <tr>\n",
       "      <th>C</th>\n",
       "      <td>-2.018168</td>\n",
       "      <td>0.740122</td>\n",
       "      <td>0.528813</td>\n",
       "      <td>-0.589001</td>\n",
       "    </tr>\n",
       "    <tr>\n",
       "      <th>D</th>\n",
       "      <td>0.188695</td>\n",
       "      <td>-0.758872</td>\n",
       "      <td>-0.933237</td>\n",
       "      <td>0.955057</td>\n",
       "    </tr>\n",
       "  </tbody>\n",
       "</table>\n",
       "</div>"
      ],
      "text/plain": [
       "          W         X         Y         Z\n",
       "A  2.706850  0.628133  0.907969  0.503826\n",
       "B  0.651118 -0.319318 -0.848077  0.605965\n",
       "C -2.018168  0.740122  0.528813 -0.589001\n",
       "D  0.188695 -0.758872 -0.933237  0.955057"
      ]
     },
     "execution_count": 144,
     "metadata": {},
     "output_type": "execute_result"
    }
   ],
   "source": [
    " df.drop('E',axis=0)\n"
   ]
  },
  {
   "cell_type": "code",
   "execution_count": 145,
   "id": "a55844aa",
   "metadata": {},
   "outputs": [
    {
     "data": {
      "text/html": [
       "<div>\n",
       "<style scoped>\n",
       "    .dataframe tbody tr th:only-of-type {\n",
       "        vertical-align: middle;\n",
       "    }\n",
       "\n",
       "    .dataframe tbody tr th {\n",
       "        vertical-align: top;\n",
       "    }\n",
       "\n",
       "    .dataframe thead th {\n",
       "        text-align: right;\n",
       "    }\n",
       "</style>\n",
       "<table border=\"1\" class=\"dataframe\">\n",
       "  <thead>\n",
       "    <tr style=\"text-align: right;\">\n",
       "      <th></th>\n",
       "      <th>W</th>\n",
       "      <th>X</th>\n",
       "      <th>Y</th>\n",
       "      <th>Z</th>\n",
       "    </tr>\n",
       "  </thead>\n",
       "  <tbody>\n",
       "    <tr>\n",
       "      <th>A</th>\n",
       "      <td>2.706850</td>\n",
       "      <td>0.628133</td>\n",
       "      <td>0.907969</td>\n",
       "      <td>0.503826</td>\n",
       "    </tr>\n",
       "    <tr>\n",
       "      <th>B</th>\n",
       "      <td>0.651118</td>\n",
       "      <td>-0.319318</td>\n",
       "      <td>-0.848077</td>\n",
       "      <td>0.605965</td>\n",
       "    </tr>\n",
       "    <tr>\n",
       "      <th>C</th>\n",
       "      <td>-2.018168</td>\n",
       "      <td>0.740122</td>\n",
       "      <td>0.528813</td>\n",
       "      <td>-0.589001</td>\n",
       "    </tr>\n",
       "    <tr>\n",
       "      <th>D</th>\n",
       "      <td>0.188695</td>\n",
       "      <td>-0.758872</td>\n",
       "      <td>-0.933237</td>\n",
       "      <td>0.955057</td>\n",
       "    </tr>\n",
       "    <tr>\n",
       "      <th>E</th>\n",
       "      <td>0.190794</td>\n",
       "      <td>1.978757</td>\n",
       "      <td>2.605967</td>\n",
       "      <td>0.683509</td>\n",
       "    </tr>\n",
       "  </tbody>\n",
       "</table>\n",
       "</div>"
      ],
      "text/plain": [
       "          W         X         Y         Z\n",
       "A  2.706850  0.628133  0.907969  0.503826\n",
       "B  0.651118 -0.319318 -0.848077  0.605965\n",
       "C -2.018168  0.740122  0.528813 -0.589001\n",
       "D  0.188695 -0.758872 -0.933237  0.955057\n",
       "E  0.190794  1.978757  2.605967  0.683509"
      ]
     },
     "execution_count": 145,
     "metadata": {},
     "output_type": "execute_result"
    }
   ],
   "source": [
    "df"
   ]
  },
  {
   "cell_type": "code",
   "execution_count": 146,
   "id": "cc6e0ede",
   "metadata": {},
   "outputs": [],
   "source": [
    " df.drop('E',axis=0,inplace=True)\n"
   ]
  },
  {
   "cell_type": "code",
   "execution_count": 147,
   "id": "3184b0b7",
   "metadata": {},
   "outputs": [
    {
     "data": {
      "text/html": [
       "<div>\n",
       "<style scoped>\n",
       "    .dataframe tbody tr th:only-of-type {\n",
       "        vertical-align: middle;\n",
       "    }\n",
       "\n",
       "    .dataframe tbody tr th {\n",
       "        vertical-align: top;\n",
       "    }\n",
       "\n",
       "    .dataframe thead th {\n",
       "        text-align: right;\n",
       "    }\n",
       "</style>\n",
       "<table border=\"1\" class=\"dataframe\">\n",
       "  <thead>\n",
       "    <tr style=\"text-align: right;\">\n",
       "      <th></th>\n",
       "      <th>W</th>\n",
       "      <th>X</th>\n",
       "      <th>Y</th>\n",
       "      <th>Z</th>\n",
       "    </tr>\n",
       "  </thead>\n",
       "  <tbody>\n",
       "    <tr>\n",
       "      <th>A</th>\n",
       "      <td>2.706850</td>\n",
       "      <td>0.628133</td>\n",
       "      <td>0.907969</td>\n",
       "      <td>0.503826</td>\n",
       "    </tr>\n",
       "    <tr>\n",
       "      <th>B</th>\n",
       "      <td>0.651118</td>\n",
       "      <td>-0.319318</td>\n",
       "      <td>-0.848077</td>\n",
       "      <td>0.605965</td>\n",
       "    </tr>\n",
       "    <tr>\n",
       "      <th>C</th>\n",
       "      <td>-2.018168</td>\n",
       "      <td>0.740122</td>\n",
       "      <td>0.528813</td>\n",
       "      <td>-0.589001</td>\n",
       "    </tr>\n",
       "    <tr>\n",
       "      <th>D</th>\n",
       "      <td>0.188695</td>\n",
       "      <td>-0.758872</td>\n",
       "      <td>-0.933237</td>\n",
       "      <td>0.955057</td>\n",
       "    </tr>\n",
       "  </tbody>\n",
       "</table>\n",
       "</div>"
      ],
      "text/plain": [
       "          W         X         Y         Z\n",
       "A  2.706850  0.628133  0.907969  0.503826\n",
       "B  0.651118 -0.319318 -0.848077  0.605965\n",
       "C -2.018168  0.740122  0.528813 -0.589001\n",
       "D  0.188695 -0.758872 -0.933237  0.955057"
      ]
     },
     "execution_count": 147,
     "metadata": {},
     "output_type": "execute_result"
    }
   ],
   "source": [
    "df"
   ]
  },
  {
   "cell_type": "code",
   "execution_count": 148,
   "id": "362c7237",
   "metadata": {},
   "outputs": [
    {
     "data": {
      "text/plain": [
       "W    2.706850\n",
       "X    0.628133\n",
       "Y    0.907969\n",
       "Z    0.503826\n",
       "Name: A, dtype: float64"
      ]
     },
     "execution_count": 148,
     "metadata": {},
     "output_type": "execute_result"
    }
   ],
   "source": [
    "df.loc['A']"
   ]
  },
  {
   "cell_type": "code",
   "execution_count": 149,
   "id": "aebb183c",
   "metadata": {},
   "outputs": [
    {
     "data": {
      "text/plain": [
       "W   -2.018168\n",
       "X    0.740122\n",
       "Y    0.528813\n",
       "Z   -0.589001\n",
       "Name: C, dtype: float64"
      ]
     },
     "execution_count": 149,
     "metadata": {},
     "output_type": "execute_result"
    }
   ],
   "source": [
    "df.iloc[2]"
   ]
  },
  {
   "cell_type": "code",
   "execution_count": 150,
   "id": "39481c76",
   "metadata": {},
   "outputs": [
    {
     "data": {
      "text/plain": [
       "-0.8480769834036315"
      ]
     },
     "execution_count": 150,
     "metadata": {},
     "output_type": "execute_result"
    }
   ],
   "source": [
    "df.loc['B','Y']"
   ]
  },
  {
   "cell_type": "code",
   "execution_count": 151,
   "id": "a6ef5476",
   "metadata": {},
   "outputs": [
    {
     "data": {
      "text/html": [
       "<div>\n",
       "<style scoped>\n",
       "    .dataframe tbody tr th:only-of-type {\n",
       "        vertical-align: middle;\n",
       "    }\n",
       "\n",
       "    .dataframe tbody tr th {\n",
       "        vertical-align: top;\n",
       "    }\n",
       "\n",
       "    .dataframe thead th {\n",
       "        text-align: right;\n",
       "    }\n",
       "</style>\n",
       "<table border=\"1\" class=\"dataframe\">\n",
       "  <thead>\n",
       "    <tr style=\"text-align: right;\">\n",
       "      <th></th>\n",
       "      <th>W</th>\n",
       "      <th>Y</th>\n",
       "    </tr>\n",
       "  </thead>\n",
       "  <tbody>\n",
       "    <tr>\n",
       "      <th>A</th>\n",
       "      <td>2.706850</td>\n",
       "      <td>0.907969</td>\n",
       "    </tr>\n",
       "    <tr>\n",
       "      <th>B</th>\n",
       "      <td>0.651118</td>\n",
       "      <td>-0.848077</td>\n",
       "    </tr>\n",
       "  </tbody>\n",
       "</table>\n",
       "</div>"
      ],
      "text/plain": [
       "          W         Y\n",
       "A  2.706850  0.907969\n",
       "B  0.651118 -0.848077"
      ]
     },
     "execution_count": 151,
     "metadata": {},
     "output_type": "execute_result"
    }
   ],
   "source": [
    " df.loc[['A','B'],['W','Y']]"
   ]
  },
  {
   "cell_type": "code",
   "execution_count": 152,
   "id": "2b18ff63",
   "metadata": {},
   "outputs": [
    {
     "data": {
      "text/html": [
       "<div>\n",
       "<style scoped>\n",
       "    .dataframe tbody tr th:only-of-type {\n",
       "        vertical-align: middle;\n",
       "    }\n",
       "\n",
       "    .dataframe tbody tr th {\n",
       "        vertical-align: top;\n",
       "    }\n",
       "\n",
       "    .dataframe thead th {\n",
       "        text-align: right;\n",
       "    }\n",
       "</style>\n",
       "<table border=\"1\" class=\"dataframe\">\n",
       "  <thead>\n",
       "    <tr style=\"text-align: right;\">\n",
       "      <th></th>\n",
       "      <th>W</th>\n",
       "      <th>X</th>\n",
       "      <th>Y</th>\n",
       "      <th>Z</th>\n",
       "    </tr>\n",
       "  </thead>\n",
       "  <tbody>\n",
       "    <tr>\n",
       "      <th>A</th>\n",
       "      <td>2.706850</td>\n",
       "      <td>0.628133</td>\n",
       "      <td>0.907969</td>\n",
       "      <td>0.503826</td>\n",
       "    </tr>\n",
       "    <tr>\n",
       "      <th>B</th>\n",
       "      <td>0.651118</td>\n",
       "      <td>-0.319318</td>\n",
       "      <td>-0.848077</td>\n",
       "      <td>0.605965</td>\n",
       "    </tr>\n",
       "    <tr>\n",
       "      <th>C</th>\n",
       "      <td>-2.018168</td>\n",
       "      <td>0.740122</td>\n",
       "      <td>0.528813</td>\n",
       "      <td>-0.589001</td>\n",
       "    </tr>\n",
       "    <tr>\n",
       "      <th>D</th>\n",
       "      <td>0.188695</td>\n",
       "      <td>-0.758872</td>\n",
       "      <td>-0.933237</td>\n",
       "      <td>0.955057</td>\n",
       "    </tr>\n",
       "  </tbody>\n",
       "</table>\n",
       "</div>"
      ],
      "text/plain": [
       "          W         X         Y         Z\n",
       "A  2.706850  0.628133  0.907969  0.503826\n",
       "B  0.651118 -0.319318 -0.848077  0.605965\n",
       "C -2.018168  0.740122  0.528813 -0.589001\n",
       "D  0.188695 -0.758872 -0.933237  0.955057"
      ]
     },
     "execution_count": 152,
     "metadata": {},
     "output_type": "execute_result"
    }
   ],
   "source": [
    "df"
   ]
  },
  {
   "cell_type": "code",
   "execution_count": 154,
   "id": "a03f22de",
   "metadata": {},
   "outputs": [
    {
     "data": {
      "text/html": [
       "<div>\n",
       "<style scoped>\n",
       "    .dataframe tbody tr th:only-of-type {\n",
       "        vertical-align: middle;\n",
       "    }\n",
       "\n",
       "    .dataframe tbody tr th {\n",
       "        vertical-align: top;\n",
       "    }\n",
       "\n",
       "    .dataframe thead th {\n",
       "        text-align: right;\n",
       "    }\n",
       "</style>\n",
       "<table border=\"1\" class=\"dataframe\">\n",
       "  <thead>\n",
       "    <tr style=\"text-align: right;\">\n",
       "      <th></th>\n",
       "      <th>W</th>\n",
       "      <th>X</th>\n",
       "      <th>Y</th>\n",
       "      <th>Z</th>\n",
       "    </tr>\n",
       "  </thead>\n",
       "  <tbody>\n",
       "    <tr>\n",
       "      <th>A</th>\n",
       "      <td>True</td>\n",
       "      <td>True</td>\n",
       "      <td>True</td>\n",
       "      <td>True</td>\n",
       "    </tr>\n",
       "    <tr>\n",
       "      <th>B</th>\n",
       "      <td>True</td>\n",
       "      <td>False</td>\n",
       "      <td>False</td>\n",
       "      <td>True</td>\n",
       "    </tr>\n",
       "    <tr>\n",
       "      <th>C</th>\n",
       "      <td>False</td>\n",
       "      <td>True</td>\n",
       "      <td>True</td>\n",
       "      <td>False</td>\n",
       "    </tr>\n",
       "    <tr>\n",
       "      <th>D</th>\n",
       "      <td>True</td>\n",
       "      <td>False</td>\n",
       "      <td>False</td>\n",
       "      <td>True</td>\n",
       "    </tr>\n",
       "  </tbody>\n",
       "</table>\n",
       "</div>"
      ],
      "text/plain": [
       "       W      X      Y      Z\n",
       "A   True   True   True   True\n",
       "B   True  False  False   True\n",
       "C  False   True   True  False\n",
       "D   True  False  False   True"
      ]
     },
     "execution_count": 154,
     "metadata": {},
     "output_type": "execute_result"
    }
   ],
   "source": [
    "df>0"
   ]
  },
  {
   "cell_type": "code",
   "execution_count": 155,
   "id": "fa0223cd",
   "metadata": {},
   "outputs": [
    {
     "data": {
      "text/html": [
       "<div>\n",
       "<style scoped>\n",
       "    .dataframe tbody tr th:only-of-type {\n",
       "        vertical-align: middle;\n",
       "    }\n",
       "\n",
       "    .dataframe tbody tr th {\n",
       "        vertical-align: top;\n",
       "    }\n",
       "\n",
       "    .dataframe thead th {\n",
       "        text-align: right;\n",
       "    }\n",
       "</style>\n",
       "<table border=\"1\" class=\"dataframe\">\n",
       "  <thead>\n",
       "    <tr style=\"text-align: right;\">\n",
       "      <th></th>\n",
       "      <th>W</th>\n",
       "      <th>X</th>\n",
       "      <th>Y</th>\n",
       "      <th>Z</th>\n",
       "    </tr>\n",
       "  </thead>\n",
       "  <tbody>\n",
       "    <tr>\n",
       "      <th>A</th>\n",
       "      <td>2.706850</td>\n",
       "      <td>0.628133</td>\n",
       "      <td>0.907969</td>\n",
       "      <td>0.503826</td>\n",
       "    </tr>\n",
       "    <tr>\n",
       "      <th>B</th>\n",
       "      <td>0.651118</td>\n",
       "      <td>NaN</td>\n",
       "      <td>NaN</td>\n",
       "      <td>0.605965</td>\n",
       "    </tr>\n",
       "    <tr>\n",
       "      <th>C</th>\n",
       "      <td>NaN</td>\n",
       "      <td>0.740122</td>\n",
       "      <td>0.528813</td>\n",
       "      <td>NaN</td>\n",
       "    </tr>\n",
       "    <tr>\n",
       "      <th>D</th>\n",
       "      <td>0.188695</td>\n",
       "      <td>NaN</td>\n",
       "      <td>NaN</td>\n",
       "      <td>0.955057</td>\n",
       "    </tr>\n",
       "  </tbody>\n",
       "</table>\n",
       "</div>"
      ],
      "text/plain": [
       "          W         X         Y         Z\n",
       "A  2.706850  0.628133  0.907969  0.503826\n",
       "B  0.651118       NaN       NaN  0.605965\n",
       "C       NaN  0.740122  0.528813       NaN\n",
       "D  0.188695       NaN       NaN  0.955057"
      ]
     },
     "execution_count": 155,
     "metadata": {},
     "output_type": "execute_result"
    }
   ],
   "source": [
    "df[df>0]"
   ]
  },
  {
   "cell_type": "code",
   "execution_count": 156,
   "id": "1abac39e",
   "metadata": {},
   "outputs": [
    {
     "data": {
      "text/html": [
       "<div>\n",
       "<style scoped>\n",
       "    .dataframe tbody tr th:only-of-type {\n",
       "        vertical-align: middle;\n",
       "    }\n",
       "\n",
       "    .dataframe tbody tr th {\n",
       "        vertical-align: top;\n",
       "    }\n",
       "\n",
       "    .dataframe thead th {\n",
       "        text-align: right;\n",
       "    }\n",
       "</style>\n",
       "<table border=\"1\" class=\"dataframe\">\n",
       "  <thead>\n",
       "    <tr style=\"text-align: right;\">\n",
       "      <th></th>\n",
       "      <th>W</th>\n",
       "      <th>X</th>\n",
       "      <th>Y</th>\n",
       "      <th>Z</th>\n",
       "    </tr>\n",
       "  </thead>\n",
       "  <tbody>\n",
       "    <tr>\n",
       "      <th>A</th>\n",
       "      <td>2.706850</td>\n",
       "      <td>0.628133</td>\n",
       "      <td>0.907969</td>\n",
       "      <td>0.503826</td>\n",
       "    </tr>\n",
       "    <tr>\n",
       "      <th>B</th>\n",
       "      <td>0.651118</td>\n",
       "      <td>-0.319318</td>\n",
       "      <td>-0.848077</td>\n",
       "      <td>0.605965</td>\n",
       "    </tr>\n",
       "    <tr>\n",
       "      <th>D</th>\n",
       "      <td>0.188695</td>\n",
       "      <td>-0.758872</td>\n",
       "      <td>-0.933237</td>\n",
       "      <td>0.955057</td>\n",
       "    </tr>\n",
       "  </tbody>\n",
       "</table>\n",
       "</div>"
      ],
      "text/plain": [
       "          W         X         Y         Z\n",
       "A  2.706850  0.628133  0.907969  0.503826\n",
       "B  0.651118 -0.319318 -0.848077  0.605965\n",
       "D  0.188695 -0.758872 -0.933237  0.955057"
      ]
     },
     "execution_count": 156,
     "metadata": {},
     "output_type": "execute_result"
    }
   ],
   "source": [
    "df[df['W']>0]"
   ]
  },
  {
   "cell_type": "code",
   "execution_count": 157,
   "id": "2af1e86a",
   "metadata": {},
   "outputs": [
    {
     "data": {
      "text/plain": [
       "A    0.907969\n",
       "B   -0.848077\n",
       "D   -0.933237\n",
       "Name: Y, dtype: float64"
      ]
     },
     "execution_count": 157,
     "metadata": {},
     "output_type": "execute_result"
    }
   ],
   "source": [
    "df[df['W']>0]['Y']"
   ]
  },
  {
   "cell_type": "code",
   "execution_count": 159,
   "id": "aff61104",
   "metadata": {},
   "outputs": [
    {
     "data": {
      "text/html": [
       "<div>\n",
       "<style scoped>\n",
       "    .dataframe tbody tr th:only-of-type {\n",
       "        vertical-align: middle;\n",
       "    }\n",
       "\n",
       "    .dataframe tbody tr th {\n",
       "        vertical-align: top;\n",
       "    }\n",
       "\n",
       "    .dataframe thead th {\n",
       "        text-align: right;\n",
       "    }\n",
       "</style>\n",
       "<table border=\"1\" class=\"dataframe\">\n",
       "  <thead>\n",
       "    <tr style=\"text-align: right;\">\n",
       "      <th></th>\n",
       "      <th>Y</th>\n",
       "      <th>X</th>\n",
       "    </tr>\n",
       "  </thead>\n",
       "  <tbody>\n",
       "    <tr>\n",
       "      <th>A</th>\n",
       "      <td>0.907969</td>\n",
       "      <td>0.628133</td>\n",
       "    </tr>\n",
       "    <tr>\n",
       "      <th>B</th>\n",
       "      <td>-0.848077</td>\n",
       "      <td>-0.319318</td>\n",
       "    </tr>\n",
       "    <tr>\n",
       "      <th>D</th>\n",
       "      <td>-0.933237</td>\n",
       "      <td>-0.758872</td>\n",
       "    </tr>\n",
       "  </tbody>\n",
       "</table>\n",
       "</div>"
      ],
      "text/plain": [
       "          Y         X\n",
       "A  0.907969  0.628133\n",
       "B -0.848077 -0.319318\n",
       "D -0.933237 -0.758872"
      ]
     },
     "execution_count": 159,
     "metadata": {},
     "output_type": "execute_result"
    }
   ],
   "source": [
    "df[df['W']>0][['Y','X']]"
   ]
  },
  {
   "cell_type": "code",
   "execution_count": 160,
   "id": "b69a9e9e",
   "metadata": {},
   "outputs": [
    {
     "data": {
      "text/html": [
       "<div>\n",
       "<style scoped>\n",
       "    .dataframe tbody tr th:only-of-type {\n",
       "        vertical-align: middle;\n",
       "    }\n",
       "\n",
       "    .dataframe tbody tr th {\n",
       "        vertical-align: top;\n",
       "    }\n",
       "\n",
       "    .dataframe thead th {\n",
       "        text-align: right;\n",
       "    }\n",
       "</style>\n",
       "<table border=\"1\" class=\"dataframe\">\n",
       "  <thead>\n",
       "    <tr style=\"text-align: right;\">\n",
       "      <th></th>\n",
       "      <th>W</th>\n",
       "      <th>X</th>\n",
       "      <th>Y</th>\n",
       "      <th>Z</th>\n",
       "    </tr>\n",
       "  </thead>\n",
       "  <tbody>\n",
       "  </tbody>\n",
       "</table>\n",
       "</div>"
      ],
      "text/plain": [
       "Empty DataFrame\n",
       "Columns: [W, X, Y, Z]\n",
       "Index: []"
      ]
     },
     "execution_count": 160,
     "metadata": {},
     "output_type": "execute_result"
    }
   ],
   "source": [
    "df[(df['W']>0) & (df['Y'] > 1)]"
   ]
  },
  {
   "cell_type": "code",
   "execution_count": 161,
   "id": "c3514af4",
   "metadata": {},
   "outputs": [
    {
     "data": {
      "text/html": [
       "<div>\n",
       "<style scoped>\n",
       "    .dataframe tbody tr th:only-of-type {\n",
       "        vertical-align: middle;\n",
       "    }\n",
       "\n",
       "    .dataframe tbody tr th {\n",
       "        vertical-align: top;\n",
       "    }\n",
       "\n",
       "    .dataframe thead th {\n",
       "        text-align: right;\n",
       "    }\n",
       "</style>\n",
       "<table border=\"1\" class=\"dataframe\">\n",
       "  <thead>\n",
       "    <tr style=\"text-align: right;\">\n",
       "      <th></th>\n",
       "      <th>W</th>\n",
       "      <th>X</th>\n",
       "      <th>Y</th>\n",
       "      <th>Z</th>\n",
       "    </tr>\n",
       "  </thead>\n",
       "  <tbody>\n",
       "    <tr>\n",
       "      <th>A</th>\n",
       "      <td>2.706850</td>\n",
       "      <td>0.628133</td>\n",
       "      <td>0.907969</td>\n",
       "      <td>0.503826</td>\n",
       "    </tr>\n",
       "    <tr>\n",
       "      <th>B</th>\n",
       "      <td>0.651118</td>\n",
       "      <td>-0.319318</td>\n",
       "      <td>-0.848077</td>\n",
       "      <td>0.605965</td>\n",
       "    </tr>\n",
       "    <tr>\n",
       "      <th>C</th>\n",
       "      <td>-2.018168</td>\n",
       "      <td>0.740122</td>\n",
       "      <td>0.528813</td>\n",
       "      <td>-0.589001</td>\n",
       "    </tr>\n",
       "    <tr>\n",
       "      <th>D</th>\n",
       "      <td>0.188695</td>\n",
       "      <td>-0.758872</td>\n",
       "      <td>-0.933237</td>\n",
       "      <td>0.955057</td>\n",
       "    </tr>\n",
       "  </tbody>\n",
       "</table>\n",
       "</div>"
      ],
      "text/plain": [
       "          W         X         Y         Z\n",
       "A  2.706850  0.628133  0.907969  0.503826\n",
       "B  0.651118 -0.319318 -0.848077  0.605965\n",
       "C -2.018168  0.740122  0.528813 -0.589001\n",
       "D  0.188695 -0.758872 -0.933237  0.955057"
      ]
     },
     "execution_count": 161,
     "metadata": {},
     "output_type": "execute_result"
    }
   ],
   "source": [
    "df\n"
   ]
  },
  {
   "cell_type": "code",
   "execution_count": 162,
   "id": "2c39abce",
   "metadata": {},
   "outputs": [],
   "source": [
    "import numpy as np\n",
    "import pandas as pd"
   ]
  },
  {
   "cell_type": "code",
   "execution_count": 163,
   "id": "1c54f330",
   "metadata": {},
   "outputs": [],
   "source": [
    "labels = ['a','b','c']\n",
    "my_list = [10,20,30]\n",
    "arr = np.array([10,20,30])\n",
    "d = {'a':10,'b':20,'c':30}"
   ]
  },
  {
   "cell_type": "code",
   "execution_count": 164,
   "id": "1f573cb9",
   "metadata": {},
   "outputs": [
    {
     "data": {
      "text/plain": [
       "0    10\n",
       "1    20\n",
       "2    30\n",
       "dtype: int64"
      ]
     },
     "execution_count": 164,
     "metadata": {},
     "output_type": "execute_result"
    }
   ],
   "source": [
    "pd.Series(data=my_list)"
   ]
  },
  {
   "cell_type": "code",
   "execution_count": 165,
   "id": "0693f64a",
   "metadata": {},
   "outputs": [
    {
     "data": {
      "text/plain": [
       "0      <built-in function sum>\n",
       "1    <built-in function print>\n",
       "2      <built-in function len>\n",
       "dtype: object"
      ]
     },
     "execution_count": 165,
     "metadata": {},
     "output_type": "execute_result"
    }
   ],
   "source": [
    "pd.Series([sum,print,len])"
   ]
  },
  {
   "cell_type": "code",
   "execution_count": null,
   "id": "e18359b5",
   "metadata": {},
   "outputs": [],
   "source": []
  }
 ],
 "metadata": {
  "kernelspec": {
   "display_name": "Python 3 (ipykernel)",
   "language": "python",
   "name": "python3"
  },
  "language_info": {
   "codemirror_mode": {
    "name": "ipython",
    "version": 3
   },
   "file_extension": ".py",
   "mimetype": "text/x-python",
   "name": "python",
   "nbconvert_exporter": "python",
   "pygments_lexer": "ipython3",
   "version": "3.11.5"
  }
 },
 "nbformat": 4,
 "nbformat_minor": 5
}
