{
 "cells": [
  {
   "cell_type": "code",
   "execution_count": 2,
   "id": "f6c15fa6",
   "metadata": {},
   "outputs": [
    {
     "name": "stdout",
     "output_type": "stream",
     "text": [
      "Element found at index:  3\n"
     ]
    }
   ],
   "source": [
    "def LinearSearch(array, n, k):\n",
    "    for j in range(0, n):\n",
    "        if (array[j] == k):\n",
    "            return j\n",
    "    return -1\n",
    "array = [1, 3, 5, 7, 9]\n",
    "k = 7\n",
    "n = len(array)\n",
    "result = LinearSearch(array, n, k)\n",
    "if(result == -1):\n",
    "    print(\"Element not found\")\n",
    "else:\n",
    "    print(\"Element found at index: \", result)\n"
   ]
  },
  {
   "cell_type": "code",
   "execution_count": null,
   "id": "2c2bd45b",
   "metadata": {},
   "outputs": [],
   "source": [
    "def binary_search(list_num,to_search):\n",
    "    first_index=0\n",
    "    size=len(list_num)\n",
    "    last_index=size-1\n",
    "    mid_index=(first_index+last_index)//2\n",
    "    mid_element=list_num[mid_index]\n",
    "    \n",
    "    is_found=True\n",
    "    while is_found:\n",
    "        if first_index==last_index:\n",
    "            is_found=False\n",
    "            return\"Does not appear in list\"\n",
    "        elif mid_element==to_search:\n",
    "            return f\"{mid_element}occurs in position{mid_index}\"\n",
    "        elif mid_element>to_search:\n",
    "            new_position=mid_index-1\n",
    "            last_index=new_position\n",
    "            mid_element=list_num[mid_index]\n",
    "            if mid_element==to_search:\n",
    "                return f\"{mid_element}occurrs in position{mid_index}\"\n",
    "list_container=[16,18,20,50,60,81,84,89]\n",
    "print(binary_search(list_container,81))\n",
    "print(binary_search(list_container,10))"
   ]
  },
  {
   "cell_type": "code",
   "execution_count": null,
   "id": "549874ee",
   "metadata": {},
   "outputs": [],
   "source": [
    "def binary_search(list_num,to_search):\n",
    "    first_index=0\n",
    "    size=len(list_num)\n",
    "    last_index=size-1\n",
    "    mid_index=(first_index+last_index)//2\n",
    "    mid_element=list_num[mid_index]\n",
    "    \n",
    "    is_found=True\n",
    "    while is_found:\n",
    "        if first_index==last_index:\n",
    "            is_found=False\n",
    "            return\"Does not appear in list\"\n",
    "        elif mid_element==to_search:\n",
    "            return f\"{mid_element}occurs in position{mid_index}\"\n",
    "        elif mid_element>to_search:\n",
    "            new_position=mid_index-1\n",
    "            last_index=new_position\n",
    "            mid_element=list_num[mid_index]\n",
    "            if mid_element==to_search:\n",
    "                return f\"{mid_element}occurrs in position{mid_index}\"\n",
    "list_container=[16,18,20,50,60,81,84,89]\n",
    "print(binary_search(list_container,81))\n",
    "print(binary_search(list_container,10))"
   ]
  },
  {
   "cell_type": "code",
   "execution_count": null,
   "id": "6db3cd8f",
   "metadata": {},
   "outputs": [],
   "source": []
  }
 ],
 "metadata": {
  "kernelspec": {
   "display_name": "Python 3 (ipykernel)",
   "language": "python",
   "name": "python3"
  },
  "language_info": {
   "codemirror_mode": {
    "name": "ipython",
    "version": 3
   },
   "file_extension": ".py",
   "mimetype": "text/x-python",
   "name": "python",
   "nbconvert_exporter": "python",
   "pygments_lexer": "ipython3",
   "version": "3.11.5"
  }
 },
 "nbformat": 4,
 "nbformat_minor": 5
}
