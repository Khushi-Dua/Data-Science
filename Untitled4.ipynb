{
 "cells": [
  {
   "cell_type": "code",
   "execution_count": 1,
   "id": "c3c3a30d",
   "metadata": {},
   "outputs": [],
   "source": [
    "import numpy as np\n",
    "import matplotlib.pyplot as py\n",
    "import seaborn \n"
   ]
  },
  {
   "cell_type": "code",
   "execution_count": null,
   "id": "cb8ba364",
   "metadata": {},
   "outputs": [],
   "source": [
    "plt.figure(10,3)\n",
    "plt.subplot(1,2,2)\n",
    "plt.scatter(x,y).marker=\"\""
   ]
  }
 ],
 "metadata": {
  "kernelspec": {
   "display_name": "Python 3 (ipykernel)",
   "language": "python",
   "name": "python3"
  },
  "language_info": {
   "codemirror_mode": {
    "name": "ipython",
    "version": 3
   },
   "file_extension": ".py",
   "mimetype": "text/x-python",
   "name": "python",
   "nbconvert_exporter": "python",
   "pygments_lexer": "ipython3",
   "version": "3.11.5"
  }
 },
 "nbformat": 4,
 "nbformat_minor": 5
}
